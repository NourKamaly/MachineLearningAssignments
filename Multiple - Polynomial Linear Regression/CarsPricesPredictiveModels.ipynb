{
  "cells": [
    {
      "cell_type": "code",
      "execution_count": 42,
      "id": "f9ed841a",
      "metadata": {
        "id": "f9ed841a"
      },
      "outputs": [],
      "source": [
        "import numpy as np\n",
        "import pandas as pd \n",
        "import seaborn as sns\n",
        "import matplotlib.pyplot as plt\n",
        "from sklearn.model_selection import train_test_split\n",
        "from sklearn.linear_model import LinearRegression\n",
        "from sklearn import metrics\n",
        "from sklearn.preprocessing import PolynomialFeatures\n",
        "from sklearn.linear_model import Lasso\n",
        "import warnings\n",
        "warnings.filterwarnings(\"ignore\")"
      ]
    },
    {
      "cell_type": "code",
      "execution_count": 43,
      "id": "9183eb2b",
      "metadata": {
        "colab": {
          "base_uri": "https://localhost:8080/"
        },
        "id": "9183eb2b",
        "outputId": "7f65f116-4571-4e61-95ce-21d57400442a"
      },
      "outputs": [
        {
          "data": {
            "text/html": [
              "<div>\n",
              "<style scoped>\n",
              "    .dataframe tbody tr th:only-of-type {\n",
              "        vertical-align: middle;\n",
              "    }\n",
              "\n",
              "    .dataframe tbody tr th {\n",
              "        vertical-align: top;\n",
              "    }\n",
              "\n",
              "    .dataframe thead th {\n",
              "        text-align: right;\n",
              "    }\n",
              "</style>\n",
              "<table border=\"1\" class=\"dataframe\">\n",
              "  <thead>\n",
              "    <tr style=\"text-align: right;\">\n",
              "      <th></th>\n",
              "      <th>car_maker</th>\n",
              "      <th>year</th>\n",
              "      <th>kilometers</th>\n",
              "      <th>price</th>\n",
              "    </tr>\n",
              "  </thead>\n",
              "  <tbody>\n",
              "    <tr>\n",
              "      <th>0</th>\n",
              "      <td>Toyota</td>\n",
              "      <td>2019</td>\n",
              "      <td>14999.5</td>\n",
              "      <td>58375.0</td>\n",
              "    </tr>\n",
              "    <tr>\n",
              "      <th>1</th>\n",
              "      <td>Kia</td>\n",
              "      <td>2006</td>\n",
              "      <td>0.0</td>\n",
              "      <td>10000.0</td>\n",
              "    </tr>\n",
              "    <tr>\n",
              "      <th>2</th>\n",
              "      <td>Toyota</td>\n",
              "      <td>2014</td>\n",
              "      <td>24999.5</td>\n",
              "      <td>58375.0</td>\n",
              "    </tr>\n",
              "    <tr>\n",
              "      <th>3</th>\n",
              "      <td>Ford</td>\n",
              "      <td>2010</td>\n",
              "      <td>200000.0</td>\n",
              "      <td>22425.4</td>\n",
              "    </tr>\n",
              "    <tr>\n",
              "      <th>4</th>\n",
              "      <td>Ford</td>\n",
              "      <td>2018</td>\n",
              "      <td>5000.0</td>\n",
              "      <td>22425.4</td>\n",
              "    </tr>\n",
              "    <tr>\n",
              "      <th>...</th>\n",
              "      <td>...</td>\n",
              "      <td>...</td>\n",
              "      <td>...</td>\n",
              "      <td>...</td>\n",
              "    </tr>\n",
              "    <tr>\n",
              "      <th>555</th>\n",
              "      <td>Dodge</td>\n",
              "      <td>2012</td>\n",
              "      <td>200000.0</td>\n",
              "      <td>35000.0</td>\n",
              "    </tr>\n",
              "    <tr>\n",
              "      <th>556</th>\n",
              "      <td>Kia</td>\n",
              "      <td>2015</td>\n",
              "      <td>44999.5</td>\n",
              "      <td>10000.0</td>\n",
              "    </tr>\n",
              "    <tr>\n",
              "      <th>557</th>\n",
              "      <td>BMW</td>\n",
              "      <td>2014</td>\n",
              "      <td>114999.5</td>\n",
              "      <td>100000.0</td>\n",
              "    </tr>\n",
              "    <tr>\n",
              "      <th>558</th>\n",
              "      <td>Suzuki</td>\n",
              "      <td>2013</td>\n",
              "      <td>14999.5</td>\n",
              "      <td>24000.0</td>\n",
              "    </tr>\n",
              "    <tr>\n",
              "      <th>559</th>\n",
              "      <td>Toyota</td>\n",
              "      <td>2016</td>\n",
              "      <td>64999.5</td>\n",
              "      <td>94000.0</td>\n",
              "    </tr>\n",
              "  </tbody>\n",
              "</table>\n",
              "<p>560 rows × 4 columns</p>\n",
              "</div>"
            ],
            "text/plain": [
              "    car_maker  year  kilometers     price\n",
              "0      Toyota  2019     14999.5   58375.0\n",
              "1         Kia  2006         0.0   10000.0\n",
              "2      Toyota  2014     24999.5   58375.0\n",
              "3        Ford  2010    200000.0   22425.4\n",
              "4        Ford  2018      5000.0   22425.4\n",
              "..        ...   ...         ...       ...\n",
              "555     Dodge  2012    200000.0   35000.0\n",
              "556       Kia  2015     44999.5   10000.0\n",
              "557       BMW  2014    114999.5  100000.0\n",
              "558    Suzuki  2013     14999.5   24000.0\n",
              "559    Toyota  2016     64999.5   94000.0\n",
              "\n",
              "[560 rows x 4 columns]"
            ]
          },
          "execution_count": 43,
          "metadata": {},
          "output_type": "execute_result"
        }
      ],
      "source": [
        "dataset = pd.read_csv(\"Cars_dataset.csv\")\n",
        "dataset"
      ]
    },
    {
      "cell_type": "code",
      "execution_count": 44,
      "id": "31fe274c",
      "metadata": {
        "colab": {
          "base_uri": "https://localhost:8080/"
        },
        "id": "31fe274c",
        "outputId": "d57f5cca-3ce1-4fdc-935b-e5b8132fc41e"
      },
      "outputs": [
        {
          "name": "stdout",
          "output_type": "stream",
          "text": [
            "<class 'pandas.core.frame.DataFrame'>\n",
            "RangeIndex: 560 entries, 0 to 559\n",
            "Data columns (total 4 columns):\n",
            " #   Column      Non-Null Count  Dtype  \n",
            "---  ------      --------------  -----  \n",
            " 0   car_maker   560 non-null    object \n",
            " 1   year        560 non-null    int64  \n",
            " 2   kilometers  560 non-null    float64\n",
            " 3   price       560 non-null    float64\n",
            "dtypes: float64(2), int64(1), object(1)\n",
            "memory usage: 17.6+ KB\n"
          ]
        }
      ],
      "source": [
        "dataset.info()"
      ]
    },
    {
      "cell_type": "code",
      "execution_count": 45,
      "id": "c5f05cc4",
      "metadata": {
        "colab": {
          "base_uri": "https://localhost:8080/"
        },
        "id": "c5f05cc4",
        "outputId": "312adcfa-8d31-42f0-d877-443afbb6929a"
      },
      "outputs": [
        {
          "data": {
            "text/plain": [
              "car_maker     0\n",
              "year          0\n",
              "kilometers    0\n",
              "price         0\n",
              "dtype: int64"
            ]
          },
          "execution_count": 45,
          "metadata": {},
          "output_type": "execute_result"
        }
      ],
      "source": [
        "np.sum(dataset.isna())"
      ]
    },
    {
      "cell_type": "code",
      "execution_count": 46,
      "id": "c515255d",
      "metadata": {
        "colab": {
          "base_uri": "https://localhost:8080/"
        },
        "id": "c515255d",
        "outputId": "7b747a4d-20e8-4891-c324-0d24a12734e9"
      },
      "outputs": [
        {
          "data": {
            "text/html": [
              "<div>\n",
              "<style scoped>\n",
              "    .dataframe tbody tr th:only-of-type {\n",
              "        vertical-align: middle;\n",
              "    }\n",
              "\n",
              "    .dataframe tbody tr th {\n",
              "        vertical-align: top;\n",
              "    }\n",
              "\n",
              "    .dataframe thead th {\n",
              "        text-align: right;\n",
              "    }\n",
              "</style>\n",
              "<table border=\"1\" class=\"dataframe\">\n",
              "  <thead>\n",
              "    <tr style=\"text-align: right;\">\n",
              "      <th></th>\n",
              "      <th>year</th>\n",
              "      <th>kilometers</th>\n",
              "      <th>price</th>\n",
              "    </tr>\n",
              "  </thead>\n",
              "  <tbody>\n",
              "    <tr>\n",
              "      <th>count</th>\n",
              "      <td>560.000000</td>\n",
              "      <td>560.000000</td>\n",
              "      <td>560.000000</td>\n",
              "    </tr>\n",
              "    <tr>\n",
              "      <th>mean</th>\n",
              "      <td>2011.857143</td>\n",
              "      <td>120535.482143</td>\n",
              "      <td>37521.064286</td>\n",
              "    </tr>\n",
              "    <tr>\n",
              "      <th>std</th>\n",
              "      <td>3.892236</td>\n",
              "      <td>81305.837563</td>\n",
              "      <td>27022.610673</td>\n",
              "    </tr>\n",
              "    <tr>\n",
              "      <th>min</th>\n",
              "      <td>2006.000000</td>\n",
              "      <td>0.000000</td>\n",
              "      <td>2114.000000</td>\n",
              "    </tr>\n",
              "    <tr>\n",
              "      <th>25%</th>\n",
              "      <td>2008.000000</td>\n",
              "      <td>39999.500000</td>\n",
              "      <td>19000.000000</td>\n",
              "    </tr>\n",
              "    <tr>\n",
              "      <th>50%</th>\n",
              "      <td>2012.500000</td>\n",
              "      <td>149999.500000</td>\n",
              "      <td>27500.000000</td>\n",
              "    </tr>\n",
              "    <tr>\n",
              "      <th>75%</th>\n",
              "      <td>2014.250000</td>\n",
              "      <td>200000.000000</td>\n",
              "      <td>58375.000000</td>\n",
              "    </tr>\n",
              "    <tr>\n",
              "      <th>max</th>\n",
              "      <td>2019.000000</td>\n",
              "      <td>200000.000000</td>\n",
              "      <td>100000.000000</td>\n",
              "    </tr>\n",
              "  </tbody>\n",
              "</table>\n",
              "</div>"
            ],
            "text/plain": [
              "              year     kilometers          price\n",
              "count   560.000000     560.000000     560.000000\n",
              "mean   2011.857143  120535.482143   37521.064286\n",
              "std       3.892236   81305.837563   27022.610673\n",
              "min    2006.000000       0.000000    2114.000000\n",
              "25%    2008.000000   39999.500000   19000.000000\n",
              "50%    2012.500000  149999.500000   27500.000000\n",
              "75%    2014.250000  200000.000000   58375.000000\n",
              "max    2019.000000  200000.000000  100000.000000"
            ]
          },
          "execution_count": 46,
          "metadata": {},
          "output_type": "execute_result"
        }
      ],
      "source": [
        "dataset.describe()"
      ]
    },
    {
      "cell_type": "code",
      "execution_count": 47,
      "id": "C2U3eluvrguq",
      "metadata": {
        "colab": {
          "base_uri": "https://localhost:8080/"
        },
        "id": "C2U3eluvrguq",
        "outputId": "d34fdf96-d9c5-462a-ada1-72863487f7b4"
      },
      "outputs": [
        {
          "data": {
            "text/html": [
              "<div>\n",
              "<style scoped>\n",
              "    .dataframe tbody tr th:only-of-type {\n",
              "        vertical-align: middle;\n",
              "    }\n",
              "\n",
              "    .dataframe tbody tr th {\n",
              "        vertical-align: top;\n",
              "    }\n",
              "\n",
              "    .dataframe thead th {\n",
              "        text-align: right;\n",
              "    }\n",
              "</style>\n",
              "<table border=\"1\" class=\"dataframe\">\n",
              "  <thead>\n",
              "    <tr style=\"text-align: right;\">\n",
              "      <th></th>\n",
              "      <th>year</th>\n",
              "      <th>kilometers</th>\n",
              "      <th>price</th>\n",
              "    </tr>\n",
              "  </thead>\n",
              "  <tbody>\n",
              "    <tr>\n",
              "      <th>year</th>\n",
              "      <td>1.000000</td>\n",
              "      <td>-0.583133</td>\n",
              "      <td>0.255938</td>\n",
              "    </tr>\n",
              "    <tr>\n",
              "      <th>kilometers</th>\n",
              "      <td>-0.583133</td>\n",
              "      <td>1.000000</td>\n",
              "      <td>-0.077572</td>\n",
              "    </tr>\n",
              "    <tr>\n",
              "      <th>price</th>\n",
              "      <td>0.255938</td>\n",
              "      <td>-0.077572</td>\n",
              "      <td>1.000000</td>\n",
              "    </tr>\n",
              "  </tbody>\n",
              "</table>\n",
              "</div>"
            ],
            "text/plain": [
              "                year  kilometers     price\n",
              "year        1.000000   -0.583133  0.255938\n",
              "kilometers -0.583133    1.000000 -0.077572\n",
              "price       0.255938   -0.077572  1.000000"
            ]
          },
          "execution_count": 47,
          "metadata": {},
          "output_type": "execute_result"
        }
      ],
      "source": [
        "dataset.corr()"
      ]
    },
    {
      "cell_type": "code",
      "execution_count": 48,
      "id": "m0HePykrsVLr",
      "metadata": {
        "colab": {
          "base_uri": "https://localhost:8080/"
        },
        "id": "m0HePykrsVLr",
        "outputId": "a68ad5d9-ca0c-4fe9-ee1a-df428fd8995d"
      },
      "outputs": [
        {
          "data": {
            "text/plain": [
              "533"
            ]
          },
          "execution_count": 48,
          "metadata": {},
          "output_type": "execute_result"
        }
      ],
      "source": [
        "np.sum(dataset.duplicated())"
      ]
    },
    {
      "cell_type": "code",
      "execution_count": 49,
      "id": "d05a5392",
      "metadata": {
        "colab": {
          "base_uri": "https://localhost:8080/"
        },
        "id": "d05a5392",
        "outputId": "cbd1bff5-3e2d-44ee-a985-a8d64d30dc08"
      },
      "outputs": [
        {
          "data": {
            "text/plain": [
              "2008    100\n",
              "2014     80\n",
              "2016     60\n",
              "2013     60\n",
              "2007     60\n",
              "2019     40\n",
              "2009     40\n",
              "2006     20\n",
              "2010     20\n",
              "2018     20\n",
              "2011     20\n",
              "2012     20\n",
              "2015     20\n",
              "Name: year, dtype: int64"
            ]
          },
          "execution_count": 49,
          "metadata": {},
          "output_type": "execute_result"
        }
      ],
      "source": [
        "dataset.year.value_counts()"
      ]
    },
    {
      "cell_type": "code",
      "execution_count": 50,
      "id": "48e554c4",
      "metadata": {
        "id": "48e554c4"
      },
      "outputs": [],
      "source": [
        "high_frequency_year = [2008,2014,2016,2013,2007]"
      ]
    },
    {
      "cell_type": "code",
      "execution_count": 51,
      "id": "4104ae4b",
      "metadata": {
        "colab": {
          "base_uri": "https://localhost:8080/"
        },
        "id": "4104ae4b",
        "outputId": "a7d9f789-e518-4393-d059-9b0bb83a8f10"
      },
      "outputs": [
        {
          "data": {
            "text/html": [
              "<div>\n",
              "<style scoped>\n",
              "    .dataframe tbody tr th:only-of-type {\n",
              "        vertical-align: middle;\n",
              "    }\n",
              "\n",
              "    .dataframe tbody tr th {\n",
              "        vertical-align: top;\n",
              "    }\n",
              "\n",
              "    .dataframe thead th {\n",
              "        text-align: right;\n",
              "    }\n",
              "</style>\n",
              "<table border=\"1\" class=\"dataframe\">\n",
              "  <thead>\n",
              "    <tr style=\"text-align: right;\">\n",
              "      <th></th>\n",
              "      <th>car_maker</th>\n",
              "      <th>year</th>\n",
              "      <th>kilometers</th>\n",
              "      <th>price</th>\n",
              "    </tr>\n",
              "  </thead>\n",
              "  <tbody>\n",
              "    <tr>\n",
              "      <th>0</th>\n",
              "      <td>Toyota</td>\n",
              "      <td>Other_year</td>\n",
              "      <td>14999.5</td>\n",
              "      <td>58375.0</td>\n",
              "    </tr>\n",
              "    <tr>\n",
              "      <th>1</th>\n",
              "      <td>Kia</td>\n",
              "      <td>Other_year</td>\n",
              "      <td>0.0</td>\n",
              "      <td>10000.0</td>\n",
              "    </tr>\n",
              "    <tr>\n",
              "      <th>2</th>\n",
              "      <td>Toyota</td>\n",
              "      <td>2014</td>\n",
              "      <td>24999.5</td>\n",
              "      <td>58375.0</td>\n",
              "    </tr>\n",
              "    <tr>\n",
              "      <th>3</th>\n",
              "      <td>Ford</td>\n",
              "      <td>Other_year</td>\n",
              "      <td>200000.0</td>\n",
              "      <td>22425.4</td>\n",
              "    </tr>\n",
              "    <tr>\n",
              "      <th>4</th>\n",
              "      <td>Ford</td>\n",
              "      <td>Other_year</td>\n",
              "      <td>5000.0</td>\n",
              "      <td>22425.4</td>\n",
              "    </tr>\n",
              "    <tr>\n",
              "      <th>...</th>\n",
              "      <td>...</td>\n",
              "      <td>...</td>\n",
              "      <td>...</td>\n",
              "      <td>...</td>\n",
              "    </tr>\n",
              "    <tr>\n",
              "      <th>555</th>\n",
              "      <td>Dodge</td>\n",
              "      <td>Other_year</td>\n",
              "      <td>200000.0</td>\n",
              "      <td>35000.0</td>\n",
              "    </tr>\n",
              "    <tr>\n",
              "      <th>556</th>\n",
              "      <td>Kia</td>\n",
              "      <td>Other_year</td>\n",
              "      <td>44999.5</td>\n",
              "      <td>10000.0</td>\n",
              "    </tr>\n",
              "    <tr>\n",
              "      <th>557</th>\n",
              "      <td>BMW</td>\n",
              "      <td>2014</td>\n",
              "      <td>114999.5</td>\n",
              "      <td>100000.0</td>\n",
              "    </tr>\n",
              "    <tr>\n",
              "      <th>558</th>\n",
              "      <td>Suzuki</td>\n",
              "      <td>2013</td>\n",
              "      <td>14999.5</td>\n",
              "      <td>24000.0</td>\n",
              "    </tr>\n",
              "    <tr>\n",
              "      <th>559</th>\n",
              "      <td>Toyota</td>\n",
              "      <td>2016</td>\n",
              "      <td>64999.5</td>\n",
              "      <td>94000.0</td>\n",
              "    </tr>\n",
              "  </tbody>\n",
              "</table>\n",
              "<p>560 rows × 4 columns</p>\n",
              "</div>"
            ],
            "text/plain": [
              "    car_maker        year  kilometers     price\n",
              "0      Toyota  Other_year     14999.5   58375.0\n",
              "1         Kia  Other_year         0.0   10000.0\n",
              "2      Toyota        2014     24999.5   58375.0\n",
              "3        Ford  Other_year    200000.0   22425.4\n",
              "4        Ford  Other_year      5000.0   22425.4\n",
              "..        ...         ...         ...       ...\n",
              "555     Dodge  Other_year    200000.0   35000.0\n",
              "556       Kia  Other_year     44999.5   10000.0\n",
              "557       BMW        2014    114999.5  100000.0\n",
              "558    Suzuki        2013     14999.5   24000.0\n",
              "559    Toyota        2016     64999.5   94000.0\n",
              "\n",
              "[560 rows x 4 columns]"
            ]
          },
          "execution_count": 51,
          "metadata": {},
          "output_type": "execute_result"
        }
      ],
      "source": [
        "dataset['year']= [x if x in high_frequency_year else 'Other_year' for x in dataset['year']]\n",
        "dataset"
      ]
    },
    {
      "cell_type": "code",
      "execution_count": 52,
      "id": "371178b7",
      "metadata": {
        "colab": {
          "base_uri": "https://localhost:8080/"
        },
        "id": "371178b7",
        "outputId": "2a3d10b3-8b05-471c-9d58-af6bdaa70161"
      },
      "outputs": [
        {
          "data": {
            "text/plain": [
              "Toyota      140\n",
              "Ford        120\n",
              "BMW          80\n",
              "Kia          60\n",
              "Renault      40\n",
              "Nissan       20\n",
              "Cadillac     20\n",
              "Mazda        20\n",
              "GMC          20\n",
              "Dodge        20\n",
              "Suzuki       20\n",
              "Name: car_maker, dtype: int64"
            ]
          },
          "execution_count": 52,
          "metadata": {},
          "output_type": "execute_result"
        }
      ],
      "source": [
        "dataset.car_maker.value_counts()"
      ]
    },
    {
      "cell_type": "code",
      "execution_count": 53,
      "id": "aadca72f",
      "metadata": {
        "id": "aadca72f"
      },
      "outputs": [],
      "source": [
        "high_frequency_car_makers = ['Toyota','Ford','BMW']"
      ]
    },
    {
      "cell_type": "code",
      "execution_count": 54,
      "id": "28e57e02",
      "metadata": {
        "colab": {
          "base_uri": "https://localhost:8080/"
        },
        "id": "28e57e02",
        "outputId": "1d831c65-5820-4316-e2a3-5c26cbd56ed6"
      },
      "outputs": [
        {
          "data": {
            "text/html": [
              "<div>\n",
              "<style scoped>\n",
              "    .dataframe tbody tr th:only-of-type {\n",
              "        vertical-align: middle;\n",
              "    }\n",
              "\n",
              "    .dataframe tbody tr th {\n",
              "        vertical-align: top;\n",
              "    }\n",
              "\n",
              "    .dataframe thead th {\n",
              "        text-align: right;\n",
              "    }\n",
              "</style>\n",
              "<table border=\"1\" class=\"dataframe\">\n",
              "  <thead>\n",
              "    <tr style=\"text-align: right;\">\n",
              "      <th></th>\n",
              "      <th>car_maker</th>\n",
              "      <th>year</th>\n",
              "      <th>kilometers</th>\n",
              "      <th>price</th>\n",
              "    </tr>\n",
              "  </thead>\n",
              "  <tbody>\n",
              "    <tr>\n",
              "      <th>0</th>\n",
              "      <td>Toyota</td>\n",
              "      <td>Other_year</td>\n",
              "      <td>14999.5</td>\n",
              "      <td>58375.0</td>\n",
              "    </tr>\n",
              "    <tr>\n",
              "      <th>1</th>\n",
              "      <td>Other_makers</td>\n",
              "      <td>Other_year</td>\n",
              "      <td>0.0</td>\n",
              "      <td>10000.0</td>\n",
              "    </tr>\n",
              "    <tr>\n",
              "      <th>2</th>\n",
              "      <td>Toyota</td>\n",
              "      <td>2014</td>\n",
              "      <td>24999.5</td>\n",
              "      <td>58375.0</td>\n",
              "    </tr>\n",
              "    <tr>\n",
              "      <th>3</th>\n",
              "      <td>Ford</td>\n",
              "      <td>Other_year</td>\n",
              "      <td>200000.0</td>\n",
              "      <td>22425.4</td>\n",
              "    </tr>\n",
              "    <tr>\n",
              "      <th>4</th>\n",
              "      <td>Ford</td>\n",
              "      <td>Other_year</td>\n",
              "      <td>5000.0</td>\n",
              "      <td>22425.4</td>\n",
              "    </tr>\n",
              "    <tr>\n",
              "      <th>...</th>\n",
              "      <td>...</td>\n",
              "      <td>...</td>\n",
              "      <td>...</td>\n",
              "      <td>...</td>\n",
              "    </tr>\n",
              "    <tr>\n",
              "      <th>555</th>\n",
              "      <td>Other_makers</td>\n",
              "      <td>Other_year</td>\n",
              "      <td>200000.0</td>\n",
              "      <td>35000.0</td>\n",
              "    </tr>\n",
              "    <tr>\n",
              "      <th>556</th>\n",
              "      <td>Other_makers</td>\n",
              "      <td>Other_year</td>\n",
              "      <td>44999.5</td>\n",
              "      <td>10000.0</td>\n",
              "    </tr>\n",
              "    <tr>\n",
              "      <th>557</th>\n",
              "      <td>BMW</td>\n",
              "      <td>2014</td>\n",
              "      <td>114999.5</td>\n",
              "      <td>100000.0</td>\n",
              "    </tr>\n",
              "    <tr>\n",
              "      <th>558</th>\n",
              "      <td>Other_makers</td>\n",
              "      <td>2013</td>\n",
              "      <td>14999.5</td>\n",
              "      <td>24000.0</td>\n",
              "    </tr>\n",
              "    <tr>\n",
              "      <th>559</th>\n",
              "      <td>Toyota</td>\n",
              "      <td>2016</td>\n",
              "      <td>64999.5</td>\n",
              "      <td>94000.0</td>\n",
              "    </tr>\n",
              "  </tbody>\n",
              "</table>\n",
              "<p>560 rows × 4 columns</p>\n",
              "</div>"
            ],
            "text/plain": [
              "        car_maker        year  kilometers     price\n",
              "0          Toyota  Other_year     14999.5   58375.0\n",
              "1    Other_makers  Other_year         0.0   10000.0\n",
              "2          Toyota        2014     24999.5   58375.0\n",
              "3            Ford  Other_year    200000.0   22425.4\n",
              "4            Ford  Other_year      5000.0   22425.4\n",
              "..            ...         ...         ...       ...\n",
              "555  Other_makers  Other_year    200000.0   35000.0\n",
              "556  Other_makers  Other_year     44999.5   10000.0\n",
              "557           BMW        2014    114999.5  100000.0\n",
              "558  Other_makers        2013     14999.5   24000.0\n",
              "559        Toyota        2016     64999.5   94000.0\n",
              "\n",
              "[560 rows x 4 columns]"
            ]
          },
          "execution_count": 54,
          "metadata": {},
          "output_type": "execute_result"
        }
      ],
      "source": [
        "dataset['car_maker']= [x if x in high_frequency_car_makers else 'Other_makers' for x in dataset['car_maker']]\n",
        "dataset"
      ]
    },
    {
      "cell_type": "code",
      "execution_count": 55,
      "id": "69ac52c8",
      "metadata": {
        "colab": {
          "base_uri": "https://localhost:8080/",
          "height": 396
        },
        "id": "69ac52c8",
        "outputId": "5ba3dfe0-fca2-4960-c781-2876c92b0c82"
      },
      "outputs": [
        {
          "data": {
            "text/plain": [
              "<seaborn.axisgrid.FacetGrid at 0x19a8eab7fa0>"
            ]
          },
          "execution_count": 55,
          "metadata": {},
          "output_type": "execute_result"
        },
        {
          "data": {
            "image/png": "[encoded data removed]",
            "text/plain": [
              "<Figure size 443.875x360 with 1 Axes>"
            ]
          },
          "metadata": {
            "needs_background": "light"
          },
          "output_type": "display_data"
        }
      ],
      "source": [
        "sns.catplot(x = \"car_maker\", hue = \"price\", data = dataset, kind = \"count\")"
      ]
    },
    {
      "cell_type": "code",
      "execution_count": 56,
      "id": "89b742a8",
      "metadata": {
        "colab": {
          "base_uri": "https://localhost:8080/",
          "height": 396
        },
        "id": "89b742a8",
        "outputId": "5a43dd6b-f9c7-4963-bfc8-5d33e4259b07"
      },
      "outputs": [
        {
          "data": {
            "text/plain": [
              "<seaborn.axisgrid.FacetGrid at 0x19a8ec61280>"
            ]
          },
          "execution_count": 56,
          "metadata": {},
          "output_type": "execute_result"
        },
        {
          "data": {
            "image/png": "[encoded data removed]",
            "text/plain": [
              "<Figure size 443.875x360 with 1 Axes>"
            ]
          },
          "metadata": {
            "needs_background": "light"
          },
          "output_type": "display_data"
        }
      ],
      "source": [
        "sns.catplot(x = \"year\", hue = \"price\", data = dataset, kind = \"count\")"
      ]
    },
    {
      "cell_type": "code",
      "execution_count": 57,
      "id": "dd7800df",
      "metadata": {
        "colab": {
          "base_uri": "https://localhost:8080/",
          "height": 396
        },
        "id": "dd7800df",
        "outputId": "8aff59ac-dcfc-40b2-a10a-a039e85f9ae1"
      },
      "outputs": [
        {
          "data": {
            "text/plain": [
              "<seaborn.axisgrid.FacetGrid at 0x19a8ec741c0>"
            ]
          },
          "execution_count": 57,
          "metadata": {},
          "output_type": "execute_result"
        },
        {
          "data": {
            "image/png": "[encoded data removed]",
            "text/plain": [
              "<Figure size 443.875x360 with 1 Axes>"
            ]
          },
          "metadata": {
            "needs_background": "light"
          },
          "output_type": "display_data"
        }
      ],
      "source": [
        "sns.catplot(x = \"kilometers\", hue = \"price\", data = dataset, kind = \"count\")"
      ]
    },
    {
      "cell_type": "code",
      "execution_count": 58,
      "id": "d35870f7",
      "metadata": {
        "colab": {
          "base_uri": "https://localhost:8080/",
          "height": 279
        },
        "id": "d35870f7",
        "outputId": "3ba52436-2226-45c0-b8a0-63ae9fa0411a"
      },
      "outputs": [
        {
          "data": {
            "image/png": "[encoded data removed]",
            "text/plain": [
              "<Figure size 432x288 with 1 Axes>"
            ]
          },
          "metadata": {
            "needs_background": "light"
          },
          "output_type": "display_data"
        }
      ],
      "source": [
        "plt.scatter(dataset['kilometers'],dataset['price'])\n",
        "plt.xlabel('kilometers', fontsize = 10)\n",
        "plt.ylabel('price', fontsize = 10)\n",
        "plt.show()"
      ]
    },
    {
      "cell_type": "code",
      "execution_count": 59,
      "id": "258681a7",
      "metadata": {
        "id": "258681a7"
      },
      "outputs": [],
      "source": [
        "largest_kilometer = dataset['kilometers'].max()"
      ]
    },
    {
      "cell_type": "code",
      "execution_count": 60,
      "id": "57b60c89",
      "metadata": {
        "id": "57b60c89"
      },
      "outputs": [],
      "source": [
        "dataset['kilometers'] = [(x/largest_kilometer) for x in dataset['kilometers']]"
      ]
    },
    {
      "cell_type": "code",
      "execution_count": 61,
      "id": "21b8979d",
      "metadata": {
        "colab": {
          "base_uri": "https://localhost:8080/"
        },
        "id": "21b8979d",
        "outputId": "5b44bf9e-d830-4424-e358-b19515c6fc61"
      },
      "outputs": [
        {
          "data": {
            "text/html": [
              "<div>\n",
              "<style scoped>\n",
              "    .dataframe tbody tr th:only-of-type {\n",
              "        vertical-align: middle;\n",
              "    }\n",
              "\n",
              "    .dataframe tbody tr th {\n",
              "        vertical-align: top;\n",
              "    }\n",
              "\n",
              "    .dataframe thead th {\n",
              "        text-align: right;\n",
              "    }\n",
              "</style>\n",
              "<table border=\"1\" class=\"dataframe\">\n",
              "  <thead>\n",
              "    <tr style=\"text-align: right;\">\n",
              "      <th></th>\n",
              "      <th>car_maker</th>\n",
              "      <th>year</th>\n",
              "      <th>kilometers</th>\n",
              "      <th>price</th>\n",
              "    </tr>\n",
              "  </thead>\n",
              "  <tbody>\n",
              "    <tr>\n",
              "      <th>0</th>\n",
              "      <td>Toyota</td>\n",
              "      <td>Other_year</td>\n",
              "      <td>0.074997</td>\n",
              "      <td>58375.0</td>\n",
              "    </tr>\n",
              "    <tr>\n",
              "      <th>1</th>\n",
              "      <td>Other_makers</td>\n",
              "      <td>Other_year</td>\n",
              "      <td>0.000000</td>\n",
              "      <td>10000.0</td>\n",
              "    </tr>\n",
              "    <tr>\n",
              "      <th>2</th>\n",
              "      <td>Toyota</td>\n",
              "      <td>2014</td>\n",
              "      <td>0.124997</td>\n",
              "      <td>58375.0</td>\n",
              "    </tr>\n",
              "    <tr>\n",
              "      <th>3</th>\n",
              "      <td>Ford</td>\n",
              "      <td>Other_year</td>\n",
              "      <td>1.000000</td>\n",
              "      <td>22425.4</td>\n",
              "    </tr>\n",
              "    <tr>\n",
              "      <th>4</th>\n",
              "      <td>Ford</td>\n",
              "      <td>Other_year</td>\n",
              "      <td>0.025000</td>\n",
              "      <td>22425.4</td>\n",
              "    </tr>\n",
              "    <tr>\n",
              "      <th>...</th>\n",
              "      <td>...</td>\n",
              "      <td>...</td>\n",
              "      <td>...</td>\n",
              "      <td>...</td>\n",
              "    </tr>\n",
              "    <tr>\n",
              "      <th>555</th>\n",
              "      <td>Other_makers</td>\n",
              "      <td>Other_year</td>\n",
              "      <td>1.000000</td>\n",
              "      <td>35000.0</td>\n",
              "    </tr>\n",
              "    <tr>\n",
              "      <th>556</th>\n",
              "      <td>Other_makers</td>\n",
              "      <td>Other_year</td>\n",
              "      <td>0.224997</td>\n",
              "      <td>10000.0</td>\n",
              "    </tr>\n",
              "    <tr>\n",
              "      <th>557</th>\n",
              "      <td>BMW</td>\n",
              "      <td>2014</td>\n",
              "      <td>0.574998</td>\n",
              "      <td>100000.0</td>\n",
              "    </tr>\n",
              "    <tr>\n",
              "      <th>558</th>\n",
              "      <td>Other_makers</td>\n",
              "      <td>2013</td>\n",
              "      <td>0.074997</td>\n",
              "      <td>24000.0</td>\n",
              "    </tr>\n",
              "    <tr>\n",
              "      <th>559</th>\n",
              "      <td>Toyota</td>\n",
              "      <td>2016</td>\n",
              "      <td>0.324997</td>\n",
              "      <td>94000.0</td>\n",
              "    </tr>\n",
              "  </tbody>\n",
              "</table>\n",
              "<p>560 rows × 4 columns</p>\n",
              "</div>"
            ],
            "text/plain": [
              "        car_maker        year  kilometers     price\n",
              "0          Toyota  Other_year    0.074997   58375.0\n",
              "1    Other_makers  Other_year    0.000000   10000.0\n",
              "2          Toyota        2014    0.124997   58375.0\n",
              "3            Ford  Other_year    1.000000   22425.4\n",
              "4            Ford  Other_year    0.025000   22425.4\n",
              "..            ...         ...         ...       ...\n",
              "555  Other_makers  Other_year    1.000000   35000.0\n",
              "556  Other_makers  Other_year    0.224997   10000.0\n",
              "557           BMW        2014    0.574998  100000.0\n",
              "558  Other_makers        2013    0.074997   24000.0\n",
              "559        Toyota        2016    0.324997   94000.0\n",
              "\n",
              "[560 rows x 4 columns]"
            ]
          },
          "execution_count": 61,
          "metadata": {},
          "output_type": "execute_result"
        }
      ],
      "source": [
        "dataset"
      ]
    },
    {
      "cell_type": "code",
      "execution_count": 62,
      "id": "1ceb1075",
      "metadata": {
        "colab": {
          "base_uri": "https://localhost:8080/"
        },
        "id": "1ceb1075",
        "outputId": "2b782300-332f-48bf-c799-0a66bbc0a455"
      },
      "outputs": [
        {
          "data": {
            "text/html": [
              "<div>\n",
              "<style scoped>\n",
              "    .dataframe tbody tr th:only-of-type {\n",
              "        vertical-align: middle;\n",
              "    }\n",
              "\n",
              "    .dataframe tbody tr th {\n",
              "        vertical-align: top;\n",
              "    }\n",
              "\n",
              "    .dataframe thead th {\n",
              "        text-align: right;\n",
              "    }\n",
              "</style>\n",
              "<table border=\"1\" class=\"dataframe\">\n",
              "  <thead>\n",
              "    <tr style=\"text-align: right;\">\n",
              "      <th></th>\n",
              "      <th>kilometers</th>\n",
              "      <th>price</th>\n",
              "    </tr>\n",
              "  </thead>\n",
              "  <tbody>\n",
              "    <tr>\n",
              "      <th>count</th>\n",
              "      <td>560.000000</td>\n",
              "      <td>560.000000</td>\n",
              "    </tr>\n",
              "    <tr>\n",
              "      <th>mean</th>\n",
              "      <td>0.602677</td>\n",
              "      <td>37521.064286</td>\n",
              "    </tr>\n",
              "    <tr>\n",
              "      <th>std</th>\n",
              "      <td>0.406529</td>\n",
              "      <td>27022.610673</td>\n",
              "    </tr>\n",
              "    <tr>\n",
              "      <th>min</th>\n",
              "      <td>0.000000</td>\n",
              "      <td>2114.000000</td>\n",
              "    </tr>\n",
              "    <tr>\n",
              "      <th>25%</th>\n",
              "      <td>0.199997</td>\n",
              "      <td>19000.000000</td>\n",
              "    </tr>\n",
              "    <tr>\n",
              "      <th>50%</th>\n",
              "      <td>0.749997</td>\n",
              "      <td>27500.000000</td>\n",
              "    </tr>\n",
              "    <tr>\n",
              "      <th>75%</th>\n",
              "      <td>1.000000</td>\n",
              "      <td>58375.000000</td>\n",
              "    </tr>\n",
              "    <tr>\n",
              "      <th>max</th>\n",
              "      <td>1.000000</td>\n",
              "      <td>100000.000000</td>\n",
              "    </tr>\n",
              "  </tbody>\n",
              "</table>\n",
              "</div>"
            ],
            "text/plain": [
              "       kilometers          price\n",
              "count  560.000000     560.000000\n",
              "mean     0.602677   37521.064286\n",
              "std      0.406529   27022.610673\n",
              "min      0.000000    2114.000000\n",
              "25%      0.199997   19000.000000\n",
              "50%      0.749997   27500.000000\n",
              "75%      1.000000   58375.000000\n",
              "max      1.000000  100000.000000"
            ]
          },
          "execution_count": 62,
          "metadata": {},
          "output_type": "execute_result"
        }
      ],
      "source": [
        "dataset.describe()"
      ]
    },
    {
      "cell_type": "code",
      "execution_count": 63,
      "id": "7a3c1b2e",
      "metadata": {
        "id": "7a3c1b2e"
      },
      "outputs": [],
      "source": [
        "def plot_histogram(dataFrame,column):\n",
        "    plt.hist(x=dataFrame[column],color='blue',alpha=0.45)\n",
        "    plt.xlabel(column)\n",
        "    plt.ylabel('frequency')\n",
        "    plt.show()"
      ]
    },
    {
      "cell_type": "code",
      "execution_count": 64,
      "id": "e41b6ff9",
      "metadata": {
        "colab": {
          "base_uri": "https://localhost:8080/",
          "height": 279
        },
        "id": "e41b6ff9",
        "outputId": "b9434f6e-f2c1-4453-c9fc-eedcbcd7c2f3"
      },
      "outputs": [
        {
          "data": {
            "image/png": "[encoded data removed]",
            "text/plain": [
              "<Figure size 432x288 with 1 Axes>"
            ]
          },
          "metadata": {
            "needs_background": "light"
          },
          "output_type": "display_data"
        }
      ],
      "source": [
        "plot_histogram(dataset,'price')"
      ]
    },
    {
      "cell_type": "code",
      "execution_count": 65,
      "id": "56bf027f",
      "metadata": {
        "colab": {
          "base_uri": "https://localhost:8080/",
          "height": 282
        },
        "id": "56bf027f",
        "outputId": "2081297e-d3f9-43eb-f683-ce4f3306dfe9"
      },
      "outputs": [
        {
          "data": {
            "image/png": "[encoded data removed]",
            "text/plain": [
              "<Figure size 432x288 with 1 Axes>"
            ]
          },
          "metadata": {
            "needs_background": "light"
          },
          "output_type": "display_data"
        }
      ],
      "source": [
        "plot_histogram(dataset,'kilometers')"
      ]
    },
    {
      "cell_type": "code",
      "execution_count": 66,
      "id": "d1ff8d1a",
      "metadata": {
        "colab": {
          "base_uri": "https://localhost:8080/",
          "height": 281
        },
        "id": "d1ff8d1a",
        "outputId": "c5b175e3-a76a-428c-ed1b-91027f04bebb"
      },
      "outputs": [
        {
          "data": {
            "image/png": "[encoded data removed]",
            "text/plain": [
              "<Figure size 432x288 with 1 Axes>"
            ]
          },
          "metadata": {
            "needs_background": "light"
          },
          "output_type": "display_data"
        }
      ],
      "source": [
        "plot_histogram(dataset,'car_maker')"
      ]
    },
    {
      "cell_type": "code",
      "execution_count": 67,
      "id": "3f605ed4",
      "metadata": {
        "id": "3f605ed4"
      },
      "outputs": [],
      "source": [
        "def find_outliers(dataFrame,column):\n",
        "    Q1= np.percentile(dataFrame[column],25)\n",
        "    Q3= np.percentile(dataFrame[column],75)\n",
        "    IQR = Q3-Q1\n",
        "    floor = Q1 - 1.5*IQR\n",
        "    ceiling =Q3 +1.5*IQR\n",
        "    ctr = 0\n",
        "    outliers=[]\n",
        "    for observation in dataFrame[column]:\n",
        "        if observation < floor or observation> ceiling :\n",
        "            outliers.append(observation)\n",
        "            ctr+=1\n",
        "    return floor,ceiling, ctr,outliers"
      ]
    },
    {
      "cell_type": "code",
      "execution_count": 68,
      "id": "c73d1e69",
      "metadata": {
        "colab": {
          "base_uri": "https://localhost:8080/"
        },
        "id": "c73d1e69",
        "outputId": "3e3d4f00-18b4-427b-bfb4-0627e66ae678"
      },
      "outputs": [
        {
          "name": "stdout",
          "output_type": "stream",
          "text": [
            "lower boundary of price -40062.5\n",
            "upper boundary of price 117437.5\n",
            "number of outliers 0\n",
            "outliers value []\n"
          ]
        }
      ],
      "source": [
        "floor,ceiling, ctr,outliers = find_outliers(dataset,'price')\n",
        "print(\"lower boundary of price\", floor)\n",
        "print(\"upper boundary of price\",ceiling)\n",
        "print(\"number of outliers\",ctr)\n",
        "print(\"outliers value\",outliers)"
      ]
    },
    {
      "cell_type": "code",
      "execution_count": 69,
      "id": "91b8e4e6",
      "metadata": {
        "colab": {
          "base_uri": "https://localhost:8080/"
        },
        "id": "91b8e4e6",
        "outputId": "813dd946-beed-4ac2-d62c-f7d25e892da8"
      },
      "outputs": [
        {
          "name": "stdout",
          "output_type": "stream",
          "text": [
            "lower boundary of kilometers -1.00000625\n",
            "upper boundary of kilometers 2.20000375\n",
            "number of outliers 0\n",
            "outliers value []\n"
          ]
        }
      ],
      "source": [
        "floor,ceiling, ctr,outliers = find_outliers(dataset,'kilometers')\n",
        "print(\"lower boundary of kilometers\", floor)\n",
        "print(\"upper boundary of kilometers\",ceiling)\n",
        "print(\"number of outliers\",ctr)\n",
        "print(\"outliers value\",outliers)"
      ]
    },
    {
      "cell_type": "code",
      "execution_count": 70,
      "id": "3ca322c5",
      "metadata": {
        "colab": {
          "base_uri": "https://localhost:8080/"
        },
        "id": "3ca322c5",
        "outputId": "6420a2d9-e79b-460b-8015-89e060eb8f23"
      },
      "outputs": [
        {
          "data": {
            "text/html": [
              "<div>\n",
              "<style scoped>\n",
              "    .dataframe tbody tr th:only-of-type {\n",
              "        vertical-align: middle;\n",
              "    }\n",
              "\n",
              "    .dataframe tbody tr th {\n",
              "        vertical-align: top;\n",
              "    }\n",
              "\n",
              "    .dataframe thead th {\n",
              "        text-align: right;\n",
              "    }\n",
              "</style>\n",
              "<table border=\"1\" class=\"dataframe\">\n",
              "  <thead>\n",
              "    <tr style=\"text-align: right;\">\n",
              "      <th></th>\n",
              "      <th>car_maker</th>\n",
              "      <th>year</th>\n",
              "      <th>kilometers</th>\n",
              "      <th>price</th>\n",
              "    </tr>\n",
              "  </thead>\n",
              "  <tbody>\n",
              "    <tr>\n",
              "      <th>0</th>\n",
              "      <td>Toyota</td>\n",
              "      <td>Other_year</td>\n",
              "      <td>0.074997</td>\n",
              "      <td>58375.0</td>\n",
              "    </tr>\n",
              "    <tr>\n",
              "      <th>1</th>\n",
              "      <td>Other_makers</td>\n",
              "      <td>Other_year</td>\n",
              "      <td>0.000000</td>\n",
              "      <td>10000.0</td>\n",
              "    </tr>\n",
              "    <tr>\n",
              "      <th>2</th>\n",
              "      <td>Toyota</td>\n",
              "      <td>2014</td>\n",
              "      <td>0.124997</td>\n",
              "      <td>58375.0</td>\n",
              "    </tr>\n",
              "    <tr>\n",
              "      <th>3</th>\n",
              "      <td>Ford</td>\n",
              "      <td>Other_year</td>\n",
              "      <td>1.000000</td>\n",
              "      <td>22425.4</td>\n",
              "    </tr>\n",
              "    <tr>\n",
              "      <th>4</th>\n",
              "      <td>Ford</td>\n",
              "      <td>Other_year</td>\n",
              "      <td>0.025000</td>\n",
              "      <td>22425.4</td>\n",
              "    </tr>\n",
              "    <tr>\n",
              "      <th>...</th>\n",
              "      <td>...</td>\n",
              "      <td>...</td>\n",
              "      <td>...</td>\n",
              "      <td>...</td>\n",
              "    </tr>\n",
              "    <tr>\n",
              "      <th>555</th>\n",
              "      <td>Other_makers</td>\n",
              "      <td>Other_year</td>\n",
              "      <td>1.000000</td>\n",
              "      <td>35000.0</td>\n",
              "    </tr>\n",
              "    <tr>\n",
              "      <th>556</th>\n",
              "      <td>Other_makers</td>\n",
              "      <td>Other_year</td>\n",
              "      <td>0.224997</td>\n",
              "      <td>10000.0</td>\n",
              "    </tr>\n",
              "    <tr>\n",
              "      <th>557</th>\n",
              "      <td>BMW</td>\n",
              "      <td>2014</td>\n",
              "      <td>0.574998</td>\n",
              "      <td>100000.0</td>\n",
              "    </tr>\n",
              "    <tr>\n",
              "      <th>558</th>\n",
              "      <td>Other_makers</td>\n",
              "      <td>2013</td>\n",
              "      <td>0.074997</td>\n",
              "      <td>24000.0</td>\n",
              "    </tr>\n",
              "    <tr>\n",
              "      <th>559</th>\n",
              "      <td>Toyota</td>\n",
              "      <td>2016</td>\n",
              "      <td>0.324997</td>\n",
              "      <td>94000.0</td>\n",
              "    </tr>\n",
              "  </tbody>\n",
              "</table>\n",
              "<p>560 rows × 4 columns</p>\n",
              "</div>"
            ],
            "text/plain": [
              "        car_maker        year  kilometers     price\n",
              "0          Toyota  Other_year    0.074997   58375.0\n",
              "1    Other_makers  Other_year    0.000000   10000.0\n",
              "2          Toyota        2014    0.124997   58375.0\n",
              "3            Ford  Other_year    1.000000   22425.4\n",
              "4            Ford  Other_year    0.025000   22425.4\n",
              "..            ...         ...         ...       ...\n",
              "555  Other_makers  Other_year    1.000000   35000.0\n",
              "556  Other_makers  Other_year    0.224997   10000.0\n",
              "557           BMW        2014    0.574998  100000.0\n",
              "558  Other_makers        2013    0.074997   24000.0\n",
              "559        Toyota        2016    0.324997   94000.0\n",
              "\n",
              "[560 rows x 4 columns]"
            ]
          },
          "execution_count": 70,
          "metadata": {},
          "output_type": "execute_result"
        }
      ],
      "source": [
        "dataset"
      ]
    },
    {
      "cell_type": "code",
      "execution_count": 71,
      "id": "6b12bebd",
      "metadata": {
        "colab": {
          "base_uri": "https://localhost:8080/"
        },
        "id": "6b12bebd",
        "outputId": "01979921-f0a1-41b5-9dd8-6a9887d2718e"
      },
      "outputs": [],
      "source": [
        "toDummyColumns=['car_maker','year']\n",
        "for column in toDummyColumns:\n",
        "    sparse_columns = pd.get_dummies(dataset[column])\n",
        "    dataset = dataset.drop(column,axis= 1)\n",
        "    dataset = pd.concat([dataset,sparse_columns],1)"
      ]
    },
    {
      "cell_type": "code",
      "execution_count": 72,
      "id": "494524bb",
      "metadata": {
        "id": "494524bb"
      },
      "outputs": [],
      "source": [
        "dataset = dataset.sample(frac=1,random_state = 26)"
      ]
    },
    {
      "cell_type": "code",
      "execution_count": 73,
      "id": "418dacc6",
      "metadata": {
        "colab": {
          "base_uri": "https://localhost:8080/"
        },
        "id": "418dacc6",
        "outputId": "68645aca-e07e-45a3-e4db-4e3cdf66dfb8"
      },
      "outputs": [
        {
          "data": {
            "text/html": [
              "<div>\n",
              "<style scoped>\n",
              "    .dataframe tbody tr th:only-of-type {\n",
              "        vertical-align: middle;\n",
              "    }\n",
              "\n",
              "    .dataframe tbody tr th {\n",
              "        vertical-align: top;\n",
              "    }\n",
              "\n",
              "    .dataframe thead th {\n",
              "        text-align: right;\n",
              "    }\n",
              "</style>\n",
              "<table border=\"1\" class=\"dataframe\">\n",
              "  <thead>\n",
              "    <tr style=\"text-align: right;\">\n",
              "      <th></th>\n",
              "      <th>kilometers</th>\n",
              "      <th>price</th>\n",
              "      <th>BMW</th>\n",
              "      <th>Ford</th>\n",
              "      <th>Other_makers</th>\n",
              "      <th>Toyota</th>\n",
              "      <th>2007</th>\n",
              "      <th>2008</th>\n",
              "      <th>2013</th>\n",
              "      <th>2014</th>\n",
              "      <th>2016</th>\n",
              "      <th>Other_year</th>\n",
              "    </tr>\n",
              "  </thead>\n",
              "  <tbody>\n",
              "    <tr>\n",
              "      <th>66</th>\n",
              "      <td>1.000000</td>\n",
              "      <td>25000.0</td>\n",
              "      <td>1</td>\n",
              "      <td>0</td>\n",
              "      <td>0</td>\n",
              "      <td>0</td>\n",
              "      <td>0</td>\n",
              "      <td>1</td>\n",
              "      <td>0</td>\n",
              "      <td>0</td>\n",
              "      <td>0</td>\n",
              "      <td>0</td>\n",
              "    </tr>\n",
              "    <tr>\n",
              "      <th>116</th>\n",
              "      <td>0.025000</td>\n",
              "      <td>22425.4</td>\n",
              "      <td>0</td>\n",
              "      <td>1</td>\n",
              "      <td>0</td>\n",
              "      <td>0</td>\n",
              "      <td>0</td>\n",
              "      <td>0</td>\n",
              "      <td>0</td>\n",
              "      <td>0</td>\n",
              "      <td>0</td>\n",
              "      <td>1</td>\n",
              "    </tr>\n",
              "    <tr>\n",
              "      <th>35</th>\n",
              "      <td>0.524998</td>\n",
              "      <td>45000.0</td>\n",
              "      <td>0</td>\n",
              "      <td>1</td>\n",
              "      <td>0</td>\n",
              "      <td>0</td>\n",
              "      <td>0</td>\n",
              "      <td>0</td>\n",
              "      <td>0</td>\n",
              "      <td>1</td>\n",
              "      <td>0</td>\n",
              "      <td>0</td>\n",
              "    </tr>\n",
              "    <tr>\n",
              "      <th>391</th>\n",
              "      <td>0.324997</td>\n",
              "      <td>94000.0</td>\n",
              "      <td>0</td>\n",
              "      <td>0</td>\n",
              "      <td>0</td>\n",
              "      <td>1</td>\n",
              "      <td>0</td>\n",
              "      <td>0</td>\n",
              "      <td>0</td>\n",
              "      <td>0</td>\n",
              "      <td>1</td>\n",
              "      <td>0</td>\n",
              "    </tr>\n",
              "    <tr>\n",
              "      <th>42</th>\n",
              "      <td>1.000000</td>\n",
              "      <td>30000.0</td>\n",
              "      <td>0</td>\n",
              "      <td>0</td>\n",
              "      <td>0</td>\n",
              "      <td>1</td>\n",
              "      <td>0</td>\n",
              "      <td>1</td>\n",
              "      <td>0</td>\n",
              "      <td>0</td>\n",
              "      <td>0</td>\n",
              "      <td>0</td>\n",
              "    </tr>\n",
              "    <tr>\n",
              "      <th>...</th>\n",
              "      <td>...</td>\n",
              "      <td>...</td>\n",
              "      <td>...</td>\n",
              "      <td>...</td>\n",
              "      <td>...</td>\n",
              "      <td>...</td>\n",
              "      <td>...</td>\n",
              "      <td>...</td>\n",
              "      <td>...</td>\n",
              "      <td>...</td>\n",
              "      <td>...</td>\n",
              "      <td>...</td>\n",
              "    </tr>\n",
              "    <tr>\n",
              "      <th>160</th>\n",
              "      <td>1.000000</td>\n",
              "      <td>62500.0</td>\n",
              "      <td>1</td>\n",
              "      <td>0</td>\n",
              "      <td>0</td>\n",
              "      <td>0</td>\n",
              "      <td>1</td>\n",
              "      <td>0</td>\n",
              "      <td>0</td>\n",
              "      <td>0</td>\n",
              "      <td>0</td>\n",
              "      <td>0</td>\n",
              "    </tr>\n",
              "    <tr>\n",
              "      <th>77</th>\n",
              "      <td>0.224997</td>\n",
              "      <td>12000.0</td>\n",
              "      <td>0</td>\n",
              "      <td>0</td>\n",
              "      <td>1</td>\n",
              "      <td>0</td>\n",
              "      <td>0</td>\n",
              "      <td>0</td>\n",
              "      <td>0</td>\n",
              "      <td>0</td>\n",
              "      <td>1</td>\n",
              "      <td>0</td>\n",
              "    </tr>\n",
              "    <tr>\n",
              "      <th>102</th>\n",
              "      <td>1.000000</td>\n",
              "      <td>62500.0</td>\n",
              "      <td>1</td>\n",
              "      <td>0</td>\n",
              "      <td>0</td>\n",
              "      <td>0</td>\n",
              "      <td>1</td>\n",
              "      <td>0</td>\n",
              "      <td>0</td>\n",
              "      <td>0</td>\n",
              "      <td>0</td>\n",
              "      <td>0</td>\n",
              "    </tr>\n",
              "    <tr>\n",
              "      <th>432</th>\n",
              "      <td>0.724997</td>\n",
              "      <td>23000.0</td>\n",
              "      <td>0</td>\n",
              "      <td>1</td>\n",
              "      <td>0</td>\n",
              "      <td>0</td>\n",
              "      <td>0</td>\n",
              "      <td>0</td>\n",
              "      <td>0</td>\n",
              "      <td>0</td>\n",
              "      <td>0</td>\n",
              "      <td>1</td>\n",
              "    </tr>\n",
              "    <tr>\n",
              "      <th>318</th>\n",
              "      <td>1.000000</td>\n",
              "      <td>25000.0</td>\n",
              "      <td>1</td>\n",
              "      <td>0</td>\n",
              "      <td>0</td>\n",
              "      <td>0</td>\n",
              "      <td>0</td>\n",
              "      <td>1</td>\n",
              "      <td>0</td>\n",
              "      <td>0</td>\n",
              "      <td>0</td>\n",
              "      <td>0</td>\n",
              "    </tr>\n",
              "  </tbody>\n",
              "</table>\n",
              "<p>560 rows × 12 columns</p>\n",
              "</div>"
            ],
            "text/plain": [
              "     kilometers    price  BMW  Ford  Other_makers  Toyota  2007  2008  2013  \\\n",
              "66     1.000000  25000.0    1     0             0       0     0     1     0   \n",
              "116    0.025000  22425.4    0     1             0       0     0     0     0   \n",
              "35     0.524998  45000.0    0     1             0       0     0     0     0   \n",
              "391    0.324997  94000.0    0     0             0       1     0     0     0   \n",
              "42     1.000000  30000.0    0     0             0       1     0     1     0   \n",
              "..          ...      ...  ...   ...           ...     ...   ...   ...   ...   \n",
              "160    1.000000  62500.0    1     0             0       0     1     0     0   \n",
              "77     0.224997  12000.0    0     0             1       0     0     0     0   \n",
              "102    1.000000  62500.0    1     0             0       0     1     0     0   \n",
              "432    0.724997  23000.0    0     1             0       0     0     0     0   \n",
              "318    1.000000  25000.0    1     0             0       0     0     1     0   \n",
              "\n",
              "     2014  2016  Other_year  \n",
              "66      0     0           0  \n",
              "116     0     0           1  \n",
              "35      1     0           0  \n",
              "391     0     1           0  \n",
              "42      0     0           0  \n",
              "..    ...   ...         ...  \n",
              "160     0     0           0  \n",
              "77      0     1           0  \n",
              "102     0     0           0  \n",
              "432     0     0           1  \n",
              "318     0     0           0  \n",
              "\n",
              "[560 rows x 12 columns]"
            ]
          },
          "execution_count": 73,
          "metadata": {},
          "output_type": "execute_result"
        }
      ],
      "source": [
        "dataset"
      ]
    },
    {
      "cell_type": "code",
      "execution_count": 74,
      "id": "fbf62e04",
      "metadata": {
        "colab": {
          "base_uri": "https://localhost:8080/"
        },
        "id": "fbf62e04",
        "outputId": "f97ee756-f2f4-4759-c0d9-636e784ff36c"
      },
      "outputs": [
        {
          "data": {
            "text/html": [
              "<div>\n",
              "<style scoped>\n",
              "    .dataframe tbody tr th:only-of-type {\n",
              "        vertical-align: middle;\n",
              "    }\n",
              "\n",
              "    .dataframe tbody tr th {\n",
              "        vertical-align: top;\n",
              "    }\n",
              "\n",
              "    .dataframe thead th {\n",
              "        text-align: right;\n",
              "    }\n",
              "</style>\n",
              "<table border=\"1\" class=\"dataframe\">\n",
              "  <thead>\n",
              "    <tr style=\"text-align: right;\">\n",
              "      <th></th>\n",
              "      <th>kilometers</th>\n",
              "      <th>BMW</th>\n",
              "      <th>Ford</th>\n",
              "      <th>Other_makers</th>\n",
              "      <th>Toyota</th>\n",
              "      <th>2007</th>\n",
              "      <th>2008</th>\n",
              "      <th>2013</th>\n",
              "      <th>2014</th>\n",
              "      <th>2016</th>\n",
              "      <th>Other_year</th>\n",
              "    </tr>\n",
              "  </thead>\n",
              "  <tbody>\n",
              "    <tr>\n",
              "      <th>66</th>\n",
              "      <td>1.000000</td>\n",
              "      <td>1</td>\n",
              "      <td>0</td>\n",
              "      <td>0</td>\n",
              "      <td>0</td>\n",
              "      <td>0</td>\n",
              "      <td>1</td>\n",
              "      <td>0</td>\n",
              "      <td>0</td>\n",
              "      <td>0</td>\n",
              "      <td>0</td>\n",
              "    </tr>\n",
              "    <tr>\n",
              "      <th>116</th>\n",
              "      <td>0.025000</td>\n",
              "      <td>0</td>\n",
              "      <td>1</td>\n",
              "      <td>0</td>\n",
              "      <td>0</td>\n",
              "      <td>0</td>\n",
              "      <td>0</td>\n",
              "      <td>0</td>\n",
              "      <td>0</td>\n",
              "      <td>0</td>\n",
              "      <td>1</td>\n",
              "    </tr>\n",
              "    <tr>\n",
              "      <th>35</th>\n",
              "      <td>0.524998</td>\n",
              "      <td>0</td>\n",
              "      <td>1</td>\n",
              "      <td>0</td>\n",
              "      <td>0</td>\n",
              "      <td>0</td>\n",
              "      <td>0</td>\n",
              "      <td>0</td>\n",
              "      <td>1</td>\n",
              "      <td>0</td>\n",
              "      <td>0</td>\n",
              "    </tr>\n",
              "    <tr>\n",
              "      <th>391</th>\n",
              "      <td>0.324997</td>\n",
              "      <td>0</td>\n",
              "      <td>0</td>\n",
              "      <td>0</td>\n",
              "      <td>1</td>\n",
              "      <td>0</td>\n",
              "      <td>0</td>\n",
              "      <td>0</td>\n",
              "      <td>0</td>\n",
              "      <td>1</td>\n",
              "      <td>0</td>\n",
              "    </tr>\n",
              "    <tr>\n",
              "      <th>42</th>\n",
              "      <td>1.000000</td>\n",
              "      <td>0</td>\n",
              "      <td>0</td>\n",
              "      <td>0</td>\n",
              "      <td>1</td>\n",
              "      <td>0</td>\n",
              "      <td>1</td>\n",
              "      <td>0</td>\n",
              "      <td>0</td>\n",
              "      <td>0</td>\n",
              "      <td>0</td>\n",
              "    </tr>\n",
              "    <tr>\n",
              "      <th>...</th>\n",
              "      <td>...</td>\n",
              "      <td>...</td>\n",
              "      <td>...</td>\n",
              "      <td>...</td>\n",
              "      <td>...</td>\n",
              "      <td>...</td>\n",
              "      <td>...</td>\n",
              "      <td>...</td>\n",
              "      <td>...</td>\n",
              "      <td>...</td>\n",
              "      <td>...</td>\n",
              "    </tr>\n",
              "    <tr>\n",
              "      <th>160</th>\n",
              "      <td>1.000000</td>\n",
              "      <td>1</td>\n",
              "      <td>0</td>\n",
              "      <td>0</td>\n",
              "      <td>0</td>\n",
              "      <td>1</td>\n",
              "      <td>0</td>\n",
              "      <td>0</td>\n",
              "      <td>0</td>\n",
              "      <td>0</td>\n",
              "      <td>0</td>\n",
              "    </tr>\n",
              "    <tr>\n",
              "      <th>77</th>\n",
              "      <td>0.224997</td>\n",
              "      <td>0</td>\n",
              "      <td>0</td>\n",
              "      <td>1</td>\n",
              "      <td>0</td>\n",
              "      <td>0</td>\n",
              "      <td>0</td>\n",
              "      <td>0</td>\n",
              "      <td>0</td>\n",
              "      <td>1</td>\n",
              "      <td>0</td>\n",
              "    </tr>\n",
              "    <tr>\n",
              "      <th>102</th>\n",
              "      <td>1.000000</td>\n",
              "      <td>1</td>\n",
              "      <td>0</td>\n",
              "      <td>0</td>\n",
              "      <td>0</td>\n",
              "      <td>1</td>\n",
              "      <td>0</td>\n",
              "      <td>0</td>\n",
              "      <td>0</td>\n",
              "      <td>0</td>\n",
              "      <td>0</td>\n",
              "    </tr>\n",
              "    <tr>\n",
              "      <th>432</th>\n",
              "      <td>0.724997</td>\n",
              "      <td>0</td>\n",
              "      <td>1</td>\n",
              "      <td>0</td>\n",
              "      <td>0</td>\n",
              "      <td>0</td>\n",
              "      <td>0</td>\n",
              "      <td>0</td>\n",
              "      <td>0</td>\n",
              "      <td>0</td>\n",
              "      <td>1</td>\n",
              "    </tr>\n",
              "    <tr>\n",
              "      <th>318</th>\n",
              "      <td>1.000000</td>\n",
              "      <td>1</td>\n",
              "      <td>0</td>\n",
              "      <td>0</td>\n",
              "      <td>0</td>\n",
              "      <td>0</td>\n",
              "      <td>1</td>\n",
              "      <td>0</td>\n",
              "      <td>0</td>\n",
              "      <td>0</td>\n",
              "      <td>0</td>\n",
              "    </tr>\n",
              "  </tbody>\n",
              "</table>\n",
              "<p>560 rows × 11 columns</p>\n",
              "</div>"
            ],
            "text/plain": [
              "     kilometers  BMW  Ford  Other_makers  Toyota  2007  2008  2013  2014  \\\n",
              "66     1.000000    1     0             0       0     0     1     0     0   \n",
              "116    0.025000    0     1             0       0     0     0     0     0   \n",
              "35     0.524998    0     1             0       0     0     0     0     1   \n",
              "391    0.324997    0     0             0       1     0     0     0     0   \n",
              "42     1.000000    0     0             0       1     0     1     0     0   \n",
              "..          ...  ...   ...           ...     ...   ...   ...   ...   ...   \n",
              "160    1.000000    1     0             0       0     1     0     0     0   \n",
              "77     0.224997    0     0             1       0     0     0     0     0   \n",
              "102    1.000000    1     0             0       0     1     0     0     0   \n",
              "432    0.724997    0     1             0       0     0     0     0     0   \n",
              "318    1.000000    1     0             0       0     0     1     0     0   \n",
              "\n",
              "     2016  Other_year  \n",
              "66      0           0  \n",
              "116     0           1  \n",
              "35      0           0  \n",
              "391     1           0  \n",
              "42      0           0  \n",
              "..    ...         ...  \n",
              "160     0           0  \n",
              "77      1           0  \n",
              "102     0           0  \n",
              "432     0           1  \n",
              "318     0           0  \n",
              "\n",
              "[560 rows x 11 columns]"
            ]
          },
          "execution_count": 74,
          "metadata": {},
          "output_type": "execute_result"
        }
      ],
      "source": [
        "x = dataset.drop('price',1)\n",
        "x"
      ]
    },
    {
      "cell_type": "code",
      "execution_count": 75,
      "id": "102092ff",
      "metadata": {
        "colab": {
          "base_uri": "https://localhost:8080/"
        },
        "id": "102092ff",
        "outputId": "2933e34b-1ee5-45fa-853f-cf04bc9b633a"
      },
      "outputs": [
        {
          "data": {
            "text/plain": [
              "66     25000.0\n",
              "116    22425.4\n",
              "35     45000.0\n",
              "391    94000.0\n",
              "42     30000.0\n",
              "        ...   \n",
              "160    62500.0\n",
              "77     12000.0\n",
              "102    62500.0\n",
              "432    23000.0\n",
              "318    25000.0\n",
              "Name: price, Length: 560, dtype: float64"
            ]
          },
          "execution_count": 75,
          "metadata": {},
          "output_type": "execute_result"
        }
      ],
      "source": [
        "y = dataset['price']\n",
        "y"
      ]
    },
    {
      "cell_type": "code",
      "execution_count": 76,
      "id": "4fd8c868",
      "metadata": {
        "id": "4fd8c868"
      },
      "outputs": [],
      "source": [
        "x_train,x_test,y_train,y_test = train_test_split(x,y,test_size = 0.2,random_state = 404)"
      ]
    },
    {
      "cell_type": "code",
      "execution_count": 77,
      "id": "668e414b",
      "metadata": {
        "id": "668e414b"
      },
      "outputs": [],
      "source": [
        "degrees= []\n",
        "training_error=[]\n",
        "testing_error = []"
      ]
    },
    {
      "cell_type": "code",
      "execution_count": 78,
      "id": "3a5d2707",
      "metadata": {
        "id": "3a5d2707"
      },
      "outputs": [],
      "source": [
        "def model_trial(X_train, X_test, y_train, y_test,complexity):\n",
        "    degrees.append(complexity)\n",
        "    model = Lasso()\n",
        "    polynomial_features = PolynomialFeatures(degree=complexity)\n",
        "    expanded_features = polynomial_features.fit_transform(X_train)\n",
        "    model.fit(expanded_features, y_train)\n",
        "    trainPrediction = model.predict(expanded_features)\n",
        "    testPrediction = model.predict(polynomial_features.fit_transform(X_test))\n",
        "\n",
        "    trainError = metrics.mean_squared_error(y_train, trainPrediction)\n",
        "    testError = metrics.mean_squared_error(y_test, testPrediction)\n",
        "    training_error.append(trainError)\n",
        "    testing_error.append(testError)\n",
        "    print('Train subset (MSE) for degree {}: '.format(complexity), trainError)\n",
        "    print('Test subset (MSE) for degree {}: '.format(complexity), testError)"
      ]
    },
    {
      "cell_type": "code",
      "execution_count": 79,
      "id": "ee2fe9f7",
      "metadata": {
        "colab": {
          "base_uri": "https://localhost:8080/"
        },
        "id": "ee2fe9f7",
        "outputId": "688d88f1-e01d-422d-f59c-a9bea7d0a878"
      },
      "outputs": [
        {
          "name": "stdout",
          "output_type": "stream",
          "text": [
            "Train subset (MSE) for degree 4:  15795820.313419173\n",
            "Test subset (MSE) for degree 4:  9169801.024104634\n"
          ]
        }
      ],
      "source": [
        "model_trial(x_train,x_test,y_train,y_test,4)"
      ]
    },
    {
      "cell_type": "code",
      "execution_count": 80,
      "id": "0728b2f1",
      "metadata": {
        "colab": {
          "base_uri": "https://localhost:8080/"
        },
        "id": "0728b2f1",
        "outputId": "53604ac4-94d8-40f2-9359-bbf9c07cd744"
      },
      "outputs": [
        {
          "name": "stdout",
          "output_type": "stream",
          "text": [
            "Train subset (MSE) for degree 5:  15778616.86508815\n",
            "Test subset (MSE) for degree 5:  9152319.710070118\n"
          ]
        }
      ],
      "source": [
        "model_trial(x_train,x_test,y_train,y_test,5)"
      ]
    },
    {
      "cell_type": "code",
      "execution_count": 81,
      "id": "6c88ed55",
      "metadata": {
        "colab": {
          "base_uri": "https://localhost:8080/"
        },
        "id": "6c88ed55",
        "outputId": "690ecbe7-01ad-4614-813b-f6e266ce8f0a"
      },
      "outputs": [
        {
          "name": "stdout",
          "output_type": "stream",
          "text": [
            "Train subset (MSE) for degree 6:  15777254.171033174\n",
            "Test subset (MSE) for degree 6:  9148367.375879942\n"
          ]
        }
      ],
      "source": [
        "model_trial(x_train,x_test,y_train,y_test,6)"
      ]
    },
    {
      "cell_type": "code",
      "execution_count": 82,
      "id": "744bdd87",
      "metadata": {
        "colab": {
          "base_uri": "https://localhost:8080/"
        },
        "id": "744bdd87",
        "outputId": "180bef77-95e1-4da0-a1ea-4d5cf90ff3c1"
      },
      "outputs": [
        {
          "name": "stdout",
          "output_type": "stream",
          "text": [
            "Train subset (MSE) for degree 7:  15778518.080518125\n",
            "Test subset (MSE) for degree 7:  9149342.347083485\n"
          ]
        }
      ],
      "source": [
        "model_trial(x_train,x_test,y_train,y_test,7)"
      ]
    },
    {
      "cell_type": "code",
      "execution_count": 83,
      "id": "ca2610df",
      "metadata": {
        "colab": {
          "base_uri": "https://localhost:8080/"
        },
        "id": "ca2610df",
        "outputId": "71e4e548-a767-4a3b-e3e9-8a6005fd33ae"
      },
      "outputs": [
        {
          "name": "stdout",
          "output_type": "stream",
          "text": [
            "Train subset (MSE) for degree 8:  15777150.580801949\n",
            "Test subset (MSE) for degree 8:  9148269.463402985\n"
          ]
        }
      ],
      "source": [
        "model_trial(x_train,x_test,y_train,y_test,8)"
      ]
    },
    {
      "cell_type": "code",
      "execution_count": 84,
      "id": "cfbfd587",
      "metadata": {
        "colab": {
          "base_uri": "https://localhost:8080/"
        },
        "id": "cfbfd587",
        "outputId": "329dc46e-e1c5-4e79-d065-074de6d50d9a"
      },
      "outputs": [
        {
          "name": "stdout",
          "output_type": "stream",
          "text": [
            "Train subset (MSE) for degree 9:  15775149.652187526\n",
            "Test subset (MSE) for degree 9:  9148716.562393652\n"
          ]
        }
      ],
      "source": [
        "model_trial(x_train,x_test,y_train,y_test,9)"
      ]
    },
    {
      "cell_type": "code",
      "execution_count": 85,
      "id": "3afe195f",
      "metadata": {
        "colab": {
          "base_uri": "https://localhost:8080/"
        },
        "id": "3afe195f",
        "outputId": "f19194ac-f027-47ef-cb82-175e687f41b7"
      },
      "outputs": [
        {
          "name": "stdout",
          "output_type": "stream",
          "text": [
            "Train subset (MSE) for degree 10:  15775879.821383363\n",
            "Test subset (MSE) for degree 10:  9149796.663274124\n"
          ]
        }
      ],
      "source": [
        "model_trial(x_train,x_test,y_train,y_test,10)"
      ]
    },
    {
      "cell_type": "code",
      "execution_count": 86,
      "id": "1bd800bc",
      "metadata": {
        "colab": {
          "base_uri": "https://localhost:8080/"
        },
        "id": "1bd800bc",
        "outputId": "6867a749-a915-45e2-923e-e5ec380cef4c"
      },
      "outputs": [
        {
          "name": "stdout",
          "output_type": "stream",
          "text": [
            "Train subset (MSE) for degree 11:  15775349.51085037\n",
            "Test subset (MSE) for degree 11:  9149231.627457952\n"
          ]
        }
      ],
      "source": [
        "model_trial(x_train,x_test,y_train,y_test,11)"
      ]
    },
    {
      "cell_type": "code",
      "execution_count": 87,
      "id": "1fe8ff35",
      "metadata": {
        "colab": {
          "base_uri": "https://localhost:8080/",
          "height": 276
        },
        "id": "1fe8ff35",
        "outputId": "2c0456cf-ae95-48ac-e8b3-03801a841bd1"
      },
      "outputs": [
        {
          "data": {
            "image/png": "[encoded data removed]",
            "text/plain": [
              "<Figure size 432x288 with 1 Axes>"
            ]
          },
          "metadata": {
            "needs_background": "light"
          },
          "output_type": "display_data"
        }
      ],
      "source": [
        "plt.plot(degrees,training_error,color = 'red',label = 'Train error')\n",
        "plt.plot(degrees,testing_error,color = 'green',label = 'Test error')\n",
        "plt.legend(loc=\"upper left\", title=\"Errors\",frameon = False)\n",
        "plt.show()"
      ]
    },
    {
      "cell_type": "code",
      "execution_count": 88,
      "id": "56ad8f54",
      "metadata": {
        "colab": {
          "base_uri": "https://localhost:8080/",
          "height": 290
        },
        "id": "56ad8f54",
        "outputId": "74708d0d-6b2d-48c9-b57a-5c9e8e654957"
      },
      "outputs": [
        {
          "data": {
            "image/png": "[encoded data removed]",
            "text/plain": [
              "<Figure size 432x288 with 1 Axes>"
            ]
          },
          "metadata": {
            "needs_background": "light"
          },
          "output_type": "display_data"
        }
      ],
      "source": [
        "plt.plot(degrees,testing_error,color = 'green',label = 'Test error')\n",
        "plt.xlabel('complexity')\n",
        "plt.ylabel('testing error')\n",
        "plt.show()"
      ]
    },
    {
      "cell_type": "code",
      "execution_count": 89,
      "id": "x8D4-bCxucWp",
      "metadata": {
        "colab": {
          "base_uri": "https://localhost:8080/",
          "height": 290
        },
        "id": "x8D4-bCxucWp",
        "outputId": "5158bb1e-8345-4396-8f03-bda3f9fe014a"
      },
      "outputs": [
        {
          "data": {
            "image/png": "[encoded data removed]",
            "text/plain": [
              "<Figure size 432x288 with 1 Axes>"
            ]
          },
          "metadata": {
            "needs_background": "light"
          },
          "output_type": "display_data"
        }
      ],
      "source": [
        "plt.plot(degrees,training_error,color = 'red',label = 'Train error')\n",
        "plt.xlabel('complexity')\n",
        "plt.ylabel('training error')\n",
        "plt.show()"
      ]
    }
  ],
  "metadata": {
    "accelerator": "GPU",
    "colab": {
      "collapsed_sections": [],
      "name": "NKamaly20191700701.ipynb",
      "provenance": []
    },
    "interpreter": {
      "hash": "98cbb155e88162c362a1507947084b1bfaa5d6726fb70a737b6767cdcee875c4"
    },
    "kernelspec": {
      "display_name": "Python 3.9.7 ('MachineLearningCourse')",
      "language": "python",
      "name": "python3"
    },
    "language_info": {
      "codemirror_mode": {
        "name": "ipython",
        "version": 3
      },
      "file_extension": ".py",
      "mimetype": "text/x-python",
      "name": "python",
      "nbconvert_exporter": "python",
      "pygments_lexer": "ipython3",
      "version": "3.9.7"
    }
  },
  "nbformat": 4,
  "nbformat_minor": 5
}
