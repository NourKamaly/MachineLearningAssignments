{
 "cells": [
  {
   "cell_type": "code",
   "execution_count": 1,
   "metadata": {
    "colab": {
     "base_uri": "https://localhost:8080/"
    },
    "id": "QIsq8MT4YuTK",
    "outputId": "4437819e-98e3-4399-cc98-ecd91f0827a7"
   },
   "outputs": [
    {
     "name": "stdout",
     "output_type": "stream",
     "text": [
      "Mounted at /content/drive\n"
     ]
    }
   ],
   "source": [
    "from google.colab import drive\n",
    "drive.mount('/content/drive')"
   ]
  },
  {
   "cell_type": "code",
   "execution_count": 2,
   "metadata": {
    "id": "w84uIP1wZDPl"
   },
   "outputs": [],
   "source": [
    "import numpy as np\n",
    "import pandas as pd\n",
    "import matplotlib.pyplot as plt\n",
    "import os\n",
    "import cv2\n",
    "from skimage.feature import hog\n",
    "import warnings\n",
    "warnings.filterwarnings(\"ignore\")"
   ]
  },
  {
   "cell_type": "code",
   "execution_count": 3,
   "metadata": {
    "id": "lzJebb_NqILl"
   },
   "outputs": [],
   "source": [
    "data_directory = \"/content/drive/MyDrive/Deep_learning\""
   ]
  },
  {
   "cell_type": "code",
   "execution_count": 4,
   "metadata": {
    "id": "QwEWAvFiekAU"
   },
   "outputs": [],
   "source": [
    "columns=[]\n",
    "for ctr in range(0,3780):\n",
    "    columns.append(str(ctr))"
   ]
  },
  {
   "cell_type": "code",
   "execution_count": 5,
   "metadata": {
    "id": "w6UWCGa5ZhQr"
   },
   "outputs": [],
   "source": [
    "categories = [\"CatsTrain\",\"DogsTrain\",\"CatsTest\",\"DogsTest\"]\n",
    "\n",
    "def create_data(category):\n",
    "    path = os.path.join(data_directory,category)\n",
    "    df = pd.DataFrame (columns=columns)\n",
    "    for image in os.listdir(path):\n",
    "        img = cv2.imread(os.path.join(path,image),cv2.IMREAD_GRAYSCALE)\n",
    "        resized_img = cv2.resize(img,(128,64))\n",
    "        fd,hog_img = hog(resized_img,orientations=9,pixels_per_cell=(8,8),cells_per_block=(2,2),visualize=True)\n",
    "        df.loc[len(df)] = fd.tolist()\n",
    "    return df\n"
   ]
  },
  {
   "cell_type": "code",
   "execution_count": 6,
   "metadata": {
    "id": "WSzGf5pxh7D3"
   },
   "outputs": [],
   "source": [
    "catsTrain = create_data(categories[0])\n",
    "catsTrain['label'] = \"cat\""
   ]
  },
  {
   "cell_type": "code",
   "execution_count": 7,
   "metadata": {
    "id": "WrZJInQ7tX-7"
   },
   "outputs": [],
   "source": [
    "dogsTrain = create_data(categories[1])\n",
    "dogsTrain['label'] = \"dog\""
   ]
  },
  {
   "cell_type": "code",
   "execution_count": 8,
   "metadata": {
    "id": "zH1vxkuMOOx3"
   },
   "outputs": [],
   "source": [
    "catsTest = create_data(categories[2])\n",
    "catsTest['label'] = \"cat\""
   ]
  },
  {
   "cell_type": "code",
   "execution_count": 9,
   "metadata": {
    "id": "buy40cPItbUG"
   },
   "outputs": [],
   "source": [
    "dogsTest = create_data(categories[3])\n",
    "dogsTest['label'] = \"dog\""
   ]
  },
  {
   "cell_type": "code",
   "execution_count": 10,
   "metadata": {
    "colab": {
     "base_uri": "https://localhost:8080/",
     "height": 299
    },
    "id": "STU2UJSbGAkw",
    "outputId": "ecef15af-9575-4df3-a4d6-65c4a00869a8"
   },
   "outputs": [
    {
     "data": {
      "text/html": [
       "\n",
       "  <div id=\"df-e8ac9de6-1224-4a42-ad14-0a339d7c2880\">\n",
       "    <div class=\"colab-df-container\">\n",
       "      <div>\n",
       "<style scoped>\n",
       "    .dataframe tbody tr th:only-of-type {\n",
       "        vertical-align: middle;\n",
       "    }\n",
       "\n",
       "    .dataframe tbody tr th {\n",
       "        vertical-align: top;\n",
       "    }\n",
       "\n",
       "    .dataframe thead th {\n",
       "        text-align: right;\n",
       "    }\n",
       "</style>\n",
       "<table border=\"1\" class=\"dataframe\">\n",
       "  <thead>\n",
       "    <tr style=\"text-align: right;\">\n",
       "      <th></th>\n",
       "      <th>0</th>\n",
       "      <th>1</th>\n",
       "      <th>2</th>\n",
       "      <th>3</th>\n",
       "      <th>4</th>\n",
       "      <th>5</th>\n",
       "      <th>6</th>\n",
       "      <th>7</th>\n",
       "      <th>8</th>\n",
       "      <th>9</th>\n",
       "      <th>...</th>\n",
       "      <th>3771</th>\n",
       "      <th>3772</th>\n",
       "      <th>3773</th>\n",
       "      <th>3774</th>\n",
       "      <th>3775</th>\n",
       "      <th>3776</th>\n",
       "      <th>3777</th>\n",
       "      <th>3778</th>\n",
       "      <th>3779</th>\n",
       "      <th>label</th>\n",
       "    </tr>\n",
       "  </thead>\n",
       "  <tbody>\n",
       "    <tr>\n",
       "      <th>0</th>\n",
       "      <td>0.241753</td>\n",
       "      <td>0.000000</td>\n",
       "      <td>0.000000</td>\n",
       "      <td>0.072577</td>\n",
       "      <td>0.051285</td>\n",
       "      <td>0.016286</td>\n",
       "      <td>0.125519</td>\n",
       "      <td>0.063632</td>\n",
       "      <td>0.241753</td>\n",
       "      <td>0.241753</td>\n",
       "      <td>...</td>\n",
       "      <td>0.014030</td>\n",
       "      <td>0.000000</td>\n",
       "      <td>0.030254</td>\n",
       "      <td>0.263666</td>\n",
       "      <td>0.301955</td>\n",
       "      <td>0.101873</td>\n",
       "      <td>0.017538</td>\n",
       "      <td>0.000000</td>\n",
       "      <td>0.011092</td>\n",
       "      <td>cat</td>\n",
       "    </tr>\n",
       "    <tr>\n",
       "      <th>1</th>\n",
       "      <td>0.192790</td>\n",
       "      <td>0.046118</td>\n",
       "      <td>0.210582</td>\n",
       "      <td>0.098310</td>\n",
       "      <td>0.263412</td>\n",
       "      <td>0.121847</td>\n",
       "      <td>0.261686</td>\n",
       "      <td>0.028087</td>\n",
       "      <td>0.007077</td>\n",
       "      <td>0.239167</td>\n",
       "      <td>...</td>\n",
       "      <td>0.175537</td>\n",
       "      <td>0.016547</td>\n",
       "      <td>0.006977</td>\n",
       "      <td>0.000000</td>\n",
       "      <td>0.002467</td>\n",
       "      <td>0.005516</td>\n",
       "      <td>0.000000</td>\n",
       "      <td>0.332082</td>\n",
       "      <td>0.332082</td>\n",
       "      <td>cat</td>\n",
       "    </tr>\n",
       "    <tr>\n",
       "      <th>2</th>\n",
       "      <td>0.075876</td>\n",
       "      <td>0.035997</td>\n",
       "      <td>0.312699</td>\n",
       "      <td>0.343232</td>\n",
       "      <td>0.343232</td>\n",
       "      <td>0.284990</td>\n",
       "      <td>0.077698</td>\n",
       "      <td>0.097745</td>\n",
       "      <td>0.008233</td>\n",
       "      <td>0.125583</td>\n",
       "      <td>...</td>\n",
       "      <td>0.174531</td>\n",
       "      <td>0.090774</td>\n",
       "      <td>0.054553</td>\n",
       "      <td>0.156989</td>\n",
       "      <td>0.248797</td>\n",
       "      <td>0.250703</td>\n",
       "      <td>0.025218</td>\n",
       "      <td>0.014973</td>\n",
       "      <td>0.080593</td>\n",
       "      <td>cat</td>\n",
       "    </tr>\n",
       "    <tr>\n",
       "      <th>3</th>\n",
       "      <td>0.246393</td>\n",
       "      <td>0.015291</td>\n",
       "      <td>0.016501</td>\n",
       "      <td>0.054393</td>\n",
       "      <td>0.166900</td>\n",
       "      <td>0.034273</td>\n",
       "      <td>0.128636</td>\n",
       "      <td>0.101913</td>\n",
       "      <td>0.184730</td>\n",
       "      <td>0.267048</td>\n",
       "      <td>...</td>\n",
       "      <td>0.217343</td>\n",
       "      <td>0.224608</td>\n",
       "      <td>0.224608</td>\n",
       "      <td>0.224608</td>\n",
       "      <td>0.224608</td>\n",
       "      <td>0.100377</td>\n",
       "      <td>0.049515</td>\n",
       "      <td>0.113828</td>\n",
       "      <td>0.061431</td>\n",
       "      <td>cat</td>\n",
       "    </tr>\n",
       "    <tr>\n",
       "      <th>4</th>\n",
       "      <td>0.265545</td>\n",
       "      <td>0.084236</td>\n",
       "      <td>0.101965</td>\n",
       "      <td>0.077844</td>\n",
       "      <td>0.265545</td>\n",
       "      <td>0.000000</td>\n",
       "      <td>0.061179</td>\n",
       "      <td>0.032244</td>\n",
       "      <td>0.091200</td>\n",
       "      <td>0.265545</td>\n",
       "      <td>...</td>\n",
       "      <td>0.193392</td>\n",
       "      <td>0.097670</td>\n",
       "      <td>0.014492</td>\n",
       "      <td>0.112961</td>\n",
       "      <td>0.241013</td>\n",
       "      <td>0.241013</td>\n",
       "      <td>0.241013</td>\n",
       "      <td>0.169854</td>\n",
       "      <td>0.040459</td>\n",
       "      <td>cat</td>\n",
       "    </tr>\n",
       "  </tbody>\n",
       "</table>\n",
       "<p>5 rows × 3781 columns</p>\n",
       "</div>\n",
       "      <button class=\"colab-df-convert\" onclick=\"convertToInteractive('df-e8ac9de6-1224-4a42-ad14-0a339d7c2880')\"\n",
       "              title=\"Convert this dataframe to an interactive table.\"\n",
       "              style=\"display:none;\">\n",
       "        \n",
       "  <svg xmlns=\"http://www.w3.org/2000/svg\" height=\"24px\"viewBox=\"0 0 24 24\"\n",
       "       width=\"24px\">\n",
       "    <path d=\"M0 0h24v24H0V0z\" fill=\"none\"/>\n",
       "    <path d=\"M18.56 5.44l.94 2.06.94-2.06 2.06-.94-2.06-.94-.94-2.06-.94 2.06-2.06.94zm-11 1L8.5 8.5l.94-2.06 2.06-.94-2.06-.94L8.5 2.5l-.94 2.06-2.06.94zm10 10l.94 2.06.94-2.06 2.06-.94-2.06-.94-.94-2.06-.94 2.06-2.06.94z\"/><path d=\"M17.41 7.96l-1.37-1.37c-.4-.4-.92-.59-1.43-.59-.52 0-1.04.2-1.43.59L10.3 9.45l-7.72 7.72c-.78.78-.78 2.05 0 2.83L4 21.41c.39.39.9.59 1.41.59.51 0 1.02-.2 1.41-.59l7.78-7.78 2.81-2.81c.8-.78.8-2.07 0-2.86zM5.41 20L4 18.59l7.72-7.72 1.47 1.35L5.41 20z\"/>\n",
       "  </svg>\n",
       "      </button>\n",
       "      \n",
       "  <style>\n",
       "    .colab-df-container {\n",
       "      display:flex;\n",
       "      flex-wrap:wrap;\n",
       "      gap: 12px;\n",
       "    }\n",
       "\n",
       "    .colab-df-convert {\n",
       "      background-color: #E8F0FE;\n",
       "      border: none;\n",
       "      border-radius: 50%;\n",
       "      cursor: pointer;\n",
       "      display: none;\n",
       "      fill: #1967D2;\n",
       "      height: 32px;\n",
       "      padding: 0 0 0 0;\n",
       "      width: 32px;\n",
       "    }\n",
       "\n",
       "    .colab-df-convert:hover {\n",
       "      background-color: #E2EBFA;\n",
       "      box-shadow: 0px 1px 2px rgba(60, 64, 67, 0.3), 0px 1px 3px 1px rgba(60, 64, 67, 0.15);\n",
       "      fill: #174EA6;\n",
       "    }\n",
       "\n",
       "    [theme=dark] .colab-df-convert {\n",
       "      background-color: #3B4455;\n",
       "      fill: #D2E3FC;\n",
       "    }\n",
       "\n",
       "    [theme=dark] .colab-df-convert:hover {\n",
       "      background-color: #434B5C;\n",
       "      box-shadow: 0px 1px 3px 1px rgba(0, 0, 0, 0.15);\n",
       "      filter: drop-shadow(0px 1px 2px rgba(0, 0, 0, 0.3));\n",
       "      fill: #FFFFFF;\n",
       "    }\n",
       "  </style>\n",
       "\n",
       "      <script>\n",
       "        const buttonEl =\n",
       "          document.querySelector('#df-e8ac9de6-1224-4a42-ad14-0a339d7c2880 button.colab-df-convert');\n",
       "        buttonEl.style.display =\n",
       "          google.colab.kernel.accessAllowed ? 'block' : 'none';\n",
       "\n",
       "        async function convertToInteractive(key) {\n",
       "          const element = document.querySelector('#df-e8ac9de6-1224-4a42-ad14-0a339d7c2880');\n",
       "          const dataTable =\n",
       "            await google.colab.kernel.invokeFunction('convertToInteractive',\n",
       "                                                     [key], {});\n",
       "          if (!dataTable) return;\n",
       "\n",
       "          const docLinkHtml = 'Like what you see? Visit the ' +\n",
       "            '<a target=\"_blank\" href=https://colab.research.google.com/notebooks/data_table.ipynb>data table notebook</a>'\n",
       "            + ' to learn more about interactive tables.';\n",
       "          element.innerHTML = '';\n",
       "          dataTable['output_type'] = 'display_data';\n",
       "          await google.colab.output.renderOutput(dataTable, element);\n",
       "          const docLink = document.createElement('div');\n",
       "          docLink.innerHTML = docLinkHtml;\n",
       "          element.appendChild(docLink);\n",
       "        }\n",
       "      </script>\n",
       "    </div>\n",
       "  </div>\n",
       "  "
      ],
      "text/plain": [
       "          0         1         2         3         4         5         6  \\\n",
       "0  0.241753  0.000000  0.000000  0.072577  0.051285  0.016286  0.125519   \n",
       "1  0.192790  0.046118  0.210582  0.098310  0.263412  0.121847  0.261686   \n",
       "2  0.075876  0.035997  0.312699  0.343232  0.343232  0.284990  0.077698   \n",
       "3  0.246393  0.015291  0.016501  0.054393  0.166900  0.034273  0.128636   \n",
       "4  0.265545  0.084236  0.101965  0.077844  0.265545  0.000000  0.061179   \n",
       "\n",
       "          7         8         9  ...      3771      3772      3773      3774  \\\n",
       "0  0.063632  0.241753  0.241753  ...  0.014030  0.000000  0.030254  0.263666   \n",
       "1  0.028087  0.007077  0.239167  ...  0.175537  0.016547  0.006977  0.000000   \n",
       "2  0.097745  0.008233  0.125583  ...  0.174531  0.090774  0.054553  0.156989   \n",
       "3  0.101913  0.184730  0.267048  ...  0.217343  0.224608  0.224608  0.224608   \n",
       "4  0.032244  0.091200  0.265545  ...  0.193392  0.097670  0.014492  0.112961   \n",
       "\n",
       "       3775      3776      3777      3778      3779  label  \n",
       "0  0.301955  0.101873  0.017538  0.000000  0.011092    cat  \n",
       "1  0.002467  0.005516  0.000000  0.332082  0.332082    cat  \n",
       "2  0.248797  0.250703  0.025218  0.014973  0.080593    cat  \n",
       "3  0.224608  0.100377  0.049515  0.113828  0.061431    cat  \n",
       "4  0.241013  0.241013  0.241013  0.169854  0.040459    cat  \n",
       "\n",
       "[5 rows x 3781 columns]"
      ]
     },
     "execution_count": 10,
     "metadata": {},
     "output_type": "execute_result"
    }
   ],
   "source": [
    "catsTrain.head()"
   ]
  },
  {
   "cell_type": "code",
   "execution_count": 11,
   "metadata": {
    "colab": {
     "base_uri": "https://localhost:8080/"
    },
    "id": "XBtcq_3eGOMH",
    "outputId": "1cde503a-8a65-4c0c-d3fb-a2fe940fe6a0"
   },
   "outputs": [
    {
     "data": {
      "text/plain": [
       "(1000, 3781)"
      ]
     },
     "execution_count": 11,
     "metadata": {},
     "output_type": "execute_result"
    }
   ],
   "source": [
    "catsTrain.shape"
   ]
  },
  {
   "cell_type": "code",
   "execution_count": 12,
   "metadata": {
    "colab": {
     "base_uri": "https://localhost:8080/",
     "height": 299
    },
    "id": "7aZLFV75GE9I",
    "outputId": "95631e17-04cd-4ede-eb6f-9d37d693adfb"
   },
   "outputs": [
    {
     "data": {
      "text/html": [
       "\n",
       "  <div id=\"df-c5360722-690b-4dee-a664-a75d16605eb6\">\n",
       "    <div class=\"colab-df-container\">\n",
       "      <div>\n",
       "<style scoped>\n",
       "    .dataframe tbody tr th:only-of-type {\n",
       "        vertical-align: middle;\n",
       "    }\n",
       "\n",
       "    .dataframe tbody tr th {\n",
       "        vertical-align: top;\n",
       "    }\n",
       "\n",
       "    .dataframe thead th {\n",
       "        text-align: right;\n",
       "    }\n",
       "</style>\n",
       "<table border=\"1\" class=\"dataframe\">\n",
       "  <thead>\n",
       "    <tr style=\"text-align: right;\">\n",
       "      <th></th>\n",
       "      <th>0</th>\n",
       "      <th>1</th>\n",
       "      <th>2</th>\n",
       "      <th>3</th>\n",
       "      <th>4</th>\n",
       "      <th>5</th>\n",
       "      <th>6</th>\n",
       "      <th>7</th>\n",
       "      <th>8</th>\n",
       "      <th>9</th>\n",
       "      <th>...</th>\n",
       "      <th>3771</th>\n",
       "      <th>3772</th>\n",
       "      <th>3773</th>\n",
       "      <th>3774</th>\n",
       "      <th>3775</th>\n",
       "      <th>3776</th>\n",
       "      <th>3777</th>\n",
       "      <th>3778</th>\n",
       "      <th>3779</th>\n",
       "      <th>label</th>\n",
       "    </tr>\n",
       "  </thead>\n",
       "  <tbody>\n",
       "    <tr>\n",
       "      <th>0</th>\n",
       "      <td>0.154732</td>\n",
       "      <td>0.057584</td>\n",
       "      <td>0.137651</td>\n",
       "      <td>0.289064</td>\n",
       "      <td>0.289064</td>\n",
       "      <td>0.289064</td>\n",
       "      <td>0.089502</td>\n",
       "      <td>0.015110</td>\n",
       "      <td>0.006577</td>\n",
       "      <td>0.107467</td>\n",
       "      <td>...</td>\n",
       "      <td>0.029333</td>\n",
       "      <td>0.012054</td>\n",
       "      <td>0.040675</td>\n",
       "      <td>0.056344</td>\n",
       "      <td>0.124286</td>\n",
       "      <td>0.033661</td>\n",
       "      <td>0.015463</td>\n",
       "      <td>0.007248</td>\n",
       "      <td>0.002841</td>\n",
       "      <td>dog</td>\n",
       "    </tr>\n",
       "    <tr>\n",
       "      <th>1</th>\n",
       "      <td>0.281340</td>\n",
       "      <td>0.012626</td>\n",
       "      <td>0.022283</td>\n",
       "      <td>0.002336</td>\n",
       "      <td>0.047164</td>\n",
       "      <td>0.040220</td>\n",
       "      <td>0.019317</td>\n",
       "      <td>0.045419</td>\n",
       "      <td>0.141969</td>\n",
       "      <td>0.281340</td>\n",
       "      <td>...</td>\n",
       "      <td>0.069586</td>\n",
       "      <td>0.045941</td>\n",
       "      <td>0.043631</td>\n",
       "      <td>0.039034</td>\n",
       "      <td>0.081617</td>\n",
       "      <td>0.061967</td>\n",
       "      <td>0.010974</td>\n",
       "      <td>0.069001</td>\n",
       "      <td>0.008228</td>\n",
       "      <td>dog</td>\n",
       "    </tr>\n",
       "    <tr>\n",
       "      <th>2</th>\n",
       "      <td>0.189745</td>\n",
       "      <td>0.102071</td>\n",
       "      <td>0.161415</td>\n",
       "      <td>0.104718</td>\n",
       "      <td>0.182638</td>\n",
       "      <td>0.074763</td>\n",
       "      <td>0.065133</td>\n",
       "      <td>0.054822</td>\n",
       "      <td>0.016006</td>\n",
       "      <td>0.264248</td>\n",
       "      <td>...</td>\n",
       "      <td>0.225083</td>\n",
       "      <td>0.086324</td>\n",
       "      <td>0.172569</td>\n",
       "      <td>0.144723</td>\n",
       "      <td>0.214983</td>\n",
       "      <td>0.159178</td>\n",
       "      <td>0.046186</td>\n",
       "      <td>0.058533</td>\n",
       "      <td>0.035127</td>\n",
       "      <td>dog</td>\n",
       "    </tr>\n",
       "    <tr>\n",
       "      <th>3</th>\n",
       "      <td>0.254610</td>\n",
       "      <td>0.191117</td>\n",
       "      <td>0.254610</td>\n",
       "      <td>0.214249</td>\n",
       "      <td>0.254610</td>\n",
       "      <td>0.222434</td>\n",
       "      <td>0.209083</td>\n",
       "      <td>0.134294</td>\n",
       "      <td>0.042081</td>\n",
       "      <td>0.254610</td>\n",
       "      <td>...</td>\n",
       "      <td>0.138010</td>\n",
       "      <td>0.041715</td>\n",
       "      <td>0.025735</td>\n",
       "      <td>0.251683</td>\n",
       "      <td>0.251683</td>\n",
       "      <td>0.165932</td>\n",
       "      <td>0.236967</td>\n",
       "      <td>0.230461</td>\n",
       "      <td>0.000000</td>\n",
       "      <td>dog</td>\n",
       "    </tr>\n",
       "    <tr>\n",
       "      <th>4</th>\n",
       "      <td>0.315898</td>\n",
       "      <td>0.105646</td>\n",
       "      <td>0.315898</td>\n",
       "      <td>0.315898</td>\n",
       "      <td>0.074235</td>\n",
       "      <td>0.005675</td>\n",
       "      <td>0.002442</td>\n",
       "      <td>0.000000</td>\n",
       "      <td>0.195756</td>\n",
       "      <td>0.016190</td>\n",
       "      <td>...</td>\n",
       "      <td>0.355528</td>\n",
       "      <td>0.205336</td>\n",
       "      <td>0.253166</td>\n",
       "      <td>0.355528</td>\n",
       "      <td>0.142067</td>\n",
       "      <td>0.033202</td>\n",
       "      <td>0.024707</td>\n",
       "      <td>0.034656</td>\n",
       "      <td>0.242452</td>\n",
       "      <td>dog</td>\n",
       "    </tr>\n",
       "  </tbody>\n",
       "</table>\n",
       "<p>5 rows × 3781 columns</p>\n",
       "</div>\n",
       "      <button class=\"colab-df-convert\" onclick=\"convertToInteractive('df-c5360722-690b-4dee-a664-a75d16605eb6')\"\n",
       "              title=\"Convert this dataframe to an interactive table.\"\n",
       "              style=\"display:none;\">\n",
       "        \n",
       "  <svg xmlns=\"http://www.w3.org/2000/svg\" height=\"24px\"viewBox=\"0 0 24 24\"\n",
       "       width=\"24px\">\n",
       "    <path d=\"M0 0h24v24H0V0z\" fill=\"none\"/>\n",
       "    <path d=\"M18.56 5.44l.94 2.06.94-2.06 2.06-.94-2.06-.94-.94-2.06-.94 2.06-2.06.94zm-11 1L8.5 8.5l.94-2.06 2.06-.94-2.06-.94L8.5 2.5l-.94 2.06-2.06.94zm10 10l.94 2.06.94-2.06 2.06-.94-2.06-.94-.94-2.06-.94 2.06-2.06.94z\"/><path d=\"M17.41 7.96l-1.37-1.37c-.4-.4-.92-.59-1.43-.59-.52 0-1.04.2-1.43.59L10.3 9.45l-7.72 7.72c-.78.78-.78 2.05 0 2.83L4 21.41c.39.39.9.59 1.41.59.51 0 1.02-.2 1.41-.59l7.78-7.78 2.81-2.81c.8-.78.8-2.07 0-2.86zM5.41 20L4 18.59l7.72-7.72 1.47 1.35L5.41 20z\"/>\n",
       "  </svg>\n",
       "      </button>\n",
       "      \n",
       "  <style>\n",
       "    .colab-df-container {\n",
       "      display:flex;\n",
       "      flex-wrap:wrap;\n",
       "      gap: 12px;\n",
       "    }\n",
       "\n",
       "    .colab-df-convert {\n",
       "      background-color: #E8F0FE;\n",
       "      border: none;\n",
       "      border-radius: 50%;\n",
       "      cursor: pointer;\n",
       "      display: none;\n",
       "      fill: #1967D2;\n",
       "      height: 32px;\n",
       "      padding: 0 0 0 0;\n",
       "      width: 32px;\n",
       "    }\n",
       "\n",
       "    .colab-df-convert:hover {\n",
       "      background-color: #E2EBFA;\n",
       "      box-shadow: 0px 1px 2px rgba(60, 64, 67, 0.3), 0px 1px 3px 1px rgba(60, 64, 67, 0.15);\n",
       "      fill: #174EA6;\n",
       "    }\n",
       "\n",
       "    [theme=dark] .colab-df-convert {\n",
       "      background-color: #3B4455;\n",
       "      fill: #D2E3FC;\n",
       "    }\n",
       "\n",
       "    [theme=dark] .colab-df-convert:hover {\n",
       "      background-color: #434B5C;\n",
       "      box-shadow: 0px 1px 3px 1px rgba(0, 0, 0, 0.15);\n",
       "      filter: drop-shadow(0px 1px 2px rgba(0, 0, 0, 0.3));\n",
       "      fill: #FFFFFF;\n",
       "    }\n",
       "  </style>\n",
       "\n",
       "      <script>\n",
       "        const buttonEl =\n",
       "          document.querySelector('#df-c5360722-690b-4dee-a664-a75d16605eb6 button.colab-df-convert');\n",
       "        buttonEl.style.display =\n",
       "          google.colab.kernel.accessAllowed ? 'block' : 'none';\n",
       "\n",
       "        async function convertToInteractive(key) {\n",
       "          const element = document.querySelector('#df-c5360722-690b-4dee-a664-a75d16605eb6');\n",
       "          const dataTable =\n",
       "            await google.colab.kernel.invokeFunction('convertToInteractive',\n",
       "                                                     [key], {});\n",
       "          if (!dataTable) return;\n",
       "\n",
       "          const docLinkHtml = 'Like what you see? Visit the ' +\n",
       "            '<a target=\"_blank\" href=https://colab.research.google.com/notebooks/data_table.ipynb>data table notebook</a>'\n",
       "            + ' to learn more about interactive tables.';\n",
       "          element.innerHTML = '';\n",
       "          dataTable['output_type'] = 'display_data';\n",
       "          await google.colab.output.renderOutput(dataTable, element);\n",
       "          const docLink = document.createElement('div');\n",
       "          docLink.innerHTML = docLinkHtml;\n",
       "          element.appendChild(docLink);\n",
       "        }\n",
       "      </script>\n",
       "    </div>\n",
       "  </div>\n",
       "  "
      ],
      "text/plain": [
       "          0         1         2         3         4         5         6  \\\n",
       "0  0.154732  0.057584  0.137651  0.289064  0.289064  0.289064  0.089502   \n",
       "1  0.281340  0.012626  0.022283  0.002336  0.047164  0.040220  0.019317   \n",
       "2  0.189745  0.102071  0.161415  0.104718  0.182638  0.074763  0.065133   \n",
       "3  0.254610  0.191117  0.254610  0.214249  0.254610  0.222434  0.209083   \n",
       "4  0.315898  0.105646  0.315898  0.315898  0.074235  0.005675  0.002442   \n",
       "\n",
       "          7         8         9  ...      3771      3772      3773      3774  \\\n",
       "0  0.015110  0.006577  0.107467  ...  0.029333  0.012054  0.040675  0.056344   \n",
       "1  0.045419  0.141969  0.281340  ...  0.069586  0.045941  0.043631  0.039034   \n",
       "2  0.054822  0.016006  0.264248  ...  0.225083  0.086324  0.172569  0.144723   \n",
       "3  0.134294  0.042081  0.254610  ...  0.138010  0.041715  0.025735  0.251683   \n",
       "4  0.000000  0.195756  0.016190  ...  0.355528  0.205336  0.253166  0.355528   \n",
       "\n",
       "       3775      3776      3777      3778      3779  label  \n",
       "0  0.124286  0.033661  0.015463  0.007248  0.002841    dog  \n",
       "1  0.081617  0.061967  0.010974  0.069001  0.008228    dog  \n",
       "2  0.214983  0.159178  0.046186  0.058533  0.035127    dog  \n",
       "3  0.251683  0.165932  0.236967  0.230461  0.000000    dog  \n",
       "4  0.142067  0.033202  0.024707  0.034656  0.242452    dog  \n",
       "\n",
       "[5 rows x 3781 columns]"
      ]
     },
     "execution_count": 12,
     "metadata": {},
     "output_type": "execute_result"
    }
   ],
   "source": [
    "dogsTrain.head()"
   ]
  },
  {
   "cell_type": "code",
   "execution_count": 13,
   "metadata": {
    "colab": {
     "base_uri": "https://localhost:8080/"
    },
    "id": "alS5pi8tGRZt",
    "outputId": "ea3b854c-a3af-4d60-bd5d-cf130af25f3b"
   },
   "outputs": [
    {
     "data": {
      "text/plain": [
       "(1000, 3781)"
      ]
     },
     "execution_count": 13,
     "metadata": {},
     "output_type": "execute_result"
    }
   ],
   "source": [
    "dogsTrain.shape"
   ]
  },
  {
   "cell_type": "code",
   "execution_count": 14,
   "metadata": {
    "colab": {
     "base_uri": "https://localhost:8080/",
     "height": 299
    },
    "id": "8c9hA7M5CWEr",
    "outputId": "c08ccfa4-9c47-4d8d-df7c-037648eb7fe3"
   },
   "outputs": [
    {
     "data": {
      "text/html": [
       "\n",
       "  <div id=\"df-cec2226e-6b17-477a-be17-5369d5c2b7a3\">\n",
       "    <div class=\"colab-df-container\">\n",
       "      <div>\n",
       "<style scoped>\n",
       "    .dataframe tbody tr th:only-of-type {\n",
       "        vertical-align: middle;\n",
       "    }\n",
       "\n",
       "    .dataframe tbody tr th {\n",
       "        vertical-align: top;\n",
       "    }\n",
       "\n",
       "    .dataframe thead th {\n",
       "        text-align: right;\n",
       "    }\n",
       "</style>\n",
       "<table border=\"1\" class=\"dataframe\">\n",
       "  <thead>\n",
       "    <tr style=\"text-align: right;\">\n",
       "      <th></th>\n",
       "      <th>0</th>\n",
       "      <th>1</th>\n",
       "      <th>2</th>\n",
       "      <th>3</th>\n",
       "      <th>4</th>\n",
       "      <th>5</th>\n",
       "      <th>6</th>\n",
       "      <th>7</th>\n",
       "      <th>8</th>\n",
       "      <th>9</th>\n",
       "      <th>...</th>\n",
       "      <th>3771</th>\n",
       "      <th>3772</th>\n",
       "      <th>3773</th>\n",
       "      <th>3774</th>\n",
       "      <th>3775</th>\n",
       "      <th>3776</th>\n",
       "      <th>3777</th>\n",
       "      <th>3778</th>\n",
       "      <th>3779</th>\n",
       "      <th>label</th>\n",
       "    </tr>\n",
       "  </thead>\n",
       "  <tbody>\n",
       "    <tr>\n",
       "      <th>0</th>\n",
       "      <td>0.257481</td>\n",
       "      <td>0.007157</td>\n",
       "      <td>0.000000</td>\n",
       "      <td>0.034010</td>\n",
       "      <td>0.254076</td>\n",
       "      <td>0.209859</td>\n",
       "      <td>0.014957</td>\n",
       "      <td>0.127651</td>\n",
       "      <td>0.257481</td>\n",
       "      <td>0.257481</td>\n",
       "      <td>...</td>\n",
       "      <td>0.245852</td>\n",
       "      <td>0.141088</td>\n",
       "      <td>0.201362</td>\n",
       "      <td>0.233410</td>\n",
       "      <td>0.245852</td>\n",
       "      <td>0.199115</td>\n",
       "      <td>0.062690</td>\n",
       "      <td>0.193423</td>\n",
       "      <td>0.245852</td>\n",
       "      <td>cat</td>\n",
       "    </tr>\n",
       "    <tr>\n",
       "      <th>1</th>\n",
       "      <td>0.294370</td>\n",
       "      <td>0.016098</td>\n",
       "      <td>0.010181</td>\n",
       "      <td>0.008049</td>\n",
       "      <td>0.021598</td>\n",
       "      <td>0.000000</td>\n",
       "      <td>0.005091</td>\n",
       "      <td>0.078991</td>\n",
       "      <td>0.338462</td>\n",
       "      <td>0.338462</td>\n",
       "      <td>...</td>\n",
       "      <td>0.075952</td>\n",
       "      <td>0.131107</td>\n",
       "      <td>0.169458</td>\n",
       "      <td>0.106717</td>\n",
       "      <td>0.261191</td>\n",
       "      <td>0.101016</td>\n",
       "      <td>0.240814</td>\n",
       "      <td>0.127808</td>\n",
       "      <td>0.091548</td>\n",
       "      <td>cat</td>\n",
       "    </tr>\n",
       "    <tr>\n",
       "      <th>2</th>\n",
       "      <td>0.096838</td>\n",
       "      <td>0.016863</td>\n",
       "      <td>0.018152</td>\n",
       "      <td>0.064291</td>\n",
       "      <td>0.334006</td>\n",
       "      <td>0.138500</td>\n",
       "      <td>0.020137</td>\n",
       "      <td>0.039838</td>\n",
       "      <td>0.012958</td>\n",
       "      <td>0.070274</td>\n",
       "      <td>...</td>\n",
       "      <td>0.104412</td>\n",
       "      <td>0.006942</td>\n",
       "      <td>0.012327</td>\n",
       "      <td>0.010241</td>\n",
       "      <td>0.127291</td>\n",
       "      <td>0.294415</td>\n",
       "      <td>0.278538</td>\n",
       "      <td>0.054300</td>\n",
       "      <td>0.033171</td>\n",
       "      <td>cat</td>\n",
       "    </tr>\n",
       "    <tr>\n",
       "      <th>3</th>\n",
       "      <td>0.039024</td>\n",
       "      <td>0.009523</td>\n",
       "      <td>0.098802</td>\n",
       "      <td>0.229133</td>\n",
       "      <td>0.304060</td>\n",
       "      <td>0.023575</td>\n",
       "      <td>0.040430</td>\n",
       "      <td>0.061040</td>\n",
       "      <td>0.012734</td>\n",
       "      <td>0.132417</td>\n",
       "      <td>...</td>\n",
       "      <td>0.302598</td>\n",
       "      <td>0.145670</td>\n",
       "      <td>0.072695</td>\n",
       "      <td>0.143185</td>\n",
       "      <td>0.302598</td>\n",
       "      <td>0.189755</td>\n",
       "      <td>0.112742</td>\n",
       "      <td>0.015569</td>\n",
       "      <td>0.140055</td>\n",
       "      <td>cat</td>\n",
       "    </tr>\n",
       "    <tr>\n",
       "      <th>4</th>\n",
       "      <td>0.263047</td>\n",
       "      <td>0.077411</td>\n",
       "      <td>0.267132</td>\n",
       "      <td>0.267132</td>\n",
       "      <td>0.267132</td>\n",
       "      <td>0.054912</td>\n",
       "      <td>0.177884</td>\n",
       "      <td>0.034545</td>\n",
       "      <td>0.060631</td>\n",
       "      <td>0.267132</td>\n",
       "      <td>...</td>\n",
       "      <td>0.186855</td>\n",
       "      <td>0.009131</td>\n",
       "      <td>0.062875</td>\n",
       "      <td>0.052998</td>\n",
       "      <td>0.194443</td>\n",
       "      <td>0.116084</td>\n",
       "      <td>0.094110</td>\n",
       "      <td>0.198409</td>\n",
       "      <td>0.209989</td>\n",
       "      <td>cat</td>\n",
       "    </tr>\n",
       "  </tbody>\n",
       "</table>\n",
       "<p>5 rows × 3781 columns</p>\n",
       "</div>\n",
       "      <button class=\"colab-df-convert\" onclick=\"convertToInteractive('df-cec2226e-6b17-477a-be17-5369d5c2b7a3')\"\n",
       "              title=\"Convert this dataframe to an interactive table.\"\n",
       "              style=\"display:none;\">\n",
       "        \n",
       "  <svg xmlns=\"http://www.w3.org/2000/svg\" height=\"24px\"viewBox=\"0 0 24 24\"\n",
       "       width=\"24px\">\n",
       "    <path d=\"M0 0h24v24H0V0z\" fill=\"none\"/>\n",
       "    <path d=\"M18.56 5.44l.94 2.06.94-2.06 2.06-.94-2.06-.94-.94-2.06-.94 2.06-2.06.94zm-11 1L8.5 8.5l.94-2.06 2.06-.94-2.06-.94L8.5 2.5l-.94 2.06-2.06.94zm10 10l.94 2.06.94-2.06 2.06-.94-2.06-.94-.94-2.06-.94 2.06-2.06.94z\"/><path d=\"M17.41 7.96l-1.37-1.37c-.4-.4-.92-.59-1.43-.59-.52 0-1.04.2-1.43.59L10.3 9.45l-7.72 7.72c-.78.78-.78 2.05 0 2.83L4 21.41c.39.39.9.59 1.41.59.51 0 1.02-.2 1.41-.59l7.78-7.78 2.81-2.81c.8-.78.8-2.07 0-2.86zM5.41 20L4 18.59l7.72-7.72 1.47 1.35L5.41 20z\"/>\n",
       "  </svg>\n",
       "      </button>\n",
       "      \n",
       "  <style>\n",
       "    .colab-df-container {\n",
       "      display:flex;\n",
       "      flex-wrap:wrap;\n",
       "      gap: 12px;\n",
       "    }\n",
       "\n",
       "    .colab-df-convert {\n",
       "      background-color: #E8F0FE;\n",
       "      border: none;\n",
       "      border-radius: 50%;\n",
       "      cursor: pointer;\n",
       "      display: none;\n",
       "      fill: #1967D2;\n",
       "      height: 32px;\n",
       "      padding: 0 0 0 0;\n",
       "      width: 32px;\n",
       "    }\n",
       "\n",
       "    .colab-df-convert:hover {\n",
       "      background-color: #E2EBFA;\n",
       "      box-shadow: 0px 1px 2px rgba(60, 64, 67, 0.3), 0px 1px 3px 1px rgba(60, 64, 67, 0.15);\n",
       "      fill: #174EA6;\n",
       "    }\n",
       "\n",
       "    [theme=dark] .colab-df-convert {\n",
       "      background-color: #3B4455;\n",
       "      fill: #D2E3FC;\n",
       "    }\n",
       "\n",
       "    [theme=dark] .colab-df-convert:hover {\n",
       "      background-color: #434B5C;\n",
       "      box-shadow: 0px 1px 3px 1px rgba(0, 0, 0, 0.15);\n",
       "      filter: drop-shadow(0px 1px 2px rgba(0, 0, 0, 0.3));\n",
       "      fill: #FFFFFF;\n",
       "    }\n",
       "  </style>\n",
       "\n",
       "      <script>\n",
       "        const buttonEl =\n",
       "          document.querySelector('#df-cec2226e-6b17-477a-be17-5369d5c2b7a3 button.colab-df-convert');\n",
       "        buttonEl.style.display =\n",
       "          google.colab.kernel.accessAllowed ? 'block' : 'none';\n",
       "\n",
       "        async function convertToInteractive(key) {\n",
       "          const element = document.querySelector('#df-cec2226e-6b17-477a-be17-5369d5c2b7a3');\n",
       "          const dataTable =\n",
       "            await google.colab.kernel.invokeFunction('convertToInteractive',\n",
       "                                                     [key], {});\n",
       "          if (!dataTable) return;\n",
       "\n",
       "          const docLinkHtml = 'Like what you see? Visit the ' +\n",
       "            '<a target=\"_blank\" href=https://colab.research.google.com/notebooks/data_table.ipynb>data table notebook</a>'\n",
       "            + ' to learn more about interactive tables.';\n",
       "          element.innerHTML = '';\n",
       "          dataTable['output_type'] = 'display_data';\n",
       "          await google.colab.output.renderOutput(dataTable, element);\n",
       "          const docLink = document.createElement('div');\n",
       "          docLink.innerHTML = docLinkHtml;\n",
       "          element.appendChild(docLink);\n",
       "        }\n",
       "      </script>\n",
       "    </div>\n",
       "  </div>\n",
       "  "
      ],
      "text/plain": [
       "          0         1         2         3         4         5         6  \\\n",
       "0  0.257481  0.007157  0.000000  0.034010  0.254076  0.209859  0.014957   \n",
       "1  0.294370  0.016098  0.010181  0.008049  0.021598  0.000000  0.005091   \n",
       "2  0.096838  0.016863  0.018152  0.064291  0.334006  0.138500  0.020137   \n",
       "3  0.039024  0.009523  0.098802  0.229133  0.304060  0.023575  0.040430   \n",
       "4  0.263047  0.077411  0.267132  0.267132  0.267132  0.054912  0.177884   \n",
       "\n",
       "          7         8         9  ...      3771      3772      3773      3774  \\\n",
       "0  0.127651  0.257481  0.257481  ...  0.245852  0.141088  0.201362  0.233410   \n",
       "1  0.078991  0.338462  0.338462  ...  0.075952  0.131107  0.169458  0.106717   \n",
       "2  0.039838  0.012958  0.070274  ...  0.104412  0.006942  0.012327  0.010241   \n",
       "3  0.061040  0.012734  0.132417  ...  0.302598  0.145670  0.072695  0.143185   \n",
       "4  0.034545  0.060631  0.267132  ...  0.186855  0.009131  0.062875  0.052998   \n",
       "\n",
       "       3775      3776      3777      3778      3779  label  \n",
       "0  0.245852  0.199115  0.062690  0.193423  0.245852    cat  \n",
       "1  0.261191  0.101016  0.240814  0.127808  0.091548    cat  \n",
       "2  0.127291  0.294415  0.278538  0.054300  0.033171    cat  \n",
       "3  0.302598  0.189755  0.112742  0.015569  0.140055    cat  \n",
       "4  0.194443  0.116084  0.094110  0.198409  0.209989    cat  \n",
       "\n",
       "[5 rows x 3781 columns]"
      ]
     },
     "execution_count": 14,
     "metadata": {},
     "output_type": "execute_result"
    }
   ],
   "source": [
    "catsTest.head()"
   ]
  },
  {
   "cell_type": "code",
   "execution_count": 15,
   "metadata": {
    "colab": {
     "base_uri": "https://localhost:8080/"
    },
    "id": "4Jq2Hkf3GWMb",
    "outputId": "1d735b7e-c9e1-46a3-e8b2-e4c5843f6c64"
   },
   "outputs": [
    {
     "data": {
      "text/plain": [
       "(100, 3781)"
      ]
     },
     "execution_count": 15,
     "metadata": {},
     "output_type": "execute_result"
    }
   ],
   "source": [
    "catsTest.shape"
   ]
  },
  {
   "cell_type": "code",
   "execution_count": 16,
   "metadata": {
    "colab": {
     "base_uri": "https://localhost:8080/",
     "height": 299
    },
    "id": "tMg6WCRVGH9_",
    "outputId": "0070cda8-342b-47a1-9a4e-8176e59d65ab"
   },
   "outputs": [
    {
     "data": {
      "text/html": [
       "\n",
       "  <div id=\"df-466d4d66-6568-442b-865e-db372640feb8\">\n",
       "    <div class=\"colab-df-container\">\n",
       "      <div>\n",
       "<style scoped>\n",
       "    .dataframe tbody tr th:only-of-type {\n",
       "        vertical-align: middle;\n",
       "    }\n",
       "\n",
       "    .dataframe tbody tr th {\n",
       "        vertical-align: top;\n",
       "    }\n",
       "\n",
       "    .dataframe thead th {\n",
       "        text-align: right;\n",
       "    }\n",
       "</style>\n",
       "<table border=\"1\" class=\"dataframe\">\n",
       "  <thead>\n",
       "    <tr style=\"text-align: right;\">\n",
       "      <th></th>\n",
       "      <th>0</th>\n",
       "      <th>1</th>\n",
       "      <th>2</th>\n",
       "      <th>3</th>\n",
       "      <th>4</th>\n",
       "      <th>5</th>\n",
       "      <th>6</th>\n",
       "      <th>7</th>\n",
       "      <th>8</th>\n",
       "      <th>9</th>\n",
       "      <th>...</th>\n",
       "      <th>3771</th>\n",
       "      <th>3772</th>\n",
       "      <th>3773</th>\n",
       "      <th>3774</th>\n",
       "      <th>3775</th>\n",
       "      <th>3776</th>\n",
       "      <th>3777</th>\n",
       "      <th>3778</th>\n",
       "      <th>3779</th>\n",
       "      <th>label</th>\n",
       "    </tr>\n",
       "  </thead>\n",
       "  <tbody>\n",
       "    <tr>\n",
       "      <th>0</th>\n",
       "      <td>0.138333</td>\n",
       "      <td>0.019007</td>\n",
       "      <td>0.082490</td>\n",
       "      <td>0.083686</td>\n",
       "      <td>0.093705</td>\n",
       "      <td>0.070205</td>\n",
       "      <td>0.048426</td>\n",
       "      <td>0.025343</td>\n",
       "      <td>0.023408</td>\n",
       "      <td>0.222298</td>\n",
       "      <td>...</td>\n",
       "      <td>0.241445</td>\n",
       "      <td>0.187188</td>\n",
       "      <td>0.047958</td>\n",
       "      <td>0.115775</td>\n",
       "      <td>0.245434</td>\n",
       "      <td>0.158589</td>\n",
       "      <td>0.245434</td>\n",
       "      <td>0.068958</td>\n",
       "      <td>0.042616</td>\n",
       "      <td>dog</td>\n",
       "    </tr>\n",
       "    <tr>\n",
       "      <th>1</th>\n",
       "      <td>0.327745</td>\n",
       "      <td>0.019938</td>\n",
       "      <td>0.180616</td>\n",
       "      <td>0.192330</td>\n",
       "      <td>0.324520</td>\n",
       "      <td>0.242012</td>\n",
       "      <td>0.011938</td>\n",
       "      <td>0.043976</td>\n",
       "      <td>0.327745</td>\n",
       "      <td>0.259040</td>\n",
       "      <td>...</td>\n",
       "      <td>0.167310</td>\n",
       "      <td>0.048189</td>\n",
       "      <td>0.210200</td>\n",
       "      <td>0.107427</td>\n",
       "      <td>0.223420</td>\n",
       "      <td>0.223420</td>\n",
       "      <td>0.193537</td>\n",
       "      <td>0.213720</td>\n",
       "      <td>0.096710</td>\n",
       "      <td>dog</td>\n",
       "    </tr>\n",
       "    <tr>\n",
       "      <th>2</th>\n",
       "      <td>0.244062</td>\n",
       "      <td>0.048453</td>\n",
       "      <td>0.151201</td>\n",
       "      <td>0.025143</td>\n",
       "      <td>0.216775</td>\n",
       "      <td>0.080330</td>\n",
       "      <td>0.125550</td>\n",
       "      <td>0.269190</td>\n",
       "      <td>0.036815</td>\n",
       "      <td>0.269190</td>\n",
       "      <td>...</td>\n",
       "      <td>0.073130</td>\n",
       "      <td>0.000000</td>\n",
       "      <td>0.000000</td>\n",
       "      <td>0.000000</td>\n",
       "      <td>0.320716</td>\n",
       "      <td>0.320716</td>\n",
       "      <td>0.106978</td>\n",
       "      <td>0.000000</td>\n",
       "      <td>0.000000</td>\n",
       "      <td>dog</td>\n",
       "    </tr>\n",
       "    <tr>\n",
       "      <th>3</th>\n",
       "      <td>0.285540</td>\n",
       "      <td>0.017420</td>\n",
       "      <td>0.000000</td>\n",
       "      <td>0.026130</td>\n",
       "      <td>0.285540</td>\n",
       "      <td>0.094800</td>\n",
       "      <td>0.022035</td>\n",
       "      <td>0.238823</td>\n",
       "      <td>0.261479</td>\n",
       "      <td>0.285540</td>\n",
       "      <td>...</td>\n",
       "      <td>0.232414</td>\n",
       "      <td>0.076264</td>\n",
       "      <td>0.088178</td>\n",
       "      <td>0.038045</td>\n",
       "      <td>0.232414</td>\n",
       "      <td>0.126277</td>\n",
       "      <td>0.148699</td>\n",
       "      <td>0.156342</td>\n",
       "      <td>0.168835</td>\n",
       "      <td>dog</td>\n",
       "    </tr>\n",
       "    <tr>\n",
       "      <th>4</th>\n",
       "      <td>0.047980</td>\n",
       "      <td>0.063342</td>\n",
       "      <td>0.202154</td>\n",
       "      <td>0.255658</td>\n",
       "      <td>0.255658</td>\n",
       "      <td>0.118556</td>\n",
       "      <td>0.115414</td>\n",
       "      <td>0.000000</td>\n",
       "      <td>0.035703</td>\n",
       "      <td>0.071406</td>\n",
       "      <td>...</td>\n",
       "      <td>0.190674</td>\n",
       "      <td>0.157775</td>\n",
       "      <td>0.232301</td>\n",
       "      <td>0.167592</td>\n",
       "      <td>0.129242</td>\n",
       "      <td>0.042465</td>\n",
       "      <td>0.066795</td>\n",
       "      <td>0.070651</td>\n",
       "      <td>0.070366</td>\n",
       "      <td>dog</td>\n",
       "    </tr>\n",
       "  </tbody>\n",
       "</table>\n",
       "<p>5 rows × 3781 columns</p>\n",
       "</div>\n",
       "      <button class=\"colab-df-convert\" onclick=\"convertToInteractive('df-466d4d66-6568-442b-865e-db372640feb8')\"\n",
       "              title=\"Convert this dataframe to an interactive table.\"\n",
       "              style=\"display:none;\">\n",
       "        \n",
       "  <svg xmlns=\"http://www.w3.org/2000/svg\" height=\"24px\"viewBox=\"0 0 24 24\"\n",
       "       width=\"24px\">\n",
       "    <path d=\"M0 0h24v24H0V0z\" fill=\"none\"/>\n",
       "    <path d=\"M18.56 5.44l.94 2.06.94-2.06 2.06-.94-2.06-.94-.94-2.06-.94 2.06-2.06.94zm-11 1L8.5 8.5l.94-2.06 2.06-.94-2.06-.94L8.5 2.5l-.94 2.06-2.06.94zm10 10l.94 2.06.94-2.06 2.06-.94-2.06-.94-.94-2.06-.94 2.06-2.06.94z\"/><path d=\"M17.41 7.96l-1.37-1.37c-.4-.4-.92-.59-1.43-.59-.52 0-1.04.2-1.43.59L10.3 9.45l-7.72 7.72c-.78.78-.78 2.05 0 2.83L4 21.41c.39.39.9.59 1.41.59.51 0 1.02-.2 1.41-.59l7.78-7.78 2.81-2.81c.8-.78.8-2.07 0-2.86zM5.41 20L4 18.59l7.72-7.72 1.47 1.35L5.41 20z\"/>\n",
       "  </svg>\n",
       "      </button>\n",
       "      \n",
       "  <style>\n",
       "    .colab-df-container {\n",
       "      display:flex;\n",
       "      flex-wrap:wrap;\n",
       "      gap: 12px;\n",
       "    }\n",
       "\n",
       "    .colab-df-convert {\n",
       "      background-color: #E8F0FE;\n",
       "      border: none;\n",
       "      border-radius: 50%;\n",
       "      cursor: pointer;\n",
       "      display: none;\n",
       "      fill: #1967D2;\n",
       "      height: 32px;\n",
       "      padding: 0 0 0 0;\n",
       "      width: 32px;\n",
       "    }\n",
       "\n",
       "    .colab-df-convert:hover {\n",
       "      background-color: #E2EBFA;\n",
       "      box-shadow: 0px 1px 2px rgba(60, 64, 67, 0.3), 0px 1px 3px 1px rgba(60, 64, 67, 0.15);\n",
       "      fill: #174EA6;\n",
       "    }\n",
       "\n",
       "    [theme=dark] .colab-df-convert {\n",
       "      background-color: #3B4455;\n",
       "      fill: #D2E3FC;\n",
       "    }\n",
       "\n",
       "    [theme=dark] .colab-df-convert:hover {\n",
       "      background-color: #434B5C;\n",
       "      box-shadow: 0px 1px 3px 1px rgba(0, 0, 0, 0.15);\n",
       "      filter: drop-shadow(0px 1px 2px rgba(0, 0, 0, 0.3));\n",
       "      fill: #FFFFFF;\n",
       "    }\n",
       "  </style>\n",
       "\n",
       "      <script>\n",
       "        const buttonEl =\n",
       "          document.querySelector('#df-466d4d66-6568-442b-865e-db372640feb8 button.colab-df-convert');\n",
       "        buttonEl.style.display =\n",
       "          google.colab.kernel.accessAllowed ? 'block' : 'none';\n",
       "\n",
       "        async function convertToInteractive(key) {\n",
       "          const element = document.querySelector('#df-466d4d66-6568-442b-865e-db372640feb8');\n",
       "          const dataTable =\n",
       "            await google.colab.kernel.invokeFunction('convertToInteractive',\n",
       "                                                     [key], {});\n",
       "          if (!dataTable) return;\n",
       "\n",
       "          const docLinkHtml = 'Like what you see? Visit the ' +\n",
       "            '<a target=\"_blank\" href=https://colab.research.google.com/notebooks/data_table.ipynb>data table notebook</a>'\n",
       "            + ' to learn more about interactive tables.';\n",
       "          element.innerHTML = '';\n",
       "          dataTable['output_type'] = 'display_data';\n",
       "          await google.colab.output.renderOutput(dataTable, element);\n",
       "          const docLink = document.createElement('div');\n",
       "          docLink.innerHTML = docLinkHtml;\n",
       "          element.appendChild(docLink);\n",
       "        }\n",
       "      </script>\n",
       "    </div>\n",
       "  </div>\n",
       "  "
      ],
      "text/plain": [
       "          0         1         2         3         4         5         6  \\\n",
       "0  0.138333  0.019007  0.082490  0.083686  0.093705  0.070205  0.048426   \n",
       "1  0.327745  0.019938  0.180616  0.192330  0.324520  0.242012  0.011938   \n",
       "2  0.244062  0.048453  0.151201  0.025143  0.216775  0.080330  0.125550   \n",
       "3  0.285540  0.017420  0.000000  0.026130  0.285540  0.094800  0.022035   \n",
       "4  0.047980  0.063342  0.202154  0.255658  0.255658  0.118556  0.115414   \n",
       "\n",
       "          7         8         9  ...      3771      3772      3773      3774  \\\n",
       "0  0.025343  0.023408  0.222298  ...  0.241445  0.187188  0.047958  0.115775   \n",
       "1  0.043976  0.327745  0.259040  ...  0.167310  0.048189  0.210200  0.107427   \n",
       "2  0.269190  0.036815  0.269190  ...  0.073130  0.000000  0.000000  0.000000   \n",
       "3  0.238823  0.261479  0.285540  ...  0.232414  0.076264  0.088178  0.038045   \n",
       "4  0.000000  0.035703  0.071406  ...  0.190674  0.157775  0.232301  0.167592   \n",
       "\n",
       "       3775      3776      3777      3778      3779  label  \n",
       "0  0.245434  0.158589  0.245434  0.068958  0.042616    dog  \n",
       "1  0.223420  0.223420  0.193537  0.213720  0.096710    dog  \n",
       "2  0.320716  0.320716  0.106978  0.000000  0.000000    dog  \n",
       "3  0.232414  0.126277  0.148699  0.156342  0.168835    dog  \n",
       "4  0.129242  0.042465  0.066795  0.070651  0.070366    dog  \n",
       "\n",
       "[5 rows x 3781 columns]"
      ]
     },
     "execution_count": 16,
     "metadata": {},
     "output_type": "execute_result"
    }
   ],
   "source": [
    "dogsTest.head()"
   ]
  },
  {
   "cell_type": "code",
   "execution_count": 17,
   "metadata": {
    "colab": {
     "base_uri": "https://localhost:8080/"
    },
    "id": "Gm1hlJw-Gaym",
    "outputId": "951116de-49bd-4633-8f71-ccd52b8a9686"
   },
   "outputs": [
    {
     "data": {
      "text/plain": [
       "(100, 3781)"
      ]
     },
     "execution_count": 17,
     "metadata": {},
     "output_type": "execute_result"
    }
   ],
   "source": [
    "dogsTest.shape"
   ]
  },
  {
   "cell_type": "code",
   "execution_count": 18,
   "metadata": {
    "id": "gKnwOJotfU3-"
   },
   "outputs": [],
   "source": [
    "trainingSet = pd.DataFrame (columns=columns)\n",
    "testingSet = pd.DataFrame (columns=columns)"
   ]
  },
  {
   "cell_type": "code",
   "execution_count": 19,
   "metadata": {
    "id": "Telp1pF9Or7h"
   },
   "outputs": [],
   "source": [
    "trainingSet = pd.concat([catsTrain,dogsTrain],axis=0)\n",
    "testingSet = pd.concat([catsTest,dogsTest],axis=0)"
   ]
  },
  {
   "cell_type": "code",
   "execution_count": 20,
   "metadata": {
    "colab": {
     "base_uri": "https://localhost:8080/",
     "height": 488
    },
    "id": "5-u0DHgtPMOj",
    "outputId": "42a13bc1-7c86-4935-a838-3d1780a8c19c"
   },
   "outputs": [
    {
     "data": {
      "text/html": [
       "\n",
       "  <div id=\"df-b0fe9ff2-ded7-43ca-ba51-cec1de843035\">\n",
       "    <div class=\"colab-df-container\">\n",
       "      <div>\n",
       "<style scoped>\n",
       "    .dataframe tbody tr th:only-of-type {\n",
       "        vertical-align: middle;\n",
       "    }\n",
       "\n",
       "    .dataframe tbody tr th {\n",
       "        vertical-align: top;\n",
       "    }\n",
       "\n",
       "    .dataframe thead th {\n",
       "        text-align: right;\n",
       "    }\n",
       "</style>\n",
       "<table border=\"1\" class=\"dataframe\">\n",
       "  <thead>\n",
       "    <tr style=\"text-align: right;\">\n",
       "      <th></th>\n",
       "      <th>0</th>\n",
       "      <th>1</th>\n",
       "      <th>2</th>\n",
       "      <th>3</th>\n",
       "      <th>4</th>\n",
       "      <th>5</th>\n",
       "      <th>6</th>\n",
       "      <th>7</th>\n",
       "      <th>8</th>\n",
       "      <th>9</th>\n",
       "      <th>...</th>\n",
       "      <th>3771</th>\n",
       "      <th>3772</th>\n",
       "      <th>3773</th>\n",
       "      <th>3774</th>\n",
       "      <th>3775</th>\n",
       "      <th>3776</th>\n",
       "      <th>3777</th>\n",
       "      <th>3778</th>\n",
       "      <th>3779</th>\n",
       "      <th>label</th>\n",
       "    </tr>\n",
       "  </thead>\n",
       "  <tbody>\n",
       "    <tr>\n",
       "      <th>0</th>\n",
       "      <td>0.241753</td>\n",
       "      <td>0.000000</td>\n",
       "      <td>0.000000</td>\n",
       "      <td>0.072577</td>\n",
       "      <td>0.051285</td>\n",
       "      <td>0.016286</td>\n",
       "      <td>0.125519</td>\n",
       "      <td>0.063632</td>\n",
       "      <td>0.241753</td>\n",
       "      <td>0.241753</td>\n",
       "      <td>...</td>\n",
       "      <td>0.014030</td>\n",
       "      <td>0.000000</td>\n",
       "      <td>0.030254</td>\n",
       "      <td>0.263666</td>\n",
       "      <td>0.301955</td>\n",
       "      <td>0.101873</td>\n",
       "      <td>0.017538</td>\n",
       "      <td>0.000000</td>\n",
       "      <td>0.011092</td>\n",
       "      <td>cat</td>\n",
       "    </tr>\n",
       "    <tr>\n",
       "      <th>1</th>\n",
       "      <td>0.192790</td>\n",
       "      <td>0.046118</td>\n",
       "      <td>0.210582</td>\n",
       "      <td>0.098310</td>\n",
       "      <td>0.263412</td>\n",
       "      <td>0.121847</td>\n",
       "      <td>0.261686</td>\n",
       "      <td>0.028087</td>\n",
       "      <td>0.007077</td>\n",
       "      <td>0.239167</td>\n",
       "      <td>...</td>\n",
       "      <td>0.175537</td>\n",
       "      <td>0.016547</td>\n",
       "      <td>0.006977</td>\n",
       "      <td>0.000000</td>\n",
       "      <td>0.002467</td>\n",
       "      <td>0.005516</td>\n",
       "      <td>0.000000</td>\n",
       "      <td>0.332082</td>\n",
       "      <td>0.332082</td>\n",
       "      <td>cat</td>\n",
       "    </tr>\n",
       "    <tr>\n",
       "      <th>2</th>\n",
       "      <td>0.075876</td>\n",
       "      <td>0.035997</td>\n",
       "      <td>0.312699</td>\n",
       "      <td>0.343232</td>\n",
       "      <td>0.343232</td>\n",
       "      <td>0.284990</td>\n",
       "      <td>0.077698</td>\n",
       "      <td>0.097745</td>\n",
       "      <td>0.008233</td>\n",
       "      <td>0.125583</td>\n",
       "      <td>...</td>\n",
       "      <td>0.174531</td>\n",
       "      <td>0.090774</td>\n",
       "      <td>0.054553</td>\n",
       "      <td>0.156989</td>\n",
       "      <td>0.248797</td>\n",
       "      <td>0.250703</td>\n",
       "      <td>0.025218</td>\n",
       "      <td>0.014973</td>\n",
       "      <td>0.080593</td>\n",
       "      <td>cat</td>\n",
       "    </tr>\n",
       "    <tr>\n",
       "      <th>3</th>\n",
       "      <td>0.246393</td>\n",
       "      <td>0.015291</td>\n",
       "      <td>0.016501</td>\n",
       "      <td>0.054393</td>\n",
       "      <td>0.166900</td>\n",
       "      <td>0.034273</td>\n",
       "      <td>0.128636</td>\n",
       "      <td>0.101913</td>\n",
       "      <td>0.184730</td>\n",
       "      <td>0.267048</td>\n",
       "      <td>...</td>\n",
       "      <td>0.217343</td>\n",
       "      <td>0.224608</td>\n",
       "      <td>0.224608</td>\n",
       "      <td>0.224608</td>\n",
       "      <td>0.224608</td>\n",
       "      <td>0.100377</td>\n",
       "      <td>0.049515</td>\n",
       "      <td>0.113828</td>\n",
       "      <td>0.061431</td>\n",
       "      <td>cat</td>\n",
       "    </tr>\n",
       "    <tr>\n",
       "      <th>4</th>\n",
       "      <td>0.265545</td>\n",
       "      <td>0.084236</td>\n",
       "      <td>0.101965</td>\n",
       "      <td>0.077844</td>\n",
       "      <td>0.265545</td>\n",
       "      <td>0.000000</td>\n",
       "      <td>0.061179</td>\n",
       "      <td>0.032244</td>\n",
       "      <td>0.091200</td>\n",
       "      <td>0.265545</td>\n",
       "      <td>...</td>\n",
       "      <td>0.193392</td>\n",
       "      <td>0.097670</td>\n",
       "      <td>0.014492</td>\n",
       "      <td>0.112961</td>\n",
       "      <td>0.241013</td>\n",
       "      <td>0.241013</td>\n",
       "      <td>0.241013</td>\n",
       "      <td>0.169854</td>\n",
       "      <td>0.040459</td>\n",
       "      <td>cat</td>\n",
       "    </tr>\n",
       "    <tr>\n",
       "      <th>...</th>\n",
       "      <td>...</td>\n",
       "      <td>...</td>\n",
       "      <td>...</td>\n",
       "      <td>...</td>\n",
       "      <td>...</td>\n",
       "      <td>...</td>\n",
       "      <td>...</td>\n",
       "      <td>...</td>\n",
       "      <td>...</td>\n",
       "      <td>...</td>\n",
       "      <td>...</td>\n",
       "      <td>...</td>\n",
       "      <td>...</td>\n",
       "      <td>...</td>\n",
       "      <td>...</td>\n",
       "      <td>...</td>\n",
       "      <td>...</td>\n",
       "      <td>...</td>\n",
       "      <td>...</td>\n",
       "      <td>...</td>\n",
       "      <td>...</td>\n",
       "    </tr>\n",
       "    <tr>\n",
       "      <th>995</th>\n",
       "      <td>0.274839</td>\n",
       "      <td>0.082279</td>\n",
       "      <td>0.151769</td>\n",
       "      <td>0.103278</td>\n",
       "      <td>0.277454</td>\n",
       "      <td>0.277454</td>\n",
       "      <td>0.097157</td>\n",
       "      <td>0.114745</td>\n",
       "      <td>0.044224</td>\n",
       "      <td>0.159303</td>\n",
       "      <td>...</td>\n",
       "      <td>0.128602</td>\n",
       "      <td>0.162918</td>\n",
       "      <td>0.311138</td>\n",
       "      <td>0.269780</td>\n",
       "      <td>0.196003</td>\n",
       "      <td>0.026069</td>\n",
       "      <td>0.000000</td>\n",
       "      <td>0.006517</td>\n",
       "      <td>0.021234</td>\n",
       "      <td>dog</td>\n",
       "    </tr>\n",
       "    <tr>\n",
       "      <th>996</th>\n",
       "      <td>0.275001</td>\n",
       "      <td>0.275001</td>\n",
       "      <td>0.275001</td>\n",
       "      <td>0.122467</td>\n",
       "      <td>0.275001</td>\n",
       "      <td>0.104711</td>\n",
       "      <td>0.043662</td>\n",
       "      <td>0.106675</td>\n",
       "      <td>0.078765</td>\n",
       "      <td>0.077215</td>\n",
       "      <td>...</td>\n",
       "      <td>0.081127</td>\n",
       "      <td>0.046286</td>\n",
       "      <td>0.021711</td>\n",
       "      <td>0.153995</td>\n",
       "      <td>0.242208</td>\n",
       "      <td>0.242208</td>\n",
       "      <td>0.086924</td>\n",
       "      <td>0.009910</td>\n",
       "      <td>0.017983</td>\n",
       "      <td>dog</td>\n",
       "    </tr>\n",
       "    <tr>\n",
       "      <th>997</th>\n",
       "      <td>0.308228</td>\n",
       "      <td>0.116527</td>\n",
       "      <td>0.128012</td>\n",
       "      <td>0.222159</td>\n",
       "      <td>0.209173</td>\n",
       "      <td>0.052549</td>\n",
       "      <td>0.000000</td>\n",
       "      <td>0.016128</td>\n",
       "      <td>0.000000</td>\n",
       "      <td>0.210344</td>\n",
       "      <td>...</td>\n",
       "      <td>0.236383</td>\n",
       "      <td>0.004560</td>\n",
       "      <td>0.062846</td>\n",
       "      <td>0.025934</td>\n",
       "      <td>0.092029</td>\n",
       "      <td>0.018238</td>\n",
       "      <td>0.002884</td>\n",
       "      <td>0.029219</td>\n",
       "      <td>0.036138</td>\n",
       "      <td>dog</td>\n",
       "    </tr>\n",
       "    <tr>\n",
       "      <th>998</th>\n",
       "      <td>0.196278</td>\n",
       "      <td>0.171195</td>\n",
       "      <td>0.062521</td>\n",
       "      <td>0.065271</td>\n",
       "      <td>0.259493</td>\n",
       "      <td>0.192983</td>\n",
       "      <td>0.084676</td>\n",
       "      <td>0.085519</td>\n",
       "      <td>0.129919</td>\n",
       "      <td>0.263759</td>\n",
       "      <td>...</td>\n",
       "      <td>0.075505</td>\n",
       "      <td>0.120680</td>\n",
       "      <td>0.264034</td>\n",
       "      <td>0.264034</td>\n",
       "      <td>0.264034</td>\n",
       "      <td>0.029928</td>\n",
       "      <td>0.000000</td>\n",
       "      <td>0.016344</td>\n",
       "      <td>0.000000</td>\n",
       "      <td>dog</td>\n",
       "    </tr>\n",
       "    <tr>\n",
       "      <th>999</th>\n",
       "      <td>0.187065</td>\n",
       "      <td>0.068427</td>\n",
       "      <td>0.115728</td>\n",
       "      <td>0.119918</td>\n",
       "      <td>0.182813</td>\n",
       "      <td>0.154981</td>\n",
       "      <td>0.198223</td>\n",
       "      <td>0.157646</td>\n",
       "      <td>0.083475</td>\n",
       "      <td>0.224242</td>\n",
       "      <td>...</td>\n",
       "      <td>0.188515</td>\n",
       "      <td>0.077683</td>\n",
       "      <td>0.106406</td>\n",
       "      <td>0.333794</td>\n",
       "      <td>0.333794</td>\n",
       "      <td>0.097815</td>\n",
       "      <td>0.067537</td>\n",
       "      <td>0.066477</td>\n",
       "      <td>0.059418</td>\n",
       "      <td>dog</td>\n",
       "    </tr>\n",
       "  </tbody>\n",
       "</table>\n",
       "<p>2000 rows × 3781 columns</p>\n",
       "</div>\n",
       "      <button class=\"colab-df-convert\" onclick=\"convertToInteractive('df-b0fe9ff2-ded7-43ca-ba51-cec1de843035')\"\n",
       "              title=\"Convert this dataframe to an interactive table.\"\n",
       "              style=\"display:none;\">\n",
       "        \n",
       "  <svg xmlns=\"http://www.w3.org/2000/svg\" height=\"24px\"viewBox=\"0 0 24 24\"\n",
       "       width=\"24px\">\n",
       "    <path d=\"M0 0h24v24H0V0z\" fill=\"none\"/>\n",
       "    <path d=\"M18.56 5.44l.94 2.06.94-2.06 2.06-.94-2.06-.94-.94-2.06-.94 2.06-2.06.94zm-11 1L8.5 8.5l.94-2.06 2.06-.94-2.06-.94L8.5 2.5l-.94 2.06-2.06.94zm10 10l.94 2.06.94-2.06 2.06-.94-2.06-.94-.94-2.06-.94 2.06-2.06.94z\"/><path d=\"M17.41 7.96l-1.37-1.37c-.4-.4-.92-.59-1.43-.59-.52 0-1.04.2-1.43.59L10.3 9.45l-7.72 7.72c-.78.78-.78 2.05 0 2.83L4 21.41c.39.39.9.59 1.41.59.51 0 1.02-.2 1.41-.59l7.78-7.78 2.81-2.81c.8-.78.8-2.07 0-2.86zM5.41 20L4 18.59l7.72-7.72 1.47 1.35L5.41 20z\"/>\n",
       "  </svg>\n",
       "      </button>\n",
       "      \n",
       "  <style>\n",
       "    .colab-df-container {\n",
       "      display:flex;\n",
       "      flex-wrap:wrap;\n",
       "      gap: 12px;\n",
       "    }\n",
       "\n",
       "    .colab-df-convert {\n",
       "      background-color: #E8F0FE;\n",
       "      border: none;\n",
       "      border-radius: 50%;\n",
       "      cursor: pointer;\n",
       "      display: none;\n",
       "      fill: #1967D2;\n",
       "      height: 32px;\n",
       "      padding: 0 0 0 0;\n",
       "      width: 32px;\n",
       "    }\n",
       "\n",
       "    .colab-df-convert:hover {\n",
       "      background-color: #E2EBFA;\n",
       "      box-shadow: 0px 1px 2px rgba(60, 64, 67, 0.3), 0px 1px 3px 1px rgba(60, 64, 67, 0.15);\n",
       "      fill: #174EA6;\n",
       "    }\n",
       "\n",
       "    [theme=dark] .colab-df-convert {\n",
       "      background-color: #3B4455;\n",
       "      fill: #D2E3FC;\n",
       "    }\n",
       "\n",
       "    [theme=dark] .colab-df-convert:hover {\n",
       "      background-color: #434B5C;\n",
       "      box-shadow: 0px 1px 3px 1px rgba(0, 0, 0, 0.15);\n",
       "      filter: drop-shadow(0px 1px 2px rgba(0, 0, 0, 0.3));\n",
       "      fill: #FFFFFF;\n",
       "    }\n",
       "  </style>\n",
       "\n",
       "      <script>\n",
       "        const buttonEl =\n",
       "          document.querySelector('#df-b0fe9ff2-ded7-43ca-ba51-cec1de843035 button.colab-df-convert');\n",
       "        buttonEl.style.display =\n",
       "          google.colab.kernel.accessAllowed ? 'block' : 'none';\n",
       "\n",
       "        async function convertToInteractive(key) {\n",
       "          const element = document.querySelector('#df-b0fe9ff2-ded7-43ca-ba51-cec1de843035');\n",
       "          const dataTable =\n",
       "            await google.colab.kernel.invokeFunction('convertToInteractive',\n",
       "                                                     [key], {});\n",
       "          if (!dataTable) return;\n",
       "\n",
       "          const docLinkHtml = 'Like what you see? Visit the ' +\n",
       "            '<a target=\"_blank\" href=https://colab.research.google.com/notebooks/data_table.ipynb>data table notebook</a>'\n",
       "            + ' to learn more about interactive tables.';\n",
       "          element.innerHTML = '';\n",
       "          dataTable['output_type'] = 'display_data';\n",
       "          await google.colab.output.renderOutput(dataTable, element);\n",
       "          const docLink = document.createElement('div');\n",
       "          docLink.innerHTML = docLinkHtml;\n",
       "          element.appendChild(docLink);\n",
       "        }\n",
       "      </script>\n",
       "    </div>\n",
       "  </div>\n",
       "  "
      ],
      "text/plain": [
       "            0         1         2         3         4         5         6  \\\n",
       "0    0.241753  0.000000  0.000000  0.072577  0.051285  0.016286  0.125519   \n",
       "1    0.192790  0.046118  0.210582  0.098310  0.263412  0.121847  0.261686   \n",
       "2    0.075876  0.035997  0.312699  0.343232  0.343232  0.284990  0.077698   \n",
       "3    0.246393  0.015291  0.016501  0.054393  0.166900  0.034273  0.128636   \n",
       "4    0.265545  0.084236  0.101965  0.077844  0.265545  0.000000  0.061179   \n",
       "..        ...       ...       ...       ...       ...       ...       ...   \n",
       "995  0.274839  0.082279  0.151769  0.103278  0.277454  0.277454  0.097157   \n",
       "996  0.275001  0.275001  0.275001  0.122467  0.275001  0.104711  0.043662   \n",
       "997  0.308228  0.116527  0.128012  0.222159  0.209173  0.052549  0.000000   \n",
       "998  0.196278  0.171195  0.062521  0.065271  0.259493  0.192983  0.084676   \n",
       "999  0.187065  0.068427  0.115728  0.119918  0.182813  0.154981  0.198223   \n",
       "\n",
       "            7         8         9  ...      3771      3772      3773  \\\n",
       "0    0.063632  0.241753  0.241753  ...  0.014030  0.000000  0.030254   \n",
       "1    0.028087  0.007077  0.239167  ...  0.175537  0.016547  0.006977   \n",
       "2    0.097745  0.008233  0.125583  ...  0.174531  0.090774  0.054553   \n",
       "3    0.101913  0.184730  0.267048  ...  0.217343  0.224608  0.224608   \n",
       "4    0.032244  0.091200  0.265545  ...  0.193392  0.097670  0.014492   \n",
       "..        ...       ...       ...  ...       ...       ...       ...   \n",
       "995  0.114745  0.044224  0.159303  ...  0.128602  0.162918  0.311138   \n",
       "996  0.106675  0.078765  0.077215  ...  0.081127  0.046286  0.021711   \n",
       "997  0.016128  0.000000  0.210344  ...  0.236383  0.004560  0.062846   \n",
       "998  0.085519  0.129919  0.263759  ...  0.075505  0.120680  0.264034   \n",
       "999  0.157646  0.083475  0.224242  ...  0.188515  0.077683  0.106406   \n",
       "\n",
       "         3774      3775      3776      3777      3778      3779  label  \n",
       "0    0.263666  0.301955  0.101873  0.017538  0.000000  0.011092    cat  \n",
       "1    0.000000  0.002467  0.005516  0.000000  0.332082  0.332082    cat  \n",
       "2    0.156989  0.248797  0.250703  0.025218  0.014973  0.080593    cat  \n",
       "3    0.224608  0.224608  0.100377  0.049515  0.113828  0.061431    cat  \n",
       "4    0.112961  0.241013  0.241013  0.241013  0.169854  0.040459    cat  \n",
       "..        ...       ...       ...       ...       ...       ...    ...  \n",
       "995  0.269780  0.196003  0.026069  0.000000  0.006517  0.021234    dog  \n",
       "996  0.153995  0.242208  0.242208  0.086924  0.009910  0.017983    dog  \n",
       "997  0.025934  0.092029  0.018238  0.002884  0.029219  0.036138    dog  \n",
       "998  0.264034  0.264034  0.029928  0.000000  0.016344  0.000000    dog  \n",
       "999  0.333794  0.333794  0.097815  0.067537  0.066477  0.059418    dog  \n",
       "\n",
       "[2000 rows x 3781 columns]"
      ]
     },
     "execution_count": 20,
     "metadata": {},
     "output_type": "execute_result"
    }
   ],
   "source": [
    "trainingSet"
   ]
  },
  {
   "cell_type": "code",
   "execution_count": 21,
   "metadata": {
    "id": "U0-n56O9oqvD"
   },
   "outputs": [],
   "source": [
    "trainingSet['label'] = [1 if animal == 'cat' else 0 for animal in trainingSet['label']]\n",
    "testingSet['label'] = [1 if animal == 'cat' else 0 for animal in testingSet['label']]"
   ]
  },
  {
   "cell_type": "code",
   "execution_count": 22,
   "metadata": {
    "id": "bH03j3pFbnzw"
   },
   "outputs": [],
   "source": [
    "trainingSet = trainingSet.sample(frac=1,random_state = 42)\n",
    "testingSet = testingSet.sample(frac=1,random_state = 42)"
   ]
  },
  {
   "cell_type": "code",
   "execution_count": 23,
   "metadata": {
    "colab": {
     "base_uri": "https://localhost:8080/",
     "height": 488
    },
    "id": "LplbyxYQPvO5",
    "outputId": "568ffbf8-5bdd-4fe5-aec6-bc638007d702"
   },
   "outputs": [
    {
     "data": {
      "text/html": [
       "\n",
       "  <div id=\"df-d9d4b2d9-db4c-4ccc-a0dc-fd6e05632084\">\n",
       "    <div class=\"colab-df-container\">\n",
       "      <div>\n",
       "<style scoped>\n",
       "    .dataframe tbody tr th:only-of-type {\n",
       "        vertical-align: middle;\n",
       "    }\n",
       "\n",
       "    .dataframe tbody tr th {\n",
       "        vertical-align: top;\n",
       "    }\n",
       "\n",
       "    .dataframe thead th {\n",
       "        text-align: right;\n",
       "    }\n",
       "</style>\n",
       "<table border=\"1\" class=\"dataframe\">\n",
       "  <thead>\n",
       "    <tr style=\"text-align: right;\">\n",
       "      <th></th>\n",
       "      <th>0</th>\n",
       "      <th>1</th>\n",
       "      <th>2</th>\n",
       "      <th>3</th>\n",
       "      <th>4</th>\n",
       "      <th>5</th>\n",
       "      <th>6</th>\n",
       "      <th>7</th>\n",
       "      <th>8</th>\n",
       "      <th>9</th>\n",
       "      <th>...</th>\n",
       "      <th>3771</th>\n",
       "      <th>3772</th>\n",
       "      <th>3773</th>\n",
       "      <th>3774</th>\n",
       "      <th>3775</th>\n",
       "      <th>3776</th>\n",
       "      <th>3777</th>\n",
       "      <th>3778</th>\n",
       "      <th>3779</th>\n",
       "      <th>label</th>\n",
       "    </tr>\n",
       "  </thead>\n",
       "  <tbody>\n",
       "    <tr>\n",
       "      <th>860</th>\n",
       "      <td>0.336586</td>\n",
       "      <td>0.160407</td>\n",
       "      <td>0.122686</td>\n",
       "      <td>0.154237</td>\n",
       "      <td>0.211772</td>\n",
       "      <td>0.242787</td>\n",
       "      <td>0.250821</td>\n",
       "      <td>0.286223</td>\n",
       "      <td>0.102710</td>\n",
       "      <td>0.210701</td>\n",
       "      <td>...</td>\n",
       "      <td>0.101094</td>\n",
       "      <td>0.093213</td>\n",
       "      <td>0.267164</td>\n",
       "      <td>0.178688</td>\n",
       "      <td>0.321475</td>\n",
       "      <td>0.174012</td>\n",
       "      <td>0.113073</td>\n",
       "      <td>0.131262</td>\n",
       "      <td>0.028033</td>\n",
       "      <td>0</td>\n",
       "    </tr>\n",
       "    <tr>\n",
       "      <th>353</th>\n",
       "      <td>0.069409</td>\n",
       "      <td>0.000000</td>\n",
       "      <td>0.001692</td>\n",
       "      <td>0.032950</td>\n",
       "      <td>0.094738</td>\n",
       "      <td>0.000000</td>\n",
       "      <td>0.000000</td>\n",
       "      <td>0.000000</td>\n",
       "      <td>0.000000</td>\n",
       "      <td>0.294626</td>\n",
       "      <td>...</td>\n",
       "      <td>0.224677</td>\n",
       "      <td>0.175162</td>\n",
       "      <td>0.073874</td>\n",
       "      <td>0.119928</td>\n",
       "      <td>0.251425</td>\n",
       "      <td>0.202085</td>\n",
       "      <td>0.056226</td>\n",
       "      <td>0.272178</td>\n",
       "      <td>0.050749</td>\n",
       "      <td>1</td>\n",
       "    </tr>\n",
       "    <tr>\n",
       "      <th>333</th>\n",
       "      <td>0.280643</td>\n",
       "      <td>0.043625</td>\n",
       "      <td>0.063368</td>\n",
       "      <td>0.135196</td>\n",
       "      <td>0.280643</td>\n",
       "      <td>0.144818</td>\n",
       "      <td>0.280643</td>\n",
       "      <td>0.127425</td>\n",
       "      <td>0.069041</td>\n",
       "      <td>0.280643</td>\n",
       "      <td>...</td>\n",
       "      <td>0.111273</td>\n",
       "      <td>0.167085</td>\n",
       "      <td>0.120281</td>\n",
       "      <td>0.115593</td>\n",
       "      <td>0.113364</td>\n",
       "      <td>0.095470</td>\n",
       "      <td>0.057599</td>\n",
       "      <td>0.028029</td>\n",
       "      <td>0.125776</td>\n",
       "      <td>0</td>\n",
       "    </tr>\n",
       "    <tr>\n",
       "      <th>905</th>\n",
       "      <td>0.067620</td>\n",
       "      <td>0.007200</td>\n",
       "      <td>0.022769</td>\n",
       "      <td>0.000000</td>\n",
       "      <td>0.109480</td>\n",
       "      <td>0.000000</td>\n",
       "      <td>0.063753</td>\n",
       "      <td>0.014400</td>\n",
       "      <td>0.000000</td>\n",
       "      <td>0.280140</td>\n",
       "      <td>...</td>\n",
       "      <td>0.013352</td>\n",
       "      <td>0.000000</td>\n",
       "      <td>0.027904</td>\n",
       "      <td>0.168526</td>\n",
       "      <td>0.347661</td>\n",
       "      <td>0.082961</td>\n",
       "      <td>0.019722</td>\n",
       "      <td>0.003732</td>\n",
       "      <td>0.000000</td>\n",
       "      <td>1</td>\n",
       "    </tr>\n",
       "    <tr>\n",
       "      <th>289</th>\n",
       "      <td>0.152501</td>\n",
       "      <td>0.016487</td>\n",
       "      <td>0.057152</td>\n",
       "      <td>0.222507</td>\n",
       "      <td>0.222507</td>\n",
       "      <td>0.188007</td>\n",
       "      <td>0.193299</td>\n",
       "      <td>0.019299</td>\n",
       "      <td>0.047238</td>\n",
       "      <td>0.208983</td>\n",
       "      <td>...</td>\n",
       "      <td>0.235613</td>\n",
       "      <td>0.186474</td>\n",
       "      <td>0.094943</td>\n",
       "      <td>0.059012</td>\n",
       "      <td>0.180339</td>\n",
       "      <td>0.032044</td>\n",
       "      <td>0.235613</td>\n",
       "      <td>0.122989</td>\n",
       "      <td>0.125329</td>\n",
       "      <td>0</td>\n",
       "    </tr>\n",
       "    <tr>\n",
       "      <th>...</th>\n",
       "      <td>...</td>\n",
       "      <td>...</td>\n",
       "      <td>...</td>\n",
       "      <td>...</td>\n",
       "      <td>...</td>\n",
       "      <td>...</td>\n",
       "      <td>...</td>\n",
       "      <td>...</td>\n",
       "      <td>...</td>\n",
       "      <td>...</td>\n",
       "      <td>...</td>\n",
       "      <td>...</td>\n",
       "      <td>...</td>\n",
       "      <td>...</td>\n",
       "      <td>...</td>\n",
       "      <td>...</td>\n",
       "      <td>...</td>\n",
       "      <td>...</td>\n",
       "      <td>...</td>\n",
       "      <td>...</td>\n",
       "      <td>...</td>\n",
       "    </tr>\n",
       "    <tr>\n",
       "      <th>130</th>\n",
       "      <td>0.257879</td>\n",
       "      <td>0.187916</td>\n",
       "      <td>0.146496</td>\n",
       "      <td>0.163800</td>\n",
       "      <td>0.257879</td>\n",
       "      <td>0.148939</td>\n",
       "      <td>0.083685</td>\n",
       "      <td>0.040954</td>\n",
       "      <td>0.134785</td>\n",
       "      <td>0.108319</td>\n",
       "      <td>...</td>\n",
       "      <td>0.053093</td>\n",
       "      <td>0.000000</td>\n",
       "      <td>0.109457</td>\n",
       "      <td>0.139525</td>\n",
       "      <td>0.196120</td>\n",
       "      <td>0.120268</td>\n",
       "      <td>0.028069</td>\n",
       "      <td>0.032068</td>\n",
       "      <td>0.006588</td>\n",
       "      <td>0</td>\n",
       "    </tr>\n",
       "    <tr>\n",
       "      <th>294</th>\n",
       "      <td>0.274351</td>\n",
       "      <td>0.015577</td>\n",
       "      <td>0.062672</td>\n",
       "      <td>0.015907</td>\n",
       "      <td>0.274351</td>\n",
       "      <td>0.177028</td>\n",
       "      <td>0.139001</td>\n",
       "      <td>0.119525</td>\n",
       "      <td>0.217748</td>\n",
       "      <td>0.274351</td>\n",
       "      <td>...</td>\n",
       "      <td>0.240943</td>\n",
       "      <td>0.066743</td>\n",
       "      <td>0.062206</td>\n",
       "      <td>0.032735</td>\n",
       "      <td>0.156148</td>\n",
       "      <td>0.086009</td>\n",
       "      <td>0.116907</td>\n",
       "      <td>0.138768</td>\n",
       "      <td>0.089952</td>\n",
       "      <td>0</td>\n",
       "    </tr>\n",
       "    <tr>\n",
       "      <th>860</th>\n",
       "      <td>0.243853</td>\n",
       "      <td>0.092346</td>\n",
       "      <td>0.095821</td>\n",
       "      <td>0.192061</td>\n",
       "      <td>0.243853</td>\n",
       "      <td>0.042503</td>\n",
       "      <td>0.124766</td>\n",
       "      <td>0.116011</td>\n",
       "      <td>0.047970</td>\n",
       "      <td>0.243853</td>\n",
       "      <td>...</td>\n",
       "      <td>0.191215</td>\n",
       "      <td>0.029450</td>\n",
       "      <td>0.218331</td>\n",
       "      <td>0.147220</td>\n",
       "      <td>0.229474</td>\n",
       "      <td>0.121751</td>\n",
       "      <td>0.116174</td>\n",
       "      <td>0.200270</td>\n",
       "      <td>0.205739</td>\n",
       "      <td>1</td>\n",
       "    </tr>\n",
       "    <tr>\n",
       "      <th>459</th>\n",
       "      <td>0.221193</td>\n",
       "      <td>0.092100</td>\n",
       "      <td>0.209617</td>\n",
       "      <td>0.041634</td>\n",
       "      <td>0.294216</td>\n",
       "      <td>0.090812</td>\n",
       "      <td>0.090521</td>\n",
       "      <td>0.120554</td>\n",
       "      <td>0.023456</td>\n",
       "      <td>0.294216</td>\n",
       "      <td>...</td>\n",
       "      <td>0.035310</td>\n",
       "      <td>0.016899</td>\n",
       "      <td>0.036034</td>\n",
       "      <td>0.000000</td>\n",
       "      <td>0.292200</td>\n",
       "      <td>0.237643</td>\n",
       "      <td>0.228592</td>\n",
       "      <td>0.068780</td>\n",
       "      <td>0.105670</td>\n",
       "      <td>0</td>\n",
       "    </tr>\n",
       "    <tr>\n",
       "      <th>126</th>\n",
       "      <td>0.164018</td>\n",
       "      <td>0.064651</td>\n",
       "      <td>0.013692</td>\n",
       "      <td>0.239194</td>\n",
       "      <td>0.239194</td>\n",
       "      <td>0.239194</td>\n",
       "      <td>0.117050</td>\n",
       "      <td>0.146655</td>\n",
       "      <td>0.091814</td>\n",
       "      <td>0.239194</td>\n",
       "      <td>...</td>\n",
       "      <td>0.236716</td>\n",
       "      <td>0.129607</td>\n",
       "      <td>0.174233</td>\n",
       "      <td>0.219716</td>\n",
       "      <td>0.236716</td>\n",
       "      <td>0.236339</td>\n",
       "      <td>0.210061</td>\n",
       "      <td>0.106021</td>\n",
       "      <td>0.097863</td>\n",
       "      <td>0</td>\n",
       "    </tr>\n",
       "  </tbody>\n",
       "</table>\n",
       "<p>2000 rows × 3781 columns</p>\n",
       "</div>\n",
       "      <button class=\"colab-df-convert\" onclick=\"convertToInteractive('df-d9d4b2d9-db4c-4ccc-a0dc-fd6e05632084')\"\n",
       "              title=\"Convert this dataframe to an interactive table.\"\n",
       "              style=\"display:none;\">\n",
       "        \n",
       "  <svg xmlns=\"http://www.w3.org/2000/svg\" height=\"24px\"viewBox=\"0 0 24 24\"\n",
       "       width=\"24px\">\n",
       "    <path d=\"M0 0h24v24H0V0z\" fill=\"none\"/>\n",
       "    <path d=\"M18.56 5.44l.94 2.06.94-2.06 2.06-.94-2.06-.94-.94-2.06-.94 2.06-2.06.94zm-11 1L8.5 8.5l.94-2.06 2.06-.94-2.06-.94L8.5 2.5l-.94 2.06-2.06.94zm10 10l.94 2.06.94-2.06 2.06-.94-2.06-.94-.94-2.06-.94 2.06-2.06.94z\"/><path d=\"M17.41 7.96l-1.37-1.37c-.4-.4-.92-.59-1.43-.59-.52 0-1.04.2-1.43.59L10.3 9.45l-7.72 7.72c-.78.78-.78 2.05 0 2.83L4 21.41c.39.39.9.59 1.41.59.51 0 1.02-.2 1.41-.59l7.78-7.78 2.81-2.81c.8-.78.8-2.07 0-2.86zM5.41 20L4 18.59l7.72-7.72 1.47 1.35L5.41 20z\"/>\n",
       "  </svg>\n",
       "      </button>\n",
       "      \n",
       "  <style>\n",
       "    .colab-df-container {\n",
       "      display:flex;\n",
       "      flex-wrap:wrap;\n",
       "      gap: 12px;\n",
       "    }\n",
       "\n",
       "    .colab-df-convert {\n",
       "      background-color: #E8F0FE;\n",
       "      border: none;\n",
       "      border-radius: 50%;\n",
       "      cursor: pointer;\n",
       "      display: none;\n",
       "      fill: #1967D2;\n",
       "      height: 32px;\n",
       "      padding: 0 0 0 0;\n",
       "      width: 32px;\n",
       "    }\n",
       "\n",
       "    .colab-df-convert:hover {\n",
       "      background-color: #E2EBFA;\n",
       "      box-shadow: 0px 1px 2px rgba(60, 64, 67, 0.3), 0px 1px 3px 1px rgba(60, 64, 67, 0.15);\n",
       "      fill: #174EA6;\n",
       "    }\n",
       "\n",
       "    [theme=dark] .colab-df-convert {\n",
       "      background-color: #3B4455;\n",
       "      fill: #D2E3FC;\n",
       "    }\n",
       "\n",
       "    [theme=dark] .colab-df-convert:hover {\n",
       "      background-color: #434B5C;\n",
       "      box-shadow: 0px 1px 3px 1px rgba(0, 0, 0, 0.15);\n",
       "      filter: drop-shadow(0px 1px 2px rgba(0, 0, 0, 0.3));\n",
       "      fill: #FFFFFF;\n",
       "    }\n",
       "  </style>\n",
       "\n",
       "      <script>\n",
       "        const buttonEl =\n",
       "          document.querySelector('#df-d9d4b2d9-db4c-4ccc-a0dc-fd6e05632084 button.colab-df-convert');\n",
       "        buttonEl.style.display =\n",
       "          google.colab.kernel.accessAllowed ? 'block' : 'none';\n",
       "\n",
       "        async function convertToInteractive(key) {\n",
       "          const element = document.querySelector('#df-d9d4b2d9-db4c-4ccc-a0dc-fd6e05632084');\n",
       "          const dataTable =\n",
       "            await google.colab.kernel.invokeFunction('convertToInteractive',\n",
       "                                                     [key], {});\n",
       "          if (!dataTable) return;\n",
       "\n",
       "          const docLinkHtml = 'Like what you see? Visit the ' +\n",
       "            '<a target=\"_blank\" href=https://colab.research.google.com/notebooks/data_table.ipynb>data table notebook</a>'\n",
       "            + ' to learn more about interactive tables.';\n",
       "          element.innerHTML = '';\n",
       "          dataTable['output_type'] = 'display_data';\n",
       "          await google.colab.output.renderOutput(dataTable, element);\n",
       "          const docLink = document.createElement('div');\n",
       "          docLink.innerHTML = docLinkHtml;\n",
       "          element.appendChild(docLink);\n",
       "        }\n",
       "      </script>\n",
       "    </div>\n",
       "  </div>\n",
       "  "
      ],
      "text/plain": [
       "            0         1         2         3         4         5         6  \\\n",
       "860  0.336586  0.160407  0.122686  0.154237  0.211772  0.242787  0.250821   \n",
       "353  0.069409  0.000000  0.001692  0.032950  0.094738  0.000000  0.000000   \n",
       "333  0.280643  0.043625  0.063368  0.135196  0.280643  0.144818  0.280643   \n",
       "905  0.067620  0.007200  0.022769  0.000000  0.109480  0.000000  0.063753   \n",
       "289  0.152501  0.016487  0.057152  0.222507  0.222507  0.188007  0.193299   \n",
       "..        ...       ...       ...       ...       ...       ...       ...   \n",
       "130  0.257879  0.187916  0.146496  0.163800  0.257879  0.148939  0.083685   \n",
       "294  0.274351  0.015577  0.062672  0.015907  0.274351  0.177028  0.139001   \n",
       "860  0.243853  0.092346  0.095821  0.192061  0.243853  0.042503  0.124766   \n",
       "459  0.221193  0.092100  0.209617  0.041634  0.294216  0.090812  0.090521   \n",
       "126  0.164018  0.064651  0.013692  0.239194  0.239194  0.239194  0.117050   \n",
       "\n",
       "            7         8         9  ...      3771      3772      3773  \\\n",
       "860  0.286223  0.102710  0.210701  ...  0.101094  0.093213  0.267164   \n",
       "353  0.000000  0.000000  0.294626  ...  0.224677  0.175162  0.073874   \n",
       "333  0.127425  0.069041  0.280643  ...  0.111273  0.167085  0.120281   \n",
       "905  0.014400  0.000000  0.280140  ...  0.013352  0.000000  0.027904   \n",
       "289  0.019299  0.047238  0.208983  ...  0.235613  0.186474  0.094943   \n",
       "..        ...       ...       ...  ...       ...       ...       ...   \n",
       "130  0.040954  0.134785  0.108319  ...  0.053093  0.000000  0.109457   \n",
       "294  0.119525  0.217748  0.274351  ...  0.240943  0.066743  0.062206   \n",
       "860  0.116011  0.047970  0.243853  ...  0.191215  0.029450  0.218331   \n",
       "459  0.120554  0.023456  0.294216  ...  0.035310  0.016899  0.036034   \n",
       "126  0.146655  0.091814  0.239194  ...  0.236716  0.129607  0.174233   \n",
       "\n",
       "         3774      3775      3776      3777      3778      3779  label  \n",
       "860  0.178688  0.321475  0.174012  0.113073  0.131262  0.028033      0  \n",
       "353  0.119928  0.251425  0.202085  0.056226  0.272178  0.050749      1  \n",
       "333  0.115593  0.113364  0.095470  0.057599  0.028029  0.125776      0  \n",
       "905  0.168526  0.347661  0.082961  0.019722  0.003732  0.000000      1  \n",
       "289  0.059012  0.180339  0.032044  0.235613  0.122989  0.125329      0  \n",
       "..        ...       ...       ...       ...       ...       ...    ...  \n",
       "130  0.139525  0.196120  0.120268  0.028069  0.032068  0.006588      0  \n",
       "294  0.032735  0.156148  0.086009  0.116907  0.138768  0.089952      0  \n",
       "860  0.147220  0.229474  0.121751  0.116174  0.200270  0.205739      1  \n",
       "459  0.000000  0.292200  0.237643  0.228592  0.068780  0.105670      0  \n",
       "126  0.219716  0.236716  0.236339  0.210061  0.106021  0.097863      0  \n",
       "\n",
       "[2000 rows x 3781 columns]"
      ]
     },
     "execution_count": 23,
     "metadata": {},
     "output_type": "execute_result"
    }
   ],
   "source": [
    "trainingSet"
   ]
  },
  {
   "cell_type": "code",
   "execution_count": 24,
   "metadata": {
    "colab": {
     "base_uri": "https://localhost:8080/"
    },
    "id": "AM5G-382D9Vs",
    "outputId": "c215d7dd-c52d-46cd-fd83-cba8905a7368"
   },
   "outputs": [
    {
     "data": {
      "text/plain": [
       "Index(['0', '1', '2', '3', '4', '5', '6', '7', '8', '9',\n",
       "       ...\n",
       "       '3771', '3772', '3773', '3774', '3775', '3776', '3777', '3778', '3779',\n",
       "       'label'],\n",
       "      dtype='object', length=3781)"
      ]
     },
     "execution_count": 24,
     "metadata": {},
     "output_type": "execute_result"
    }
   ],
   "source": [
    "trainingSet.columns"
   ]
  },
  {
   "cell_type": "code",
   "execution_count": 25,
   "metadata": {
    "id": "zoDVfInDpubh"
   },
   "outputs": [],
   "source": [
    "from scipy import stats\n",
    "for column in trainingSet.columns:\n",
    "    if column != 'label':\n",
    "        corr,pvalue = stats.pearsonr(trainingSet[column],trainingSet['label'])\n",
    "        if pvalue >=0.05:\n",
    "            trainingSet.drop(columns=[column],axis = 1,inplace=True)\n",
    "            testingSet.drop(columns=[column],axis = 1,inplace=True) "
   ]
  },
  {
   "cell_type": "code",
   "execution_count": 26,
   "metadata": {
    "colab": {
     "base_uri": "https://localhost:8080/"
    },
    "id": "ZgPReaRDEP0Q",
    "outputId": "0809918d-8a62-4a2d-c8e3-c98db8f5b769"
   },
   "outputs": [
    {
     "name": "stdout",
     "output_type": "stream",
     "text": [
      "(2000, 1754)\n"
     ]
    }
   ],
   "source": [
    "print(trainingSet.shape)"
   ]
  },
  {
   "cell_type": "code",
   "execution_count": 27,
   "metadata": {
    "colab": {
     "base_uri": "https://localhost:8080/"
    },
    "id": "TL42efa9ETJ_",
    "outputId": "1f321e56-34b3-446c-b4d7-0a8dade3784f"
   },
   "outputs": [
    {
     "name": "stdout",
     "output_type": "stream",
     "text": [
      "(200, 1754)\n"
     ]
    }
   ],
   "source": [
    "print(testingSet.shape)"
   ]
  },
  {
   "cell_type": "code",
   "execution_count": 28,
   "metadata": {
    "id": "Ug4K5_d7c_Y_"
   },
   "outputs": [],
   "source": [
    "from sklearn import svm"
   ]
  },
  {
   "cell_type": "code",
   "execution_count": 29,
   "metadata": {
    "id": "0UKGEnqgfHrY"
   },
   "outputs": [],
   "source": [
    "from sklearn.metrics import accuracy_score"
   ]
  },
  {
   "cell_type": "code",
   "execution_count": 30,
   "metadata": {
    "id": "DYxrJqonecb2"
   },
   "outputs": [],
   "source": [
    "y_train = trainingSet['label']\n",
    "x_train = trainingSet.drop(columns=['label'],axis=1)"
   ]
  },
  {
   "cell_type": "code",
   "execution_count": 31,
   "metadata": {
    "id": "0uP_n9raiab3"
   },
   "outputs": [],
   "source": [
    "y_test = testingSet['label']\n",
    "x_test = testingSet.drop(columns=['label'],axis=1)"
   ]
  },
  {
   "cell_type": "code",
   "execution_count": 32,
   "metadata": {
    "colab": {
     "base_uri": "https://localhost:8080/"
    },
    "id": "eozisMmMdr-3",
    "outputId": "3f917580-10fb-4178-8757-96f9e76599fe"
   },
   "outputs": [
    {
     "name": "stdout",
     "output_type": "stream",
     "text": [
      "0.9185\n",
      "0.73\n"
     ]
    }
   ],
   "source": [
    "svc = svm.SVC(kernel='linear').fit(x_train, y_train)\n",
    "print(accuracy_score(svc.predict(x_train),y_train))\n",
    "print(accuracy_score(svc.predict(x_test),y_test))"
   ]
  },
  {
   "cell_type": "code",
   "execution_count": 33,
   "metadata": {
    "colab": {
     "base_uri": "https://localhost:8080/"
    },
    "id": "vkSAVXRED9T1",
    "outputId": "1a15b0a1-63e2-4720-916b-a09b495dcaf5"
   },
   "outputs": [
    {
     "name": "stdout",
     "output_type": "stream",
     "text": [
      "0.976\n",
      "0.725\n"
     ]
    }
   ],
   "source": [
    "lin_svc = svm.LinearSVC().fit(x_train, y_train)\n",
    "print(accuracy_score(lin_svc.predict(x_train),y_train))\n",
    "print(accuracy_score(lin_svc.predict(x_test),y_test))"
   ]
  },
  {
   "cell_type": "code",
   "execution_count": 34,
   "metadata": {
    "colab": {
     "base_uri": "https://localhost:8080/"
    },
    "id": "2ruSm22DETFq",
    "outputId": "4859a7cb-ddbe-4487-9662-101f0f28cb37"
   },
   "outputs": [
    {
     "name": "stdout",
     "output_type": "stream",
     "text": [
      "0.9485\n",
      "0.725\n"
     ]
    }
   ],
   "source": [
    "rbf_svc = svm.SVC(kernel='rbf').fit(x_train, y_train)\n",
    "print(accuracy_score(rbf_svc.predict(x_train),y_train))\n",
    "print(accuracy_score(rbf_svc.predict(x_test),y_test))"
   ]
  },
  {
   "cell_type": "code",
   "execution_count": 35,
   "metadata": {
    "colab": {
     "base_uri": "https://localhost:8080/"
    },
    "id": "FoU80hqfeuPz",
    "outputId": "64101154-6b89-4331-8aab-121d335e4cf4"
   },
   "outputs": [
    {
     "name": "stdout",
     "output_type": "stream",
     "text": [
      "1.0\n",
      "0.735\n"
     ]
    }
   ],
   "source": [
    "poly_svc = svm.SVC(kernel='poly').fit(x_train, y_train)\n",
    "print(accuracy_score(poly_svc.predict(x_train),y_train))\n",
    "print(accuracy_score(poly_svc.predict(x_test),y_test))"
   ]
  },
  {
   "cell_type": "code",
   "execution_count": 36,
   "metadata": {
    "id": "H5THqEO0E4h9"
   },
   "outputs": [],
   "source": [
    "from sklearn.ensemble import StackingClassifier\n",
    "from sklearn.linear_model import LogisticRegression"
   ]
  },
  {
   "cell_type": "code",
   "execution_count": 37,
   "metadata": {
    "id": "2D4u2QM7iNkD"
   },
   "outputs": [],
   "source": [
    "supportVectorMachines = [(\"polyKernel\",svm.SVC(kernel='poly')),(\"linearKernel\",svm.SVC(kernel='linear')),(\"rbfKernel\",svm.SVC(kernel='rbf')),(\"linear\",svm.LinearSVC())]"
   ]
  },
  {
   "cell_type": "code",
   "execution_count": 38,
   "metadata": {
    "id": "Vmbq1fO3nc2G"
   },
   "outputs": [],
   "source": [
    "classifier = StackingClassifier(estimators=supportVectorMachines,final_estimator=LogisticRegression(),cv=10).fit(x_train,y_train)"
   ]
  },
  {
   "cell_type": "code",
   "execution_count": 39,
   "metadata": {
    "colab": {
     "base_uri": "https://localhost:8080/"
    },
    "id": "b9j-yqounh4l",
    "outputId": "5ad6364c-9901-458c-ea2e-8b3ccf008560"
   },
   "outputs": [
    {
     "name": "stdout",
     "output_type": "stream",
     "text": [
      "0.986\n",
      "0.75\n"
     ]
    }
   ],
   "source": [
    "print(accuracy_score(classifier.predict(x_train),y_train))\n",
    "print(accuracy_score(classifier.predict(x_test),y_test))"
   ]
  },
  {
   "cell_type": "code",
   "execution_count": 40,
   "metadata": {
    "id": "5CJDjV4-jKzF"
   },
   "outputs": [],
   "source": [
    "from sklearn.feature_selection import SelectKBest, chi2"
   ]
  },
  {
   "cell_type": "code",
   "execution_count": 41,
   "metadata": {
    "id": "m7pAEaz6_4Jy"
   },
   "outputs": [],
   "source": [
    "trainingSet = pd.DataFrame (columns=columns)\n",
    "testingSet = pd.DataFrame (columns=columns)"
   ]
  },
  {
   "cell_type": "code",
   "execution_count": 42,
   "metadata": {
    "id": "BHnSI5kt_4Jy"
   },
   "outputs": [],
   "source": [
    "trainingSet = pd.concat([catsTrain,dogsTrain],axis=0)\n",
    "testingSet = pd.concat([catsTest,dogsTest],axis=0)"
   ]
  },
  {
   "cell_type": "code",
   "execution_count": 43,
   "metadata": {
    "id": "ScUofYsY_4Jz"
   },
   "outputs": [],
   "source": [
    "trainingSet['label'] = [1 if animal == 'cat' else 0 for animal in trainingSet['label']]\n",
    "testingSet['label'] = [1 if animal == 'cat' else 0 for animal in testingSet['label']]"
   ]
  },
  {
   "cell_type": "code",
   "execution_count": 44,
   "metadata": {
    "id": "Tz5ju68V_4Jz"
   },
   "outputs": [],
   "source": [
    "trainingSet = trainingSet.sample(frac=1,random_state = 42)\n",
    "testingSet = testingSet.sample(frac=1,random_state = 42)"
   ]
  },
  {
   "cell_type": "code",
   "execution_count": 45,
   "metadata": {
    "id": "27BVrHyF7SlX"
   },
   "outputs": [],
   "source": [
    "selector = SelectKBest(chi2)"
   ]
  },
  {
   "cell_type": "code",
   "execution_count": 46,
   "metadata": {
    "id": "0nDnwAze_8SF"
   },
   "outputs": [],
   "source": [
    "x_train = trainingSet.drop(columns=['label'],axis=1)\n",
    "y_train = trainingSet['label']"
   ]
  },
  {
   "cell_type": "code",
   "execution_count": 47,
   "metadata": {
    "id": "pY4nQdAt7Xqp"
   },
   "outputs": [],
   "source": [
    "selected_features = selector.fit_transform(x_train,y_train)"
   ]
  },
  {
   "cell_type": "code",
   "execution_count": 48,
   "metadata": {
    "colab": {
     "base_uri": "https://localhost:8080/"
    },
    "id": "TPStrNdn7gf2",
    "outputId": "9ed352a2-b0da-4d7b-c859-ec401efee8a8"
   },
   "outputs": [
    {
     "data": {
      "text/plain": [
       "(2000, 10)"
      ]
     },
     "execution_count": 48,
     "metadata": {},
     "output_type": "execute_result"
    }
   ],
   "source": [
    "selected_features.shape"
   ]
  },
  {
   "cell_type": "code",
   "execution_count": 49,
   "metadata": {
    "id": "ADF5nrTV7lRC"
   },
   "outputs": [],
   "source": [
    "featureDiscarder = selector.get_support()"
   ]
  },
  {
   "cell_type": "code",
   "execution_count": 50,
   "metadata": {
    "id": "Wb2Ht_3z72VM"
   },
   "outputs": [],
   "source": [
    "features = np.array(columns)"
   ]
  },
  {
   "cell_type": "code",
   "execution_count": 51,
   "metadata": {
    "id": "Aru1Mp0R7_J6"
   },
   "outputs": [],
   "source": [
    "winningFeatures = features[featureDiscarder]"
   ]
  },
  {
   "cell_type": "code",
   "execution_count": 52,
   "metadata": {
    "colab": {
     "base_uri": "https://localhost:8080/"
    },
    "id": "CpTOzqP38FcW",
    "outputId": "7abdb404-8f80-4a07-ac8a-48ce3d257f8a"
   },
   "outputs": [
    {
     "data": {
      "text/plain": [
       "array(['92', '587', '614', '879', '906', '987', '1014', '3473', '3491',\n",
       "       '3626'], dtype='<U4')"
      ]
     },
     "execution_count": 52,
     "metadata": {},
     "output_type": "execute_result"
    }
   ],
   "source": [
    "winningFeatures"
   ]
  },
  {
   "cell_type": "code",
   "execution_count": 53,
   "metadata": {
    "id": "mD0-dANF8J2N"
   },
   "outputs": [],
   "source": [
    "for column in trainingSet:\n",
    "    if column != 'label' :\n",
    "        if column not in winningFeatures:\n",
    "            trainingSet.drop(columns=[column],axis=1,inplace=True)\n",
    "            testingSet.drop(columns=[column],axis=1,inplace=True)"
   ]
  },
  {
   "cell_type": "code",
   "execution_count": 54,
   "metadata": {
    "id": "MJnh-bd58vC6"
   },
   "outputs": [],
   "source": [
    "y_train = trainingSet['label']\n",
    "x_train = trainingSet.drop(columns=['label'],axis=1)"
   ]
  },
  {
   "cell_type": "code",
   "execution_count": 55,
   "metadata": {
    "id": "54xwLFh68vC7"
   },
   "outputs": [],
   "source": [
    "y_test = testingSet['label']\n",
    "x_test = testingSet.drop(columns=['label'],axis=1)"
   ]
  },
  {
   "cell_type": "code",
   "execution_count": 56,
   "metadata": {
    "id": "vZx6QYpF8vC8"
   },
   "outputs": [],
   "source": [
    "svc = svm.SVC(kernel='linear').fit(x_train, y_train)\n",
    "lin_svc = svm.LinearSVC().fit(x_train, y_train)\n",
    "rbf_svc = svm.SVC(kernel='rbf').fit(x_train, y_train)\n",
    "poly_svc = svm.SVC(kernel='poly').fit(x_train, y_train)"
   ]
  },
  {
   "cell_type": "code",
   "execution_count": 57,
   "metadata": {
    "colab": {
     "base_uri": "https://localhost:8080/"
    },
    "id": "bUDkRSCV8vC9",
    "outputId": "3b64c509-36de-4e6f-d1b2-79f6eddd515a"
   },
   "outputs": [
    {
     "name": "stdout",
     "output_type": "stream",
     "text": [
      "0.605\n",
      "0.6\n",
      "0.585\n",
      "0.595\n"
     ]
    }
   ],
   "source": [
    "print(accuracy_score(svc.predict(x_test),y_test))\n",
    "print(accuracy_score(lin_svc.predict(x_test),y_test))\n",
    "print(accuracy_score(rbf_svc.predict(x_test),y_test))\n",
    "print(accuracy_score(poly_svc.predict(x_test),y_test))"
   ]
  },
  {
   "cell_type": "code",
   "execution_count": 58,
   "metadata": {
    "id": "IkDgK7MwLIqm"
   },
   "outputs": [],
   "source": [
    "training_data =[]\n",
    "def create_training_data():\n",
    "    for category in categories:\n",
    "        path = os.path.join(data_directory,category)\n",
    "        class_index = categories.index(category)\n",
    "        if class_index== 0 or class_index==2:\n",
    "            class_index = 1\n",
    "        else :\n",
    "            class_index=0\n",
    "        for images in os.listdir(path):\n",
    "            try :\n",
    "                img_array= cv2.imread(os.path.join(path,images),cv2.IMREAD_GRAYSCALE)\n",
    "                new_image = cv2.resize(img_array,(128,64))\n",
    "                training_data.append([new_image,class_index])\n",
    "            except Exception as e:\n",
    "                pass"
   ]
  },
  {
   "cell_type": "code",
   "execution_count": 59,
   "metadata": {
    "id": "F_dLd4PjMgJg"
   },
   "outputs": [],
   "source": [
    "create_training_data()"
   ]
  },
  {
   "cell_type": "code",
   "execution_count": 60,
   "metadata": {
    "id": "1w8vJ3ynL1cm"
   },
   "outputs": [],
   "source": [
    "import random\n",
    "random.shuffle(training_data)"
   ]
  },
  {
   "cell_type": "code",
   "execution_count": 61,
   "metadata": {
    "id": "d_KxM6Q3MAsH"
   },
   "outputs": [],
   "source": [
    "X=[]\n",
    "Y=[]\n",
    "for features, labels in training_data:\n",
    "    X.append(features)\n",
    "    Y.append(labels)"
   ]
  },
  {
   "cell_type": "code",
   "execution_count": 62,
   "metadata": {
    "id": "2G1aZhFLMBnA"
   },
   "outputs": [],
   "source": [
    "X= np.array(X).reshape(-1,128,64,1)\n",
    "Y = np.array(Y).reshape(2200,1)"
   ]
  },
  {
   "cell_type": "code",
   "execution_count": 63,
   "metadata": {
    "colab": {
     "base_uri": "https://localhost:8080/"
    },
    "id": "NiO5ko-XM5Jd",
    "outputId": "3e9324fb-de50-4767-9637-7c0fcdc85ae3"
   },
   "outputs": [
    {
     "data": {
      "text/plain": [
       "(2200, 128, 64, 1)"
      ]
     },
     "execution_count": 63,
     "metadata": {},
     "output_type": "execute_result"
    }
   ],
   "source": [
    "X.shape"
   ]
  },
  {
   "cell_type": "code",
   "execution_count": 64,
   "metadata": {
    "colab": {
     "base_uri": "https://localhost:8080/"
    },
    "id": "UIokeKMhM7wZ",
    "outputId": "231bb50c-205d-43fa-f920-f405c8a03015"
   },
   "outputs": [
    {
     "data": {
      "text/plain": [
       "(2200, 1)"
      ]
     },
     "execution_count": 64,
     "metadata": {},
     "output_type": "execute_result"
    }
   ],
   "source": [
    "Y.shape"
   ]
  },
  {
   "cell_type": "code",
   "execution_count": 65,
   "metadata": {
    "id": "1rKX77m5MIKb"
   },
   "outputs": [],
   "source": [
    "from sklearn.model_selection import train_test_split\n",
    "x_train,x_test,y_train,y_test= train_test_split(X,Y,test_size=0.1, random_state=42,stratify=Y)"
   ]
  },
  {
   "cell_type": "code",
   "execution_count": 66,
   "metadata": {
    "id": "zq5Hz_PsSyXL"
   },
   "outputs": [],
   "source": [
    "x_train = x_train/255\n",
    "x_test=x_test/255"
   ]
  },
  {
   "cell_type": "code",
   "execution_count": 96,
   "metadata": {
    "id": "m3XAhWYgSyXL"
   },
   "outputs": [],
   "source": [
    "import tensorflow as tf\n",
    "import keras"
   ]
  },
  {
   "cell_type": "code",
   "execution_count": 161,
   "metadata": {
    "id": "O9-_J4BnSyXL"
   },
   "outputs": [],
   "source": [
    "model = tf.keras.models.Sequential([tf.keras.layers.Conv2D(32,(3,3),activation = 'relu',input_shape=(128,64,1)),\n",
    "                                    tf.keras.layers.MaxPool2D(2,2),\n",
    "                                    tf.keras.layers.Conv2D(64,(3,3),activation='relu'),\n",
    "                                  tf.keras.layers.Flatten(),\n",
    "                                  tf.keras.layers.Dense(64,activation='relu'),\n",
    "                                  tf.keras.layers.Dense(8,activation='relu'),\n",
    "                                   tf.keras.layers.Dense(1,activation='sigmoid')])"
   ]
  },
  {
   "cell_type": "code",
   "execution_count": 162,
   "metadata": {
    "id": "Ra5cVrEySyXL"
   },
   "outputs": [],
   "source": [
    "model.compile(optimizer=tf.keras.optimizers.SGD(lr=0.01,momentum=0.8),loss = tf.keras.losses.BinaryCrossentropy(), metrics=['accuracy'])"
   ]
  },
  {
   "cell_type": "code",
   "execution_count": 163,
   "metadata": {
    "colab": {
     "base_uri": "https://localhost:8080/"
    },
    "id": "Rv4vPe31SyXL",
    "outputId": "1a0b1860-5ad9-4f9d-a222-940368d9ecf9"
   },
   "outputs": [
    {
     "name": "stdout",
     "output_type": "stream",
     "text": [
      "Epoch 1/50\n",
      "62/62 [==============================] - 2s 26ms/step - loss: 0.6944 - accuracy: 0.5081\n",
      "Epoch 2/50\n",
      "62/62 [==============================] - 2s 25ms/step - loss: 0.6933 - accuracy: 0.5000\n",
      "Epoch 3/50\n",
      "62/62 [==============================] - 2s 26ms/step - loss: 0.6933 - accuracy: 0.4848\n",
      "Epoch 4/50\n",
      "62/62 [==============================] - 2s 26ms/step - loss: 0.6933 - accuracy: 0.5000\n",
      "Epoch 5/50\n",
      "62/62 [==============================] - 2s 26ms/step - loss: 0.6933 - accuracy: 0.4924\n",
      "Epoch 6/50\n",
      "62/62 [==============================] - 2s 26ms/step - loss: 0.6932 - accuracy: 0.5015\n",
      "Epoch 7/50\n",
      "62/62 [==============================] - 2s 26ms/step - loss: 0.6932 - accuracy: 0.5000\n",
      "Epoch 8/50\n",
      "62/62 [==============================] - 2s 26ms/step - loss: 0.6931 - accuracy: 0.5061\n",
      "Epoch 9/50\n",
      "62/62 [==============================] - 2s 25ms/step - loss: 0.6931 - accuracy: 0.5263\n",
      "Epoch 10/50\n",
      "62/62 [==============================] - 2s 25ms/step - loss: 0.6931 - accuracy: 0.5066\n",
      "Epoch 11/50\n",
      "62/62 [==============================] - 2s 25ms/step - loss: 0.6929 - accuracy: 0.5333\n",
      "Epoch 12/50\n",
      "62/62 [==============================] - 2s 25ms/step - loss: 0.6930 - accuracy: 0.5227\n",
      "Epoch 13/50\n",
      "62/62 [==============================] - 2s 26ms/step - loss: 0.6913 - accuracy: 0.5247\n",
      "Epoch 14/50\n",
      "62/62 [==============================] - 2s 26ms/step - loss: 0.6897 - accuracy: 0.5394\n",
      "Epoch 15/50\n",
      "62/62 [==============================] - 2s 26ms/step - loss: 0.6871 - accuracy: 0.5359\n",
      "Epoch 16/50\n",
      "62/62 [==============================] - 2s 26ms/step - loss: 0.6848 - accuracy: 0.5561\n",
      "Epoch 17/50\n",
      "62/62 [==============================] - 2s 25ms/step - loss: 0.6830 - accuracy: 0.5611\n",
      "Epoch 18/50\n",
      "62/62 [==============================] - 2s 27ms/step - loss: 0.6824 - accuracy: 0.5596\n",
      "Epoch 19/50\n",
      "62/62 [==============================] - 2s 28ms/step - loss: 0.6770 - accuracy: 0.5879\n",
      "Epoch 20/50\n",
      "62/62 [==============================] - 2s 32ms/step - loss: 0.6746 - accuracy: 0.5742\n",
      "Epoch 21/50\n",
      "62/62 [==============================] - 2s 26ms/step - loss: 0.6710 - accuracy: 0.5970\n",
      "Epoch 22/50\n",
      "62/62 [==============================] - 2s 26ms/step - loss: 0.6656 - accuracy: 0.6126\n",
      "Epoch 23/50\n",
      "62/62 [==============================] - 2s 27ms/step - loss: 0.6594 - accuracy: 0.6141\n",
      "Epoch 24/50\n",
      "62/62 [==============================] - 2s 26ms/step - loss: 0.6504 - accuracy: 0.6197\n",
      "Epoch 25/50\n",
      "62/62 [==============================] - 2s 26ms/step - loss: 0.6581 - accuracy: 0.6015\n",
      "Epoch 26/50\n",
      "62/62 [==============================] - 2s 25ms/step - loss: 0.6386 - accuracy: 0.6328\n",
      "Epoch 27/50\n",
      "62/62 [==============================] - 2s 26ms/step - loss: 0.6241 - accuracy: 0.6545\n",
      "Epoch 28/50\n",
      "62/62 [==============================] - 2s 26ms/step - loss: 0.6117 - accuracy: 0.6667\n",
      "Epoch 29/50\n",
      "62/62 [==============================] - 2s 26ms/step - loss: 0.6012 - accuracy: 0.6818\n",
      "Epoch 30/50\n",
      "62/62 [==============================] - 2s 26ms/step - loss: 0.5759 - accuracy: 0.7051\n",
      "Epoch 31/50\n",
      "62/62 [==============================] - 2s 26ms/step - loss: 0.5443 - accuracy: 0.7424\n",
      "Epoch 32/50\n",
      "62/62 [==============================] - 2s 26ms/step - loss: 0.5313 - accuracy: 0.7545\n",
      "Epoch 33/50\n",
      "62/62 [==============================] - 2s 26ms/step - loss: 0.4809 - accuracy: 0.7869\n",
      "Epoch 34/50\n",
      "62/62 [==============================] - 2s 26ms/step - loss: 0.3853 - accuracy: 0.8389\n",
      "Epoch 35/50\n",
      "62/62 [==============================] - 2s 26ms/step - loss: 0.3149 - accuracy: 0.8677\n",
      "Epoch 36/50\n",
      "62/62 [==============================] - 2s 26ms/step - loss: 0.2418 - accuracy: 0.9061\n",
      "Epoch 37/50\n",
      "62/62 [==============================] - 2s 26ms/step - loss: 0.1874 - accuracy: 0.9364\n",
      "Epoch 38/50\n",
      "62/62 [==============================] - 2s 26ms/step - loss: 0.2159 - accuracy: 0.9192\n",
      "Epoch 39/50\n",
      "62/62 [==============================] - 2s 26ms/step - loss: 0.0740 - accuracy: 0.9773\n",
      "Epoch 40/50\n",
      "62/62 [==============================] - 2s 26ms/step - loss: 0.0728 - accuracy: 0.9783\n",
      "Epoch 41/50\n",
      "62/62 [==============================] - 2s 26ms/step - loss: 0.0279 - accuracy: 0.9919\n",
      "Epoch 42/50\n",
      "62/62 [==============================] - 2s 26ms/step - loss: 0.0098 - accuracy: 0.9990\n",
      "Epoch 43/50\n",
      "62/62 [==============================] - 2s 26ms/step - loss: 0.0028 - accuracy: 1.0000\n",
      "Epoch 44/50\n",
      "62/62 [==============================] - 2s 26ms/step - loss: 0.0017 - accuracy: 1.0000\n",
      "Epoch 45/50\n",
      "62/62 [==============================] - 2s 26ms/step - loss: 0.0013 - accuracy: 1.0000\n",
      "Epoch 46/50\n",
      "62/62 [==============================] - 2s 26ms/step - loss: 0.0011 - accuracy: 1.0000\n",
      "Epoch 47/50\n",
      "62/62 [==============================] - 2s 26ms/step - loss: 8.8718e-04 - accuracy: 1.0000\n",
      "Epoch 48/50\n",
      "62/62 [==============================] - 2s 25ms/step - loss: 7.7315e-04 - accuracy: 1.0000\n",
      "Epoch 49/50\n",
      "62/62 [==============================] - 2s 26ms/step - loss: 6.7748e-04 - accuracy: 1.0000\n",
      "Epoch 50/50\n",
      "62/62 [==============================] - 2s 26ms/step - loss: 6.0569e-04 - accuracy: 1.0000\n"
     ]
    },
    {
     "data": {
      "text/plain": [
       "<keras.callbacks.History at 0x7f167c1da050>"
      ]
     },
     "execution_count": 163,
     "metadata": {},
     "output_type": "execute_result"
    }
   ],
   "source": [
    "model.fit(x_train,y_train,batch_size=32,epochs=50,verbose=1)"
   ]
  },
  {
   "cell_type": "code",
   "execution_count": 164,
   "metadata": {
    "colab": {
     "base_uri": "https://localhost:8080/"
    },
    "id": "eJCjFgwpSyXM",
    "outputId": "7f7aafd1-1ab8-4775-f483-d0573fdcd1f8"
   },
   "outputs": [
    {
     "name": "stdout",
     "output_type": "stream",
     "text": [
      "7/7 [==============================] - 0s 12ms/step - loss: 2.5243 - accuracy: 0.5818\n"
     ]
    },
    {
     "data": {
      "text/plain": [
       "[2.5243170261383057, 0.581818163394928]"
      ]
     },
     "execution_count": 164,
     "metadata": {},
     "output_type": "execute_result"
    }
   ],
   "source": [
    "model.evaluate(x_test,y_test)"
   ]
  }
 ],
 "metadata": {
  "accelerator": "GPU",
  "colab": {
   "collapsed_sections": [],
   "name": "Cats vs Dogs Classification.ipynb",
   "provenance": []
  },
  "kernelspec": {
   "display_name": "Python 3 (ipykernel)",
   "language": "python",
   "name": "python3"
  },
  "language_info": {
   "codemirror_mode": {
    "name": "ipython",
    "version": 3
   },
   "file_extension": ".py",
   "mimetype": "text/x-python",
   "name": "python",
   "nbconvert_exporter": "python",
   "pygments_lexer": "ipython3",
   "version": "3.9.7"
  }
 },
 "nbformat": 4,
 "nbformat_minor": 1
}
