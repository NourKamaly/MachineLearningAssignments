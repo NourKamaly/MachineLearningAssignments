{
  "cells": [
    {
      "cell_type": "code",
      "execution_count": 1,
      "metadata": {
        "colab": {
          "base_uri": "https://localhost:8080/"
        },
        "id": "QIsq8MT4YuTK",
        "outputId": "d2f5c40d-0407-41db-a3b7-5dbd78a54121"
      },
      "outputs": [
        {
          "output_type": "stream",
          "name": "stdout",
          "text": [
            "Mounted at /content/drive\n"
          ]
        }
      ],
      "source": [
        "from google.colab import drive\n",
        "drive.mount('/content/drive')"
      ]
    },
    {
      "cell_type": "code",
      "execution_count": 37,
      "metadata": {
        "id": "w84uIP1wZDPl"
      },
      "outputs": [],
      "source": [
        "import numpy as np\n",
        "import pandas as pd\n",
        "import matplotlib.pyplot as plt\n",
        "import os\n",
        "from google.colab.patches import cv2_imshow\n",
        "import cv2\n",
        "from skimage.feature import hog\n",
        "from sklearn import svm\n",
        "from scipy import stats\n",
        "from sklearn.metrics import accuracy_score\n",
        "from sklearn.ensemble import StackingClassifier\n",
        "from sklearn.linear_model import LogisticRegression\n",
        "from sklearn.feature_selection import SelectKBest, chi2\n",
        "import warnings\n",
        "warnings.filterwarnings(\"ignore\")"
      ]
    },
    {
      "cell_type": "code",
      "execution_count": 3,
      "metadata": {
        "id": "lzJebb_NqILl"
      },
      "outputs": [],
      "source": [
        "data_directory = \"/content/drive/MyDrive/Deep_learning\""
      ]
    },
    {
      "cell_type": "markdown",
      "source": [
        "Here we are extracting the features from our pictures using HOG, by resizing our image to 128 x 64, having 9 orientations, 8 x 8 pixels per cells and 2 x 2 cells per block, we get 3780 feature in total (excluding the label), so a column for each feature is made"
      ],
      "metadata": {
        "id": "Dfc0MT-cZSfo"
      }
    },
    {
      "cell_type": "code",
      "execution_count": 4,
      "metadata": {
        "id": "QwEWAvFiekAU"
      },
      "outputs": [],
      "source": [
        "columns=[]\n",
        "for ctr in range(0,3780):\n",
        "    columns.append(str(ctr))"
      ]
    },
    {
      "cell_type": "code",
      "execution_count": 5,
      "metadata": {
        "id": "w6UWCGa5ZhQr"
      },
      "outputs": [],
      "source": [
        "categories = [\"CatsTrain\",\"DogsTrain\",\"CatsTest\",\"DogsTest\"]\n",
        "\n",
        "def create_data(category):\n",
        "    path = os.path.join(data_directory,category)\n",
        "    df = pd.DataFrame (columns=columns)\n",
        "    for image in os.listdir(path):\n",
        "        img = cv2.imread(os.path.join(path,image),cv2.IMREAD_GRAYSCALE)\n",
        "        resized_img = cv2.resize(img,(128,64))\n",
        "        fd,hog_img = hog(resized_img,orientations=9,pixels_per_cell=(8,8),cells_per_block=(2,2),visualize=True)\n",
        "        df.loc[len(df)] = fd.tolist()\n",
        "    return df\n"
      ]
    },
    {
      "cell_type": "code",
      "execution_count": 6,
      "metadata": {
        "id": "WSzGf5pxh7D3"
      },
      "outputs": [],
      "source": [
        "catsTrain = create_data(categories[0])\n",
        "catsTrain['label'] = \"cat\""
      ]
    },
    {
      "cell_type": "code",
      "execution_count": 7,
      "metadata": {
        "id": "WrZJInQ7tX-7"
      },
      "outputs": [],
      "source": [
        "dogsTrain = create_data(categories[1])\n",
        "dogsTrain['label'] = \"dog\""
      ]
    },
    {
      "cell_type": "code",
      "execution_count": 8,
      "metadata": {
        "id": "zH1vxkuMOOx3"
      },
      "outputs": [],
      "source": [
        "catsTest = create_data(categories[2])\n",
        "catsTest['label'] = \"cat\""
      ]
    },
    {
      "cell_type": "code",
      "execution_count": 9,
      "metadata": {
        "id": "buy40cPItbUG"
      },
      "outputs": [],
      "source": [
        "dogsTest = create_data(categories[3])\n",
        "dogsTest['label'] = \"dog\""
      ]
    },
    {
      "cell_type": "code",
      "source": [
        "for data in (catsTrain, dogsTrain,catsTest,dogsTest):\n",
        "   print(\"Data shape \" , data.shape)"
      ],
      "metadata": {
        "colab": {
          "base_uri": "https://localhost:8080/"
        },
        "id": "10R3NzejXoHP",
        "outputId": "12735a19-9490-45e3-ec69-34e5ec7b7853"
      },
      "execution_count": 10,
      "outputs": [
        {
          "output_type": "stream",
          "name": "stdout",
          "text": [
            "Data shape  (1000, 3781)\n",
            "Data shape  (1000, 3781)\n",
            "Data shape  (100, 3781)\n",
            "Data shape  (100, 3781)\n"
          ]
        }
      ]
    },
    {
      "cell_type": "markdown",
      "source": [
        "Merging each dataframe into its training/testing set"
      ],
      "metadata": {
        "id": "cNfoVtguZa25"
      }
    },
    {
      "cell_type": "markdown",
      "source": [
        "If the data is not randomized, the model will be biased to the first label that will exist in the first half of the dataset, then it will be biased to the second label of the second half of the dataset"
      ],
      "metadata": {
        "id": "q3joZEPtZg3J"
      }
    },
    {
      "cell_type": "code",
      "source": [
        "def merge_ready_randomize():\n",
        "  trainingSet = pd.DataFrame (columns=columns)\n",
        "  testingSet = pd.DataFrame (columns=columns)\n",
        "\n",
        "  trainingSet = pd.concat([catsTrain,dogsTrain],axis=0)\n",
        "  testingSet = pd.concat([catsTest,dogsTest],axis=0)\n",
        "\n",
        "  trainingSet['label'] = [1 if animal == 'cat' else 0 for animal in trainingSet['label']]\n",
        "  testingSet['label'] = [1 if animal == 'cat' else 0 for animal in testingSet['label']]\n",
        "\n",
        "  trainingSet = trainingSet.sample(frac=1,random_state = 42)\n",
        "  testingSet = testingSet.sample(frac=1,random_state = 42)\n",
        "  \n",
        "  return trainingSet,testingSet"
      ],
      "metadata": {
        "id": "vgLzjHsIgji3"
      },
      "execution_count": null,
      "outputs": []
    },
    {
      "cell_type": "code",
      "source": [
        "trainingSet, testingSet = merge_ready_randomize()"
      ],
      "metadata": {
        "id": "iBkhV_CghW8l"
      },
      "execution_count": null,
      "outputs": []
    },
    {
      "cell_type": "markdown",
      "source": [
        "# There are multiple ways to select features\n",
        "1. Pvalue\n",
        "2. SelectKBest\n",
        "\n",
        "# Why is feature selection necessary ?"
      ],
      "metadata": {
        "id": "NqMmFlGDZxFR"
      }
    },
    {
      "cell_type": "code",
      "execution_count": 54,
      "metadata": {
        "id": "zoDVfInDpubh"
      },
      "outputs": [],
      "source": [
        "for column in trainingSet.columns:\n",
        "    if column != 'label':\n",
        "        corr,pvalue = stats.pearsonr(trainingSet[column],trainingSet['label'])\n",
        "        if pvalue >=0.05:\n",
        "            trainingSet.drop(columns=[column],axis = 1,inplace=True)\n",
        "            testingSet.drop(columns=[column],axis = 1,inplace=True) "
      ]
    },
    {
      "cell_type": "code",
      "execution_count": 55,
      "metadata": {
        "id": "DYxrJqonecb2"
      },
      "outputs": [],
      "source": [
        "y_train = trainingSet['label']\n",
        "x_train = trainingSet.drop(columns=['label'],axis=1)"
      ]
    },
    {
      "cell_type": "code",
      "execution_count": 56,
      "metadata": {
        "id": "0uP_n9raiab3"
      },
      "outputs": [],
      "source": [
        "y_test = testingSet['label']\n",
        "x_test = testingSet.drop(columns=['label'],axis=1)"
      ]
    },
    {
      "cell_type": "code",
      "source": [
        "supportVectorMachines = {(\"Polynomial Kernel SVM\",svm.SVC(kernel='poly')),\n",
        "                         (\"Linear Kernel SVM\",svm.SVC(kernel='linear')),\n",
        "                         (\"RBF Kernel SVM\",svm.SVC(kernel='rbf')),\n",
        "                         (\"Linear SVM\",svm.LinearSVC())}"
      ],
      "metadata": {
        "id": "DZO-_maMePsw"
      },
      "execution_count": 64,
      "outputs": []
    },
    {
      "cell_type": "code",
      "source": [
        "def trainSVMs(x_train,x_test,y_train,y_test):\n",
        "   for name, model in supportVectorMachines:\n",
        "     print(\"Training {modelName}\".format(modelName = name))\n",
        "     SVM = model.fit (x_train,y_train)\n",
        "     training_error = accuracy_score(SVM.predict(x_train),y_train)\n",
        "     testing_error = accuracy_score(SVM.predict(x_test),y_test)\n",
        "     print(\"Training error is {training_error}\".format(training_error=training_error))\n",
        "     print(\"Testing error is {testing_error}\".format(testing_error=testing_error))\n",
        "     print('-'*45)\n",
        "   print(\"Training an ensemble stacking classifier\")\n",
        "   classifier = StackingClassifier(estimators=supportVectorMachines,final_estimator=LogisticRegression(),cv=10).fit(x_train,y_train)\n",
        "   print(\"Training error is {training_error}\".format(training_error=training_error))\n",
        "   print(\"Testing error is {testing_error}\".format(testing_error=testing_error))\n",
        "   print('-'*45)"
      ],
      "metadata": {
        "id": "Mt_yGS-QaeG4"
      },
      "execution_count": 65,
      "outputs": []
    },
    {
      "cell_type": "code",
      "source": [
        "trainSVMs(x_train,x_test,y_train,y_test)"
      ],
      "metadata": {
        "colab": {
          "base_uri": "https://localhost:8080/"
        },
        "id": "GzXGXMpFdAIq",
        "outputId": "4166fc3f-97f4-4715-e0b0-3a953990f38f"
      },
      "execution_count": 66,
      "outputs": [
        {
          "output_type": "stream",
          "name": "stdout",
          "text": [
            "Training Polynomial Kernel SVM\n",
            "Training error is 1.0\n",
            "Testing error is 0.735\n",
            "---------------------------------------------\n",
            "Training Linear SVM\n",
            "Training error is 0.976\n",
            "Testing error is 0.725\n",
            "---------------------------------------------\n",
            "Training Linear Kernel SVM\n",
            "Training error is 0.919\n",
            "Testing error is 0.73\n",
            "---------------------------------------------\n",
            "Training RBF Kernel SVM\n",
            "Training error is 0.9485\n",
            "Testing error is 0.725\n",
            "---------------------------------------------\n",
            "Training an ensemble stacking classifier\n",
            "Training error is 0.9485\n",
            "Testing error is 0.725\n",
            "---------------------------------------------\n"
          ]
        }
      ]
    },
    {
      "cell_type": "code",
      "execution_count": null,
      "metadata": {
        "id": "27BVrHyF7SlX"
      },
      "outputs": [],
      "source": [
        "selector = SelectKBest(chi2)"
      ]
    },
    {
      "cell_type": "code",
      "execution_count": null,
      "metadata": {
        "id": "0nDnwAze_8SF"
      },
      "outputs": [],
      "source": [
        "x_train = trainingSet.drop(columns=['label'],axis=1)\n",
        "y_train = trainingSet['label']"
      ]
    },
    {
      "cell_type": "code",
      "execution_count": null,
      "metadata": {
        "id": "pY4nQdAt7Xqp"
      },
      "outputs": [],
      "source": [
        "selected_features = selector.fit_transform(x_train,y_train)"
      ]
    },
    {
      "cell_type": "code",
      "execution_count": null,
      "metadata": {
        "colab": {
          "base_uri": "https://localhost:8080/"
        },
        "id": "TPStrNdn7gf2",
        "outputId": "9ed352a2-b0da-4d7b-c859-ec401efee8a8"
      },
      "outputs": [
        {
          "data": {
            "text/plain": [
              "(2000, 10)"
            ]
          },
          "execution_count": 48,
          "metadata": {},
          "output_type": "execute_result"
        }
      ],
      "source": [
        "selected_features.shape"
      ]
    },
    {
      "cell_type": "code",
      "execution_count": null,
      "metadata": {
        "id": "ADF5nrTV7lRC"
      },
      "outputs": [],
      "source": [
        "featureDiscarder = selector.get_support()"
      ]
    },
    {
      "cell_type": "code",
      "execution_count": null,
      "metadata": {
        "id": "Wb2Ht_3z72VM"
      },
      "outputs": [],
      "source": [
        "features = np.array(columns)"
      ]
    },
    {
      "cell_type": "code",
      "execution_count": null,
      "metadata": {
        "id": "Aru1Mp0R7_J6"
      },
      "outputs": [],
      "source": [
        "winningFeatures = features[featureDiscarder]"
      ]
    },
    {
      "cell_type": "code",
      "execution_count": null,
      "metadata": {
        "colab": {
          "base_uri": "https://localhost:8080/"
        },
        "id": "CpTOzqP38FcW",
        "outputId": "7abdb404-8f80-4a07-ac8a-48ce3d257f8a"
      },
      "outputs": [
        {
          "data": {
            "text/plain": [
              "array(['92', '587', '614', '879', '906', '987', '1014', '3473', '3491',\n",
              "       '3626'], dtype='<U4')"
            ]
          },
          "execution_count": 52,
          "metadata": {},
          "output_type": "execute_result"
        }
      ],
      "source": [
        "winningFeatures"
      ]
    },
    {
      "cell_type": "code",
      "execution_count": null,
      "metadata": {
        "id": "mD0-dANF8J2N"
      },
      "outputs": [],
      "source": [
        "for column in trainingSet:\n",
        "    if column != 'label' :\n",
        "        if column not in winningFeatures:\n",
        "            trainingSet.drop(columns=[column],axis=1,inplace=True)\n",
        "            testingSet.drop(columns=[column],axis=1,inplace=True)"
      ]
    },
    {
      "cell_type": "code",
      "execution_count": null,
      "metadata": {
        "id": "MJnh-bd58vC6"
      },
      "outputs": [],
      "source": [
        "y_train = trainingSet['label']\n",
        "x_train = trainingSet.drop(columns=['label'],axis=1)"
      ]
    },
    {
      "cell_type": "code",
      "execution_count": null,
      "metadata": {
        "id": "54xwLFh68vC7"
      },
      "outputs": [],
      "source": [
        "y_test = testingSet['label']\n",
        "x_test = testingSet.drop(columns=['label'],axis=1)"
      ]
    },
    {
      "cell_type": "code",
      "execution_count": null,
      "metadata": {
        "id": "vZx6QYpF8vC8"
      },
      "outputs": [],
      "source": [
        "svc = svm.SVC(kernel='linear').fit(x_train, y_train)\n",
        "lin_svc = svm.LinearSVC().fit(x_train, y_train)\n",
        "rbf_svc = svm.SVC(kernel='rbf').fit(x_train, y_train)\n",
        "poly_svc = svm.SVC(kernel='poly').fit(x_train, y_train)"
      ]
    },
    {
      "cell_type": "code",
      "execution_count": null,
      "metadata": {
        "colab": {
          "base_uri": "https://localhost:8080/"
        },
        "id": "bUDkRSCV8vC9",
        "outputId": "3b64c509-36de-4e6f-d1b2-79f6eddd515a"
      },
      "outputs": [
        {
          "name": "stdout",
          "output_type": "stream",
          "text": [
            "0.605\n",
            "0.6\n",
            "0.585\n",
            "0.595\n"
          ]
        }
      ],
      "source": [
        "print(accuracy_score(svc.predict(x_test),y_test))\n",
        "print(accuracy_score(lin_svc.predict(x_test),y_test))\n",
        "print(accuracy_score(rbf_svc.predict(x_test),y_test))\n",
        "print(accuracy_score(poly_svc.predict(x_test),y_test))"
      ]
    },
    {
      "cell_type": "code",
      "execution_count": null,
      "metadata": {
        "id": "IkDgK7MwLIqm"
      },
      "outputs": [],
      "source": [
        "training_data =[]\n",
        "def create_training_data():\n",
        "    for category in categories:\n",
        "        path = os.path.join(data_directory,category)\n",
        "        class_index = categories.index(category)\n",
        "        if class_index== 0 or class_index==2:\n",
        "            class_index = 1\n",
        "        else :\n",
        "            class_index=0\n",
        "        for images in os.listdir(path):\n",
        "            try :\n",
        "                img_array= cv2.imread(os.path.join(path,images),cv2.IMREAD_GRAYSCALE)\n",
        "                new_image = cv2.resize(img_array,(128,64))\n",
        "                training_data.append([new_image,class_index])\n",
        "            except Exception as e:\n",
        "                pass"
      ]
    },
    {
      "cell_type": "code",
      "execution_count": null,
      "metadata": {
        "id": "F_dLd4PjMgJg"
      },
      "outputs": [],
      "source": [
        "create_training_data()"
      ]
    },
    {
      "cell_type": "code",
      "execution_count": null,
      "metadata": {
        "id": "1w8vJ3ynL1cm"
      },
      "outputs": [],
      "source": [
        "import random\n",
        "random.shuffle(training_data)"
      ]
    },
    {
      "cell_type": "code",
      "execution_count": null,
      "metadata": {
        "id": "d_KxM6Q3MAsH"
      },
      "outputs": [],
      "source": [
        "X=[]\n",
        "Y=[]\n",
        "for features, labels in training_data:\n",
        "    X.append(features)\n",
        "    Y.append(labels)"
      ]
    },
    {
      "cell_type": "code",
      "execution_count": null,
      "metadata": {
        "id": "2G1aZhFLMBnA"
      },
      "outputs": [],
      "source": [
        "X= np.array(X).reshape(-1,128,64,1)\n",
        "Y = np.array(Y).reshape(2200,1)"
      ]
    },
    {
      "cell_type": "code",
      "execution_count": null,
      "metadata": {
        "colab": {
          "base_uri": "https://localhost:8080/"
        },
        "id": "NiO5ko-XM5Jd",
        "outputId": "3e9324fb-de50-4767-9637-7c0fcdc85ae3"
      },
      "outputs": [
        {
          "data": {
            "text/plain": [
              "(2200, 128, 64, 1)"
            ]
          },
          "execution_count": 63,
          "metadata": {},
          "output_type": "execute_result"
        }
      ],
      "source": [
        "X.shape"
      ]
    },
    {
      "cell_type": "code",
      "execution_count": null,
      "metadata": {
        "colab": {
          "base_uri": "https://localhost:8080/"
        },
        "id": "UIokeKMhM7wZ",
        "outputId": "231bb50c-205d-43fa-f920-f405c8a03015"
      },
      "outputs": [
        {
          "data": {
            "text/plain": [
              "(2200, 1)"
            ]
          },
          "execution_count": 64,
          "metadata": {},
          "output_type": "execute_result"
        }
      ],
      "source": [
        "Y.shape"
      ]
    },
    {
      "cell_type": "code",
      "execution_count": null,
      "metadata": {
        "id": "1rKX77m5MIKb"
      },
      "outputs": [],
      "source": [
        "from sklearn.model_selection import train_test_split\n",
        "x_train,x_test,y_train,y_test= train_test_split(X,Y,test_size=0.1, random_state=42,stratify=Y)"
      ]
    },
    {
      "cell_type": "code",
      "execution_count": null,
      "metadata": {
        "id": "zq5Hz_PsSyXL"
      },
      "outputs": [],
      "source": [
        "x_train = x_train/255\n",
        "x_test=x_test/255"
      ]
    },
    {
      "cell_type": "code",
      "execution_count": null,
      "metadata": {
        "id": "m3XAhWYgSyXL"
      },
      "outputs": [],
      "source": [
        "import tensorflow as tf\n",
        "import keras"
      ]
    },
    {
      "cell_type": "code",
      "execution_count": null,
      "metadata": {
        "id": "O9-_J4BnSyXL"
      },
      "outputs": [],
      "source": [
        "model = tf.keras.models.Sequential([tf.keras.layers.Conv2D(32,(3,3),activation = 'relu',input_shape=(128,64,1)),\n",
        "                                    tf.keras.layers.MaxPool2D(2,2),\n",
        "                                    tf.keras.layers.Conv2D(64,(3,3),activation='relu'),\n",
        "                                  tf.keras.layers.Flatten(),\n",
        "                                  tf.keras.layers.Dense(64,activation='relu'),\n",
        "                                  tf.keras.layers.Dense(8,activation='relu'),\n",
        "                                   tf.keras.layers.Dense(1,activation='sigmoid')])"
      ]
    },
    {
      "cell_type": "code",
      "execution_count": null,
      "metadata": {
        "id": "Ra5cVrEySyXL"
      },
      "outputs": [],
      "source": [
        "model.compile(optimizer=tf.keras.optimizers.SGD(lr=0.01,momentum=0.8),loss = tf.keras.losses.BinaryCrossentropy(), metrics=['accuracy'])"
      ]
    },
    {
      "cell_type": "code",
      "execution_count": null,
      "metadata": {
        "colab": {
          "base_uri": "https://localhost:8080/"
        },
        "id": "Rv4vPe31SyXL",
        "outputId": "1a0b1860-5ad9-4f9d-a222-940368d9ecf9"
      },
      "outputs": [
        {
          "name": "stdout",
          "output_type": "stream",
          "text": [
            "Epoch 1/50\n",
            "62/62 [==============================] - 2s 26ms/step - loss: 0.6944 - accuracy: 0.5081\n",
            "Epoch 2/50\n",
            "62/62 [==============================] - 2s 25ms/step - loss: 0.6933 - accuracy: 0.5000\n",
            "Epoch 3/50\n",
            "62/62 [==============================] - 2s 26ms/step - loss: 0.6933 - accuracy: 0.4848\n",
            "Epoch 4/50\n",
            "62/62 [==============================] - 2s 26ms/step - loss: 0.6933 - accuracy: 0.5000\n",
            "Epoch 5/50\n",
            "62/62 [==============================] - 2s 26ms/step - loss: 0.6933 - accuracy: 0.4924\n",
            "Epoch 6/50\n",
            "62/62 [==============================] - 2s 26ms/step - loss: 0.6932 - accuracy: 0.5015\n",
            "Epoch 7/50\n",
            "62/62 [==============================] - 2s 26ms/step - loss: 0.6932 - accuracy: 0.5000\n",
            "Epoch 8/50\n",
            "62/62 [==============================] - 2s 26ms/step - loss: 0.6931 - accuracy: 0.5061\n",
            "Epoch 9/50\n",
            "62/62 [==============================] - 2s 25ms/step - loss: 0.6931 - accuracy: 0.5263\n",
            "Epoch 10/50\n",
            "62/62 [==============================] - 2s 25ms/step - loss: 0.6931 - accuracy: 0.5066\n",
            "Epoch 11/50\n",
            "62/62 [==============================] - 2s 25ms/step - loss: 0.6929 - accuracy: 0.5333\n",
            "Epoch 12/50\n",
            "62/62 [==============================] - 2s 25ms/step - loss: 0.6930 - accuracy: 0.5227\n",
            "Epoch 13/50\n",
            "62/62 [==============================] - 2s 26ms/step - loss: 0.6913 - accuracy: 0.5247\n",
            "Epoch 14/50\n",
            "62/62 [==============================] - 2s 26ms/step - loss: 0.6897 - accuracy: 0.5394\n",
            "Epoch 15/50\n",
            "62/62 [==============================] - 2s 26ms/step - loss: 0.6871 - accuracy: 0.5359\n",
            "Epoch 16/50\n",
            "62/62 [==============================] - 2s 26ms/step - loss: 0.6848 - accuracy: 0.5561\n",
            "Epoch 17/50\n",
            "62/62 [==============================] - 2s 25ms/step - loss: 0.6830 - accuracy: 0.5611\n",
            "Epoch 18/50\n",
            "62/62 [==============================] - 2s 27ms/step - loss: 0.6824 - accuracy: 0.5596\n",
            "Epoch 19/50\n",
            "62/62 [==============================] - 2s 28ms/step - loss: 0.6770 - accuracy: 0.5879\n",
            "Epoch 20/50\n",
            "62/62 [==============================] - 2s 32ms/step - loss: 0.6746 - accuracy: 0.5742\n",
            "Epoch 21/50\n",
            "62/62 [==============================] - 2s 26ms/step - loss: 0.6710 - accuracy: 0.5970\n",
            "Epoch 22/50\n",
            "62/62 [==============================] - 2s 26ms/step - loss: 0.6656 - accuracy: 0.6126\n",
            "Epoch 23/50\n",
            "62/62 [==============================] - 2s 27ms/step - loss: 0.6594 - accuracy: 0.6141\n",
            "Epoch 24/50\n",
            "62/62 [==============================] - 2s 26ms/step - loss: 0.6504 - accuracy: 0.6197\n",
            "Epoch 25/50\n",
            "62/62 [==============================] - 2s 26ms/step - loss: 0.6581 - accuracy: 0.6015\n",
            "Epoch 26/50\n",
            "62/62 [==============================] - 2s 25ms/step - loss: 0.6386 - accuracy: 0.6328\n",
            "Epoch 27/50\n",
            "62/62 [==============================] - 2s 26ms/step - loss: 0.6241 - accuracy: 0.6545\n",
            "Epoch 28/50\n",
            "62/62 [==============================] - 2s 26ms/step - loss: 0.6117 - accuracy: 0.6667\n",
            "Epoch 29/50\n",
            "62/62 [==============================] - 2s 26ms/step - loss: 0.6012 - accuracy: 0.6818\n",
            "Epoch 30/50\n",
            "62/62 [==============================] - 2s 26ms/step - loss: 0.5759 - accuracy: 0.7051\n",
            "Epoch 31/50\n",
            "62/62 [==============================] - 2s 26ms/step - loss: 0.5443 - accuracy: 0.7424\n",
            "Epoch 32/50\n",
            "62/62 [==============================] - 2s 26ms/step - loss: 0.5313 - accuracy: 0.7545\n",
            "Epoch 33/50\n",
            "62/62 [==============================] - 2s 26ms/step - loss: 0.4809 - accuracy: 0.7869\n",
            "Epoch 34/50\n",
            "62/62 [==============================] - 2s 26ms/step - loss: 0.3853 - accuracy: 0.8389\n",
            "Epoch 35/50\n",
            "62/62 [==============================] - 2s 26ms/step - loss: 0.3149 - accuracy: 0.8677\n",
            "Epoch 36/50\n",
            "62/62 [==============================] - 2s 26ms/step - loss: 0.2418 - accuracy: 0.9061\n",
            "Epoch 37/50\n",
            "62/62 [==============================] - 2s 26ms/step - loss: 0.1874 - accuracy: 0.9364\n",
            "Epoch 38/50\n",
            "62/62 [==============================] - 2s 26ms/step - loss: 0.2159 - accuracy: 0.9192\n",
            "Epoch 39/50\n",
            "62/62 [==============================] - 2s 26ms/step - loss: 0.0740 - accuracy: 0.9773\n",
            "Epoch 40/50\n",
            "62/62 [==============================] - 2s 26ms/step - loss: 0.0728 - accuracy: 0.9783\n",
            "Epoch 41/50\n",
            "62/62 [==============================] - 2s 26ms/step - loss: 0.0279 - accuracy: 0.9919\n",
            "Epoch 42/50\n",
            "62/62 [==============================] - 2s 26ms/step - loss: 0.0098 - accuracy: 0.9990\n",
            "Epoch 43/50\n",
            "62/62 [==============================] - 2s 26ms/step - loss: 0.0028 - accuracy: 1.0000\n",
            "Epoch 44/50\n",
            "62/62 [==============================] - 2s 26ms/step - loss: 0.0017 - accuracy: 1.0000\n",
            "Epoch 45/50\n",
            "62/62 [==============================] - 2s 26ms/step - loss: 0.0013 - accuracy: 1.0000\n",
            "Epoch 46/50\n",
            "62/62 [==============================] - 2s 26ms/step - loss: 0.0011 - accuracy: 1.0000\n",
            "Epoch 47/50\n",
            "62/62 [==============================] - 2s 26ms/step - loss: 8.8718e-04 - accuracy: 1.0000\n",
            "Epoch 48/50\n",
            "62/62 [==============================] - 2s 25ms/step - loss: 7.7315e-04 - accuracy: 1.0000\n",
            "Epoch 49/50\n",
            "62/62 [==============================] - 2s 26ms/step - loss: 6.7748e-04 - accuracy: 1.0000\n",
            "Epoch 50/50\n",
            "62/62 [==============================] - 2s 26ms/step - loss: 6.0569e-04 - accuracy: 1.0000\n"
          ]
        },
        {
          "data": {
            "text/plain": [
              "<keras.callbacks.History at 0x7f167c1da050>"
            ]
          },
          "execution_count": 163,
          "metadata": {},
          "output_type": "execute_result"
        }
      ],
      "source": [
        "model.fit(x_train,y_train,batch_size=32,epochs=50,verbose=1)"
      ]
    },
    {
      "cell_type": "code",
      "execution_count": null,
      "metadata": {
        "colab": {
          "base_uri": "https://localhost:8080/"
        },
        "id": "eJCjFgwpSyXM",
        "outputId": "7f7aafd1-1ab8-4775-f483-d0573fdcd1f8"
      },
      "outputs": [
        {
          "name": "stdout",
          "output_type": "stream",
          "text": [
            "7/7 [==============================] - 0s 12ms/step - loss: 2.5243 - accuracy: 0.5818\n"
          ]
        },
        {
          "data": {
            "text/plain": [
              "[2.5243170261383057, 0.581818163394928]"
            ]
          },
          "execution_count": 164,
          "metadata": {},
          "output_type": "execute_result"
        }
      ],
      "source": [
        "model.evaluate(x_test,y_test)"
      ]
    }
  ],
  "metadata": {
    "colab": {
      "collapsed_sections": [],
      "name": "CatsvsDogsClassification.ipynb",
      "provenance": []
    },
    "kernelspec": {
      "display_name": "Python 3 (ipykernel)",
      "language": "python",
      "name": "python3"
    },
    "language_info": {
      "codemirror_mode": {
        "name": "ipython",
        "version": 3
      },
      "file_extension": ".py",
      "mimetype": "text/x-python",
      "name": "python",
      "nbconvert_exporter": "python",
      "pygments_lexer": "ipython3",
      "version": "3.9.7"
    },
    "gpuClass": "standard"
  },
  "nbformat": 4,
  "nbformat_minor": 0
}